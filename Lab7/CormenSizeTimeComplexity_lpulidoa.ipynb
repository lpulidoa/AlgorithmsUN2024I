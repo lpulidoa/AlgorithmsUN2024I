{
  "nbformat": 4,
  "nbformat_minor": 0,
  "metadata": {
    "colab": {
      "provenance": [],
      "toc_visible": true
    },
    "kernelspec": {
      "name": "python3",
      "display_name": "Python 3"
    },
    "language_info": {
      "name": "python"
    }
  },
  "cells": [
    {
      "cell_type": "markdown",
      "metadata": {
        "id": "I5UAAxG2_CqQ"
      },
      "source": [
        "# **0. 1 microsecond by instruction**\n",
        "Asuuming that you can execute a million instructions $10^6$ every second, i.e. each instruction takes one microsecond $1\\mu s=10^{-6}$ seconds. If you have algorithms take $\\bf{ Time\\ Complexity}$ steps to solve a problem of size $n$ as specified in column one. What is the size of the largest problem that you can solve in the time specified in row one?\n",
        "\n",
        "$$\n",
        "\\begin{array}{|c|c|c|c|c|c|c|c|}\n",
        " \\hline\n",
        " \\bf{ Time\\ Complexity} & Second  & Minute  & Hour & Day & Year & Century & Mileniun  \\\\\n",
        "  \\hline\\\\\n",
        "\\lg(n) &  2^{10^9}   & 2^{6\\times 10^{10}} & 2^{3.6\\times 10^{12}} & 2^{8.64\\times 10^{13}} & 2^{3.1536\\times 10^{16}} & 2^{3.1536\\times 10^{18}} & 2^{3.136\\times 10^{21}} \\\\\n",
        "   \\hline\\\\\n",
        "\\lg^2(n) &  2^{ 1000 }  & 2^{ 7746 }  & 2^{ 60000 } & 2^{ 293939 } & 2^{ 5615692 } & 2^{ 56156923 } & 2^{ 1775837830 } \\\\\n",
        "   \\hline\\\\\n",
        "\\sqrt{n} & 10^{12}   & 3.6\\times 10^{15}  & 1.296\\times 10^{19} & 7.46496\\times 10^{21} & 9.94519296\\times 10^{26} & 9.94519296\\times 10^{30} & 9.94519296\\times 10^{36} \\\\\n",
        " \\hline\n",
        " n &  10\\times 10^{06}  & 6\\times 10^{07}  & 3.6\\times 10^{09} & 8.64\\times 10^{10} & 3.1536\\times 10^{13} & 3.1536\\times 10^{15} & 3.1536\\times 10^{18} \\\\\n",
        " \\hline\n",
        " n\\lg(n) & 6.2746\\times 10^{04}   & 2.801417\\times 10^{06}  & 1.33378058\\times 10^{08} & 2.75514751\\times 10^{09} & 7.97633893\\times 10^{11} & 6.86109568\\times 10^{13} & 5.66650934\\times 10^{16} \\\\\n",
        " \\hline\n",
        " n^2 &  1000  & 7746 & 60000 & 293939 & 5615692 & 56156923 & 1775837830 \\\\\n",
        " \\hline\n",
        "  n^3 &  100  & 391  & 1533 & 4421 & 31594 & 146646 & 1466455 \\\\\n",
        " \\hline\n",
        "  n^4 &  32  & 88  & 245 & 542 & 2370 & 7494 & 42141 \\\\\n",
        " \\hline\n",
        "  2^n &   19 & 25  & 31 & 36 & 44 & 51 & 61 \\\\\n",
        " \\hline\n",
        " n! &  9  &  11 & 12 & 13 & 16 & 17 & 20 \\\\\n",
        " \\hline\n",
        " n^n &   7 & 8  & 9 & 10 & 12 & 13 & 15 \\\\\n",
        " \\hline\n",
        "\\end{array}\n",
        "$$  "
      ]
    },
    {
      "cell_type": "code",
      "source": [
        "inst = 10**6"
      ],
      "metadata": {
        "id": "nCnV6Fn9c-6L"
      },
      "execution_count": null,
      "outputs": []
    },
    {
      "cell_type": "markdown",
      "source": [
        "### $\\bf{ Time\\ Complexity\\ \\lg(n) }$\n"
      ],
      "metadata": {
        "id": "tJEWrYdscMo0"
      }
    },
    {
      "cell_type": "markdown",
      "source": [
        "\n",
        "$Second$\n",
        "$$ \\lg(n) \\times 10^{-6}\\ s\\le 1\\ s$$\n",
        "$$ \\lg(n) \\le 1 \\times 10^{6}$$\n",
        "\n",
        "$Minute$\n",
        "$$ \\lg(n) \\times 10^{-6} \\ s \\le 60\\ s$$\n",
        "$$ \\lg(n) \\le 60 \\times 10^{6} $$\n",
        "\n",
        "$Hour$\n",
        "$$ \\lg(n) \\times 10^{-6} \\ s \\le 3600\\ s$$\n",
        "$$ \\lg(n) \\le 3600 \\times 10^{6} $$\n",
        "\n",
        "$Day$\n",
        "$$ \\lg(n) \\times 10^{-6} \\ s \\le 86400\\ s$$\n",
        "$$ \\lg(n) \\le 86400\\times 10^{6} $$\n",
        "\n",
        "$Year$\n",
        "$$ \\lg(n) \\times 10^{-6} \\ s \\le 31536000\\ s$$\n",
        "$$ \\lg(n) \\le 31536000\\times 10^{6} $$\n",
        "\n",
        "$Century$\n",
        "$$ \\lg(n) \\times 10^{-6} \\ s \\le 3153600000\\ s$$\n",
        "$$ \\lg(n) \\le 3153600000\\times 10^{6} $$\n",
        "\n",
        "$Mileniun$\n",
        "$$ \\lg(n) \\times 10^{-6} \\ s \\le 3153600000000\\ s$$\n",
        "$$ \\lg(n) \\le 3153600000000\\times 10^{6} $$"
      ],
      "metadata": {
        "id": "DfYyQcYfdqkM"
      }
    },
    {
      "cell_type": "code",
      "source": [
        "print(\"Second  = 2^\", \"{:.8E}\".format(inst))\n",
        "print(\"Minute  = 2^\", \"{:.8E}\".format(60*inst))\n",
        "print(\"Hour  = 2^\", \"{:.8E}\".format(60*60*inst))\n",
        "print(\"Day  = 2^\", \"{:.8E}\".format(60*60*24*inst))\n",
        "print(\"Year  = 2^\", \"{:.8E}\".format(365*24*60*60*inst))\n",
        "print(\"Century  = 2^\", \"{:.8E}\".format(100*365*24*60*60*inst))\n",
        "print(\"Mileniun  = 2^\", \"{:.8E}\".format(1000*100*365*24*60*60*inst))"
      ],
      "metadata": {
        "colab": {
          "base_uri": "https://localhost:8080/"
        },
        "id": "2ZyS8Ma8OVoe",
        "outputId": "47000b6b-9fe8-4c96-a94c-77d8823e49e8"
      },
      "execution_count": null,
      "outputs": [
        {
          "output_type": "stream",
          "name": "stdout",
          "text": [
            "Second  = 2^ 1.00000000E+09\n",
            "Minute  = 2^ 6.00000000E+10\n",
            "Hour  = 2^ 3.60000000E+12\n",
            "Day  = 2^ 8.64000000E+13\n",
            "Year  = 2^ 3.15360000E+16\n",
            "Century  = 2^ 3.15360000E+18\n",
            "Mileniun  = 2^ 3.15360000E+21\n"
          ]
        }
      ]
    },
    {
      "cell_type": "markdown",
      "source": [
        "###$\\bf{ Time\\ Complexity\\ \\lg^2(n) }$\n"
      ],
      "metadata": {
        "id": "38hVtM-1cppt"
      }
    },
    {
      "cell_type": "markdown",
      "source": [
        "\n",
        "$Second$\n",
        "$$ \\lg^2(n) \\times 10^{-6} \\ s\\le 1\\ s$$\n",
        "$$ \\lg(n) \\le \\sqrt{1 * 10^{6} }$$\n",
        "\n",
        "$Minute$\n",
        "$$ \\lg^2(n) \\times 10^{-6} \\ s \\le 60\\ s$$\n",
        "$$ \\lg(n) \\le \\sqrt{60 \\times 10^{6} }$$\n",
        "$Hour$\n",
        "$$ \\lg^2(n) \\times 10^{-6} \\ s \\le 3600\\ s$$\n",
        "$$ \\lg(n) \\le \\sqrt{3600 \\times 10^{6} }$$\n",
        "$Day$\n",
        "$$ \\lg^2(n) \\times 10^{-6} \\ s \\le 86400\\ s$$\n",
        "$$ \\lg(n) \\le \\sqrt{86400\\times 10^{6} }$$\n",
        "\n",
        "$Year$\n",
        "$$ \\lg^2(n) \\times 10^{-6} \\ s \\le 31536000\\ s$$\n",
        "$$ \\lg(n) \\le \\sqrt{31536000\\times 10^{6} }$$\n",
        "\n",
        "$Century$\n",
        "$$ \\lg^2(n) \\times 10^{-6} \\ s \\le 3153600000\\ s$$\n",
        "$$ \\lg(n) \\le \\sqrt{3153600000\\times 10^{6} }$$\n",
        "\n",
        "$Mileniun$\n",
        "$$ \\lg^2(n) \\times 10^{-6} \\ s \\le 3153600000000\\ s$$\n",
        "$$ \\lg(n) \\le \\sqrt{3153600000000\\times 10^{6} }$$"
      ],
      "metadata": {
        "id": "i3bzQQ48dlRd"
      }
    },
    {
      "cell_type": "code",
      "source": [
        "import math\n",
        "print(\"Second 2^{\",round(math.sqrt(inst)),\"}\")\n",
        "print(\"Minute 2^{\",round(math.sqrt(60*inst)),\"}\")\n",
        "print(\"Hour 2^{\",round(math.sqrt(60*60*inst)),\"}\")\n",
        "print(\"Day 2^{\",round(math.sqrt(24*60*60*inst)),\"}\")\n",
        "print(\"Year 2^{\",round(math.sqrt(365*24*60*60*inst)),\"}\")\n",
        "print(\"Century 2^{\",round(math.sqrt(100*365*24*60*60*inst)),\"}\")\n",
        "print(\"Mileniun 2^{\",round(math.sqrt(1000*100*365*24*60*60*inst)),\"}\")"
      ],
      "metadata": {
        "colab": {
          "base_uri": "https://localhost:8080/"
        },
        "id": "cXXVyQL7c6hM",
        "outputId": "ff0c4f76-09c8-4338-e026-ed0bc7eabbfc"
      },
      "execution_count": null,
      "outputs": [
        {
          "output_type": "stream",
          "name": "stdout",
          "text": [
            "Second 2^{ 1000 }\n",
            "Minute 2^{ 7746 }\n",
            "Hour 2^{ 60000 }\n",
            "Day 2^{ 293939 }\n",
            "Year 2^{ 5615692 }\n",
            "Century 2^{ 56156923 }\n",
            "Mileniun 2^{ 1775837830 }\n"
          ]
        }
      ]
    },
    {
      "cell_type": "markdown",
      "source": [
        "###$\\bf{ Time\\ Complexity\\ \\sqrt{n} }$"
      ],
      "metadata": {
        "id": "kIj5f7iTdKlJ"
      }
    },
    {
      "cell_type": "markdown",
      "source": [
        "$Second$\n",
        "$$  \\sqrt{n}  \\times 10^{-6} \\ s\\le 1\\ s$$\n",
        "$$  \\sqrt{n}  \\le 10^{6}  $$\n",
        "\n",
        "$Minute$\n",
        "$$  \\sqrt{n} \\times 10^{-6} \\ s\\le 60\\ s$$\n",
        "$$  \\sqrt{n}  \\le 60 \\times 10^{6} $$\n",
        "\n",
        "$Hour$\n",
        "$$  \\sqrt{n}\\times 10^{-6} \\ s\\le 3600\\ s$$\n",
        "$$  \\sqrt{n} \\le 3600 \\times 10^{6}$$\n",
        "\n",
        "$Day$\n",
        "$$  \\sqrt{n} \\times 10^{-6} \\ s\\le 84600\\ s$$\n",
        "$$  \\sqrt{n}\\le 84600 \\times 10^{6} $$\n",
        "\n",
        "$Year$\n",
        "$$  \\sqrt{n} \\times 10^{-6} \\ s\\le 31536000\\ s$$\n",
        "$$  \\sqrt{n} \\le 31536000 \\times 10^{6} $$\n",
        "\n",
        "$Century$\n",
        "$$  \\sqrt{n} \\times 10^{-6} \\ s\\le 3153600000\\ s$$\n",
        "$$  \\sqrt{n} \\le 3153600000 \\times 10^{6} $$\n",
        "\n",
        "$Mileniun$\n",
        "$$  \\sqrt{n} \\times 10^{-6} \\ s\\le 3153600000000\\ s$$\n",
        "$$  \\sqrt{n} \\le 3153600000000 \\times 10^{6} $$"
      ],
      "metadata": {
        "id": "Tf48C6phdhvc"
      }
    },
    {
      "cell_type": "code",
      "source": [
        "import math\n",
        "print(\"Second \", \"{:.8E}\".format(math.pow(inst,2)))\n",
        "print(\"Minute  \",\"{:.8E}\".format(math.pow(60*inst,2)))\n",
        "print(\"Hour \",\"{:.8E}\".format(math.pow(60*60*inst,2)))\n",
        "print(\"Day \",\"{:.8E}\".format(math.pow(24*60*60*inst,2)))\n",
        "print(\"Year \",\"{:.8E}\".format(math.pow(365*24*60*60*inst,2)))\n",
        "print(\"Century \",\"{:.8E}\".format(math.pow(100*365*24*60*60*inst,2)))\n",
        "print(\"Mileniun  \",\"{:.8E}\".format(math.pow(1000*100*365*24*60*60*inst,2)))"
      ],
      "metadata": {
        "colab": {
          "base_uri": "https://localhost:8080/"
        },
        "id": "fQ1TmaeKdcdU",
        "outputId": "8abbd843-1823-4d20-c3d9-f1c72ad40fac"
      },
      "execution_count": null,
      "outputs": [
        {
          "output_type": "stream",
          "name": "stdout",
          "text": [
            "Second  1.00000000E+12\n",
            "Minute   3.60000000E+15\n",
            "Hour  1.29600000E+19\n",
            "Day  7.46496000E+21\n",
            "Year  9.94519296E+26\n",
            "Century  9.94519296E+30\n",
            "Mileniun   9.94519296E+36\n"
          ]
        }
      ]
    },
    {
      "cell_type": "markdown",
      "source": [
        "### $\\bf{ Time\\ Complexity\\ n }$"
      ],
      "metadata": {
        "id": "7yJcZvKd49Cl"
      }
    },
    {
      "cell_type": "markdown",
      "source": [
        "\n",
        "\n",
        "$Second$\n",
        "$$  n  \\times 10^{-6} \\ s\\le 1\\ s$$\n",
        "$$  n \\le  10^{6} $$\n",
        "\n",
        "\n",
        "$Minute$\n",
        "$$  n \\times 10^{-6} \\ s\\le 60\\ s$$\n",
        "$$  n \\le 60 \\times 10^{6} $$\n",
        "\n",
        "\n",
        "$Hour$\n",
        "$$  n \\times 10^{-6} \\ s\\le 3600\\ s$$\n",
        "$$  n \\le 3600 \\times 10^{6}  = 3.6 \\times 10^{9}$$\n",
        "\n",
        "\n",
        "$Day$\n",
        "$$  n \\times 10^{-6} \\ s\\le 84600\\ s$$\n",
        "$$  n \\le 84600 \\times 10^{6}  = 8.46 \\times 10^{10}$$\n",
        "\n",
        "\n",
        "$Year$\n",
        "$$  n \\times 10^{-6} \\ s\\le 31536000\\ s$$\n",
        "$$  n \\le 31536000 \\times 10^{6}   = 3.153 \\times 10^{13}$$\n",
        "\n",
        "\n",
        "\n",
        "$Century$\n",
        "$$  n \\times 10^{-6} \\ s\\le 3153600000\\ s$$\n",
        "$$  n \\le 3153600000 \\times 10^{6}  = 3.153 \\times 10^{15}$$\n",
        "\n",
        "\n",
        "$Mileniun$\n",
        "$$  n \\times 10^{-6} \\ s\\le 3153600000000\\ s$$\n",
        "$$  n \\le 3153600000000 \\times 10^{6}  = 3.153 \\times 10^{18}$$"
      ],
      "metadata": {
        "id": "OUR-xS4o475e"
      }
    },
    {
      "cell_type": "code",
      "source": [
        "import math\n",
        "print(\"Second \", \"{:.8E}\".format(inst))\n",
        "print(\"Minute  \",\"{:.8E}\".format(60*inst))\n",
        "print(\"Hour \",\"{:.8E}\".format(60*60*inst))\n",
        "print(\"Day \",\"{:.8E}\".format(24*60*60*inst))\n",
        "print(\"Year \",\"{:.8E}\".format(365*24*60*60*inst))\n",
        "print(\"Century \",\"{:.8E}\".format(100*365*24*60*60*inst))\n",
        "print(\"Mileniun  \",\"{:.8E}\".format(1000*100*365*24*60*60*inst))"
      ],
      "metadata": {
        "colab": {
          "base_uri": "https://localhost:8080/"
        },
        "id": "ZcB25X4w5MBF",
        "outputId": "90335965-8339-4aba-c4a4-c1873f912f5d"
      },
      "execution_count": null,
      "outputs": [
        {
          "output_type": "stream",
          "name": "stdout",
          "text": [
            "Second  1.00000000E+06\n",
            "Minute   6.00000000E+07\n",
            "Hour  3.60000000E+09\n",
            "Day  8.64000000E+10\n",
            "Year  3.15360000E+13\n",
            "Century  3.15360000E+15\n",
            "Mileniun   3.15360000E+18\n"
          ]
        }
      ]
    },
    {
      "cell_type": "markdown",
      "source": [
        "###$\\bf{ Time\\ Complexity\\ n\\lg{n} }$\n"
      ],
      "metadata": {
        "id": "-_k3Wf9z5RJ_"
      }
    },
    {
      "cell_type": "markdown",
      "source": [
        "\n",
        "$Second$\n",
        "$$   n\\lg{n}  \\times 10^{-6} \\ s\\le 1\\ s$$\n",
        "$$   n\\lg{n} \\le  10^{6} $$\n",
        "\n",
        "\n",
        "$Minute$\n",
        "$$   n\\lg{n} \\times 10^{-6} \\ s\\le 60\\ s$$\n",
        "$$   n\\lg{n} \\le 60 \\times 10^{6} $$\n",
        "\n",
        "\n",
        "$Hour$\n",
        "$$   n\\lg{n} \\times 10^{-6} \\ s\\le 3600\\ s$$\n",
        "$$   n\\lg{n} \\le 3600 \\times 10^{6} $$\n",
        "\n",
        "\n",
        "$Day$\n",
        "$$   n\\lg{n} \\times 10^{-6} \\ s\\le 84600\\ s$$\n",
        "$$   n\\lg{n} \\le 84600 \\times 10^{6} $$\n",
        "\n",
        "\n",
        "$Year$\n",
        "$$   n\\lg{n} \\times 10^{-6} \\ s\\le 31536000\\ s$$\n",
        "$$   n\\lg{n} \\le 31536000 \\times 10^{6} $$\n",
        "\n",
        "\n",
        "\n",
        "$Century$\n",
        "$$   n\\lg{n} \\times 10^{-6} \\ s\\le 3153600000\\ s$$\n",
        "$$   n\\lg{n} \\le 3153600000 \\times 10^{6} $$\n",
        "\n",
        "\n",
        "$Mileniun$\n",
        "$$   n\\lg{n} \\times 10^{-6} \\ s\\le 3153600000000\\ s$$\n",
        "$$  n \\le 3153600000000 \\times 10^{6} $$"
      ],
      "metadata": {
        "id": "mWpxaMQW5OCF"
      }
    },
    {
      "cell_type": "code",
      "source": [
        "import math\n",
        "def f(n):\n",
        "  return n*math.log2(n)\n",
        "\n",
        "\n",
        "def find(f,v):\n",
        "  l = 1\n",
        "  r = v\n",
        "  while True:\n",
        "    m = int((l+r)/2)\n",
        "    if ((f(m+1) > v) and (f(m) <= v) ) or (l == m) or  (r == m):\n",
        "      return int(m)\n",
        "    elif f(m) < v:\n",
        "      l = m\n",
        "    else:\n",
        "      r = m\n",
        "\n",
        "print(\"Second \", find(f,inst),\" = \", \"{:.8E}\".format(find(f,inst )))\n",
        "print(\"Minute  \",find(f,60*inst),\" = \", \"{:.8E}\".format(find(f,60*inst )))\n",
        "print(\"Hour \",find(f,60*60*inst),\" = \", \"{:.8E}\".format(find(f,60*60*inst )))\n",
        "print(\"Day \",find(f,24*60*60*inst ),\" = \", \"{:.8E}\".format(find(f,24*60*60*inst )) )\n",
        "print(\"Year \",find(f,365*24*60*60*inst ),\" = \", \"{:.8E}\".format(find(f,365*24*60*60*inst )) )\n",
        "print(\"Century \",find(f,100*365*24*60*60*inst ),\" = \", \"{:.8E}\".format(find(f,100*365*24*60*60*inst )) )\n",
        "print(\"Mileniun \",find(f,1000*100*365*24*60*60*inst ),\" = \", \"{:.8E}\".format(find(f,1000*100*365*24*60*60*inst )) )"
      ],
      "metadata": {
        "colab": {
          "base_uri": "https://localhost:8080/"
        },
        "id": "r4Tv621n5Z1n",
        "outputId": "2e1cae0a-727c-4374-dd9a-8c16e3bf7371"
      },
      "execution_count": null,
      "outputs": [
        {
          "output_type": "stream",
          "name": "stdout",
          "text": [
            "Second  62746  =  6.27460000E+04\n",
            "Minute   2801417  =  2.80141700E+06\n",
            "Hour  133378058  =  1.33378058E+08\n",
            "Day  2755147513  =  2.75514751E+09\n",
            "Year  797633893349  =  7.97633893E+11\n",
            "Century  68610956750570  =  6.86109568E+13\n",
            "Mileniun  56665093434063120  =  5.66650934E+16\n"
          ]
        }
      ]
    },
    {
      "cell_type": "markdown",
      "source": [
        "###$\\bf{ Time\\ Complexity\\ n^2}$"
      ],
      "metadata": {
        "id": "8C3QjiD85iYH"
      }
    },
    {
      "cell_type": "markdown",
      "source": [
        "\n",
        "\n",
        "$Second$\n",
        "$$  n^2 \\times 10^{-6} \\ s\\le 1\\ s$$\n",
        "$$  n^2 \\le  10^{6} $$\n",
        "$$ \\sqrt{n^2} \\le \\sqrt{10^{6} }$$\n",
        "\n",
        "\n",
        "$Minute$\n",
        "$$  n^2\\times 10^{-6} \\ s\\le 60\\ s$$\n",
        "$$  n^2 \\le 60 \\times 10^{6} $$\n",
        "$$ \\sqrt{n^2} \\le \\sqrt{60 \\times10^{6} }$$\n",
        "\n",
        "  \n",
        "$Hour$\n",
        "$$  n^2 \\times 10^{-6} \\ s\\le 3600\\ s$$\n",
        "$$ n^2 \\le 3600 \\times 10^{6} $$\n",
        "$$ \\sqrt{n^2} \\le \\sqrt{3.6 \\times10^{8}}$$\n",
        "\n",
        "\n",
        "$Day$\n",
        "$$  n^2 \\times 10^{-6} \\ s\\le 84600\\ s$$\n",
        "$$  n^2 \\le 84600 \\times 10^{6} $$\n",
        "$$ \\sqrt{n^2} \\le \\sqrt{8.46 \\times10^{9}}$$\n",
        "\n",
        "\n",
        "$Year$\n",
        "$$  n^2 \\times 10^{-6} \\ s\\le 31536000\\ s$$\n",
        "$$  n^2 \\le 31536000 \\times 10^{6} $$\n",
        "$$ \\sqrt{n^2} \\le \\sqrt{3.1536 \\times10^{12}}$$\n",
        "\n",
        "\n",
        "$Century$\n",
        "$$  n^2 \\times 10^{-6} \\ s\\le 3153600000\\ s$$\n",
        "$$  n^2 \\le 3153600000 \\times 10^{6} $$\n",
        "$$ \\sqrt{n^2} \\le \\sqrt{3.1536 \\times10^{14}}$$\n",
        "\n",
        "\n",
        "$Mileniun$\n",
        "$$  n^2 \\times 10^{-6} \\ s\\le 3153600000000\\ s$$\n",
        "$$ n^2 \\le 3153600000000 \\times 10^{6} $$\n",
        "$$ \\sqrt{n^2} \\le \\sqrt{3.1536 \\times10^{17}}$$\n",
        "\n"
      ],
      "metadata": {
        "id": "S3eSrr1C5g7n"
      }
    },
    {
      "cell_type": "code",
      "source": [
        "import math\n",
        "print(\"Second \",round(math.sqrt(inst )))\n",
        "print(\"Minute  \",round(math.sqrt(60*inst )))\n",
        "print(\"Hour \",round(math.sqrt(60*60*inst )))\n",
        "print(\"Day \",round(math.sqrt(24*60*60*inst )))\n",
        "print(\"Year \",round(math.sqrt(365*24*60*60*inst )))\n",
        "print(\"Century \",round(math.sqrt(100*365*24*60*60*inst )))\n",
        "print(\"Mileniun \",round(math.sqrt(1000*100*365*24*60*60*inst )))"
      ],
      "metadata": {
        "colab": {
          "base_uri": "https://localhost:8080/"
        },
        "id": "T6a0gfi_51Bu",
        "outputId": "d7981f32-f96c-4c42-b1f6-c1b6f15f7acd"
      },
      "execution_count": null,
      "outputs": [
        {
          "output_type": "stream",
          "name": "stdout",
          "text": [
            "Second  1000\n",
            "Minute   7746\n",
            "Hour  60000\n",
            "Day  293939\n",
            "Year  5615692\n",
            "Century  56156923\n",
            "Mileniun  1775837830\n"
          ]
        }
      ]
    },
    {
      "cell_type": "markdown",
      "source": [
        "###$\\bf{ Time\\ Complexity\\ n^3 }$\n"
      ],
      "metadata": {
        "id": "B1osBTrg58_2"
      }
    },
    {
      "cell_type": "markdown",
      "source": [
        "\n",
        "$Second$\n",
        "$$  n^3 \\times 10^{-6} \\ s\\le 1\\ s$$\n",
        "$$  n^3 \\le  10^{6} $$\n",
        "$$ \\sqrt[3]{n^3} \\le \\sqrt[3]{10^{6} }$$\n",
        "\n",
        "$Minute$\n",
        "$$  n^3 \\times 10^{-6} \\ s\\le 60\\ s$$\n",
        "$$  n^3 \\le 60 \\times 10^{6} $$\n",
        "$$ \\sqrt[3]{n^3} \\le \\sqrt[3]{60 \\times10^{6} }$$\n",
        "  \n",
        "$Hour$\n",
        "$$  n^3 \\times 10^{-6} \\ s\\le 3600\\ s$$\n",
        "$$  n^3 \\le 3600 \\times 10^{6} $$\n",
        "$$ \\sqrt[3]{n^3 } \\le \\sqrt[3]{3.6 \\times10^{9}}$$\n",
        "\n",
        "$Day$\n",
        "$$  n^3 \\times 10^{-6} \\ s\\le 84600\\ s$$\n",
        "$$  n^3 \\le 84600 \\times 10^{6} $$\n",
        "$$ \\sqrt[3]{n^3} \\le \\sqrt[3]{8.46 \\times10^{10}}$$\n",
        "\n",
        "$Year$\n",
        "$$  n^3 \\times 10^{-6} \\ s\\le 31536000\\ s$$\n",
        "$$  n^3 \\le 31536000 \\times 10^{6} $$\n",
        "$$ \\sqrt[3]{n^3} \\le \\sqrt[3]{3.1536 \\times10^{13}}$$\n",
        "\n",
        "$Century$\n",
        "$$  n^3 \\times 10^{-6} \\ s\\le 3153600000\\ s$$\n",
        "$$  n^3 \\le 3153600000 \\times 10^{6} $$\n",
        "$$ \\sqrt[3]{n^3} \\le \\sqrt[3]{3.1536 \\times10^{15}}$$\n",
        "\n",
        "$Mileniun$\n",
        "$$  n^3 \\times 10^{-6} \\ s\\le 3153600000000\\ s$$\n",
        "$$  n^3 \\le 3153600000000 \\times 10^{6} $$\n",
        "$$ \\sqrt[3]{n^3} \\le \\sqrt[3]{3.1536 \\times10^{18}}$$"
      ],
      "metadata": {
        "id": "pe4bAr4f5_vD"
      }
    },
    {
      "cell_type": "code",
      "source": [
        "import math\n",
        "print(\"Second \",round(math.pow(inst ,1/3)))\n",
        "print(\"Minute  \",round(math.pow(60*inst ,1/3)))\n",
        "print(\"Hour \",round(math.pow(60*60*inst ,1/3)))\n",
        "print(\"Day \",round(math.pow(24*60*60*inst ,1/3)))\n",
        "print(\"Year \",round(math.pow(365*24*60*60*inst ,1/3)))\n",
        "print(\"Century \",round(math.pow(100*365*24*60*60*inst ,1/3)))\n",
        "print(\"Mileniun \",round(math.pow(1000*100*365*24*60*60*inst ,1/3)))"
      ],
      "metadata": {
        "colab": {
          "base_uri": "https://localhost:8080/"
        },
        "id": "qPU5DF8r6NOM",
        "outputId": "5fa72a24-d82e-4699-d293-af8416c362d4"
      },
      "execution_count": null,
      "outputs": [
        {
          "output_type": "stream",
          "name": "stdout",
          "text": [
            "Second  100\n",
            "Minute   391\n",
            "Hour  1533\n",
            "Day  4421\n",
            "Year  31594\n",
            "Century  146646\n",
            "Mileniun  1466455\n"
          ]
        }
      ]
    },
    {
      "cell_type": "markdown",
      "source": [
        "###$\\bf{ Time\\ Complexity\\ n^4 }$\n",
        "\n",
        "\n",
        "\n",
        "  "
      ],
      "metadata": {
        "id": "ISCXb9ba6Wk-"
      }
    },
    {
      "cell_type": "markdown",
      "source": [
        "$Second$\n",
        "$$  n^4 \\times 10^{-6} \\ s\\le 1\\ s$$\n",
        "$$  n^4\\le  10^{6} $$\n",
        "$$ n \\le \\sqrt[4]{10^{6} }$$\n",
        "\n",
        "$Minute$\n",
        "$$  n^4 \\times 10^{-6} \\ s\\le 60\\ s$$\n",
        "$$  n^4 \\le 60 \\times 10^{6} $$\n",
        "$$ n \\le \\sqrt[4]{60 \\times10^{6} }$$\n",
        "  \n",
        "$Hour$\n",
        "$$  n^4 \\times 10^{-6} \\ s\\le 3600\\ s$$\n",
        "$$  n^4 \\le 3600 \\times 10^{6} $$\n",
        "$$ n \\le \\sqrt[4]{3.6 \\times10^{9}}$$\n",
        "\n",
        "$Day$\n",
        "$$  n^4 \\times 10^{-6} \\ s\\le 84600\\ s$$\n",
        "$$  n^4 \\le 84600 \\times 10^{6} $$\n",
        "$$ n \\le \\sqrt[4]{8.46 \\times10^{10}}$$\n",
        "\n",
        "$Year$\n",
        "$$  n^4 \\times 10^{-6} \\ s\\le 31536000\\ s$$\n",
        "$$  n^4 \\le 31536000 \\times 10^{6} $$\n",
        "$$ n \\le \\sqrt[4]{3.1536 \\times10^{13}}$$\n",
        "\n",
        "$Century$\n",
        "$$  n^4 \\times 10^{-6} \\ s\\le 3153600000\\ s$$\n",
        "$$  n^4 \\le 3153600000 \\times 10^{6} $$\n",
        "$$ n \\le \\sqrt[4]{3.1536 \\times10^{15}}$$\n",
        "\n",
        "$Mileniun$\n",
        "$$  n^4 \\times 10^{-6} \\ s\\le 3153600000000\\ s$$\n",
        "$$  n^4 \\le 3153600000000 \\times 10^{6} $$\n",
        "$$ n \\le \\sqrt[4]{3.1536 \\times10^{18}}$$"
      ],
      "metadata": {
        "id": "Lns3orbL6bM1"
      }
    },
    {
      "cell_type": "code",
      "source": [
        "import math\n",
        "print(\"Second \",round(math.pow(inst ,1/4)))\n",
        "print(\"Minute  \",round(math.pow(60*inst ,1/4)))\n",
        "print(\"Hour \",round(math.pow(60*60*inst ,1/4)))\n",
        "print(\"Day \",round(math.pow(24*60*60*inst ,1/4)))\n",
        "print(\"Year \",round(math.pow(365*24*60*60*inst ,1/4)))\n",
        "print(\"Century \",round(math.pow(100*365*24*60*60*inst ,1/4)))\n",
        "print(\"Mileniun \",round(math.pow(1000*100*365*24*60*60*inst ,1/4)))"
      ],
      "metadata": {
        "colab": {
          "base_uri": "https://localhost:8080/"
        },
        "id": "wFf_0Gql6urG",
        "outputId": "a5ca5b17-6edd-41ea-aa20-c9238a4a5a1d"
      },
      "execution_count": null,
      "outputs": [
        {
          "output_type": "stream",
          "name": "stdout",
          "text": [
            "Second  32\n",
            "Minute   88\n",
            "Hour  245\n",
            "Day  542\n",
            "Year  2370\n",
            "Century  7494\n",
            "Mileniun  42141\n"
          ]
        }
      ]
    },
    {
      "cell_type": "markdown",
      "source": [
        "###$\\bf{ Time\\ Complexity\\ 2^n }$\n",
        "\n"
      ],
      "metadata": {
        "id": "wtb6BOHe63Bz"
      }
    },
    {
      "cell_type": "markdown",
      "source": [
        "$Second$\n",
        "$$  2^n  \\times 10^{-6} \\ s\\le 1\\ s$$\n",
        "$$  2^n \\le  10^{6} $$\n",
        "$$  \\lg(2^n) \\le  \\lg(10^{6} )$$\n",
        "$$  n \\le  \\lg(10^{6} )$$\n",
        "\n",
        "$Minute$\n",
        "$$  2^n  \\times 10^{-6} s \\le 60\\ s$$\n",
        "$$  2^n \\le   60 \\times  10^{6} $$\n",
        "$$  \\lg(2^n) \\le  \\lg(60 \\times  10^{6} )$$\n",
        "$$  n \\le  \\lg(10^{60 \\times  10^{6} })$$\n",
        "\n",
        "\n",
        "$Hour$\n",
        "$$  2^n  \\times 10^{-6} s \\le 3600\\ s$$\n",
        "$$  2^n \\le   3600 \\times  10^{6} $$\n",
        "$$  \\lg(2^n) \\le  \\lg(3.6 \\times  10^{8})$$\n",
        "$$  n \\le  \\lg(10^{3.6 \\times  10^{8}})$$\n",
        "\n",
        "$Day$\n",
        "$$  2^n  \\times 10^{-6} s \\le  84600\\ s$$\n",
        "$$  2^n \\le    84600\\times  10^{6} $$\n",
        "$$  \\lg(2^n) \\le  \\lg( 8.46 \\times  10^{9})$$\n",
        "$$  n \\le  \\lg(10^{8.46 \\times  10^{9}})$$\n",
        "\n",
        "$Year$\n",
        "$$  2^n  \\times 10^{-6} s \\le  31536000\\ s$$\n",
        "$$  2^n \\le    31536000\\times  10^{6} $$\n",
        "$$  \\lg(2^n) \\le  \\lg( 3.1536 \\times  10^{12})$$\n",
        "$$  n \\le  \\lg(10^{3.1536 \\times  10^{12}})$$\n",
        "\n",
        "$Century$\n",
        "$$  2^n  \\times 10^{-6} s \\le  3153600000\\ s$$\n",
        "$$  2^n \\le    3153600000\\times  10^{6} $$\n",
        "$$  \\lg(2^n) \\le  \\lg( 3.1536 \\times  10^{14})$$\n",
        "$$  n \\le  \\lg(10^{3.1536 \\times  10^{14}})$$\n",
        "\n",
        "\n",
        "$Mileniun$\n",
        "$$  2^n  \\times 10^{-6} s \\le  3153600000000\\ s$$\n",
        "$$  2^n \\le    3153600000000\\times  10^{6} $$\n",
        "$$  \\lg(2^n) \\le  \\lg( 3.1536 \\times  10^{18})$$\n",
        "$$  n \\le  \\lg(10^{3.1536 \\times  10^{18}})$$"
      ],
      "metadata": {
        "id": "TyWmmSDV66OE"
      }
    },
    {
      "cell_type": "code",
      "source": [
        "import math\n",
        "print(\"Second \",int(math.log2(inst )))\n",
        "print(\"Minute  \",int(math.log2(60*inst )))\n",
        "print(\"Hour \",int(math.log2(60*60*inst )))\n",
        "print(\"Day \",int(math.log2(24*60*60*inst )))\n",
        "print(\"Year \",int(math.log2(365*24*60*60*inst )))\n",
        "print(\"Century \",int(math.log2(100*365*24*60*60*inst )))\n",
        "print(\"Mileniun \",int(math.log2(1000*100*365*24*60*60*inst )))"
      ],
      "metadata": {
        "colab": {
          "base_uri": "https://localhost:8080/"
        },
        "id": "gt57ccUJ7PU4",
        "outputId": "0fce298c-dec0-4c76-f567-ec9f692f7ca5"
      },
      "execution_count": null,
      "outputs": [
        {
          "output_type": "stream",
          "name": "stdout",
          "text": [
            "Second  19\n",
            "Minute   25\n",
            "Hour  31\n",
            "Day  36\n",
            "Year  44\n",
            "Century  51\n",
            "Mileniun  61\n"
          ]
        }
      ]
    },
    {
      "cell_type": "markdown",
      "source": [
        "###$\\bf{ Time\\ Complexity\\ n! }$\n",
        "\n"
      ],
      "metadata": {
        "id": "dDHsqiFW-xW0"
      }
    },
    {
      "cell_type": "markdown",
      "source": [
        "$Second$\n",
        "$$  n!  \\times 10^{-6} \\ s\\le 1\\ s$$\n",
        "$$  n! \\le  10^{6} $$\n",
        "\n",
        "\n",
        "$Minute$\n",
        "$$  n! \\times 10^{-6} \\ s\\le 60\\ s$$\n",
        "$$  n! \\le 60 \\times 10^{6} $$\n",
        "\n",
        "$Hour$\n",
        "$$  n! \\times 10^{-6} \\ s\\le 3600\\ s$$\n",
        "$$  n! \\le 3600 \\times 10^{6}  = 3.6 \\times 10^{9}$$\n",
        "\n",
        "\n",
        "$Day$\n",
        "$$  n! \\times 10^{-6} \\ s\\le 84600\\ s$$\n",
        "$$  n! \\le 84600 \\times 10^{6}  = 8.46 \\times 10^{10}$$\n",
        "\n",
        "$Year$\n",
        "$$  n! \\times 10^{-6} \\ s\\le 31536000\\ s$$\n",
        "$$  n! \\le 31536000 \\times 10^{6}   = 3.153 \\times 10^{13}$$\n",
        "\n",
        "$Century$\n",
        "$$  n! \\times 10^{-6} \\ s\\le 3153600000\\ s$$\n",
        "$$  n! \\le 3153600000 \\times 10^{6}  = 3.153 \\times 10^{15}$$\n",
        "\n",
        "$Mileniun$\n",
        "$$  n! \\times 10^{-6} \\ s\\le 3153600000000\\ s$$\n",
        "$$  n! \\le 3153600000000 \\times 10^{6}  = 3.153 \\times 10^{18}$$"
      ],
      "metadata": {
        "id": "fEchnUa9-1Et"
      }
    },
    {
      "cell_type": "code",
      "source": [
        "import math\n",
        "def f(n):\n",
        "  return math.factorial(n)\n",
        "\n",
        "def find(f,v):\n",
        "  l = 1\n",
        "  r = 100\n",
        "  while True:\n",
        "    m = int((l+r)/2)\n",
        "    if ((f(m+1) > v) and (f(m) <= v) ) or (l == m) or (r== m):\n",
        "      return int(m)\n",
        "    elif f(m) < v:\n",
        "      l = m\n",
        "    else:\n",
        "      r = m\n",
        "\n",
        "\n",
        "print(\"Second \", find(f,inst ))\n",
        "print(\"Minute  \",find(f,60*inst ))\n",
        "print(\"Hour \",find(f,60*60*inst ))\n",
        "print(\"Day \",find(f,24*60*60*inst ))\n",
        "print(\"Year \",find(f,365*24*60*60*inst ))\n",
        "print(\"Century \",find(f,100*365*24*60*60*inst ))\n",
        "print(\"Mileniun \",find(f,1000*100*365*24*60*60*inst ))"
      ],
      "metadata": {
        "colab": {
          "base_uri": "https://localhost:8080/"
        },
        "id": "ZRELOuMK_UBD",
        "outputId": "433cc7f2-cc43-4ca4-b6c5-83b5a8bad937"
      },
      "execution_count": null,
      "outputs": [
        {
          "output_type": "stream",
          "name": "stdout",
          "text": [
            "Second  9\n",
            "Minute   11\n",
            "Hour  12\n",
            "Day  13\n",
            "Year  16\n",
            "Century  17\n",
            "Mileniun  20\n"
          ]
        }
      ]
    },
    {
      "cell_type": "markdown",
      "source": [
        " ### $\\bf{ Time\\ Complexity\\ n^n }$"
      ],
      "metadata": {
        "id": "HdilFgyx_cFh"
      }
    },
    {
      "cell_type": "markdown",
      "source": [
        "\n",
        "\n",
        "$Second$\n",
        "$$  n^n  \\times 10^{-6} \\ s\\le 1\\ s$$\n",
        "$$  n^n \\le  10^{6} $$\n",
        "\n",
        "$Minute$\n",
        "$$  n^n \\times 10^{-6} \\ s\\le 60\\ s$$\n",
        "$$  n^n \\le 60 \\times 10^{6} $$\n",
        "\n",
        "$Hour$\n",
        "$$  n^n \\times 10^{-6} \\ s\\le 3600\\ s$$\n",
        "$$  n^n \\le 3600 \\times 10^{6} $$\n",
        "\n",
        "$Day$\n",
        "$$  n^n \\times 10^{-6} \\ s\\le 84600\\ s$$\n",
        "$$  n^n \\le 84600 \\times 10^{6} $$\n",
        "\n",
        "$Year$\n",
        "$$  n^n \\times 10^{-6} \\ s\\le 31536000\\ s$$\n",
        "$$  n^n \\le 31536000 \\times 10^{6}$$\n",
        "\n",
        "\n",
        "$Century$\n",
        "$$  n^n \\times 10^{-6} \\ s\\le 3153600000\\ s$$\n",
        "$$  n^n \\le 3153600000 \\times 10^{6}$$  \n",
        "\n",
        "$Mileniun$\n",
        "$$  n^n \\times 10^{-6} \\ s\\le 3153600000000\\ s$$\n",
        "$$  n^n \\le 3153600000000 \\times 10^{6} $$"
      ],
      "metadata": {
        "id": "XLgJGlC8_bAT"
      }
    },
    {
      "cell_type": "code",
      "source": [
        "import math\n",
        "def f(n):\n",
        "  return n**n\n",
        "\n",
        "def find(f,v):\n",
        "  l = 1\n",
        "  r = 100\n",
        "  while True:\n",
        "    m = int((l+r)/2)\n",
        "    if ((f(m+1) > v) and (f(m) <= v) ) or (l == m) or (r== m):\n",
        "      return int(m)\n",
        "    elif f(m) < v:\n",
        "      l = m\n",
        "    else:\n",
        "      r = m\n",
        "\n",
        "print(\"Second \", find(f,inst ))\n",
        "print(\"Minute  \",find(f,60*inst ))\n",
        "print(\"Hour \",find(f,60*60*inst ))\n",
        "print(\"Day \",find(f,24*60*60*inst ))\n",
        "print(\"Year \",find(f,365*24*60*60*inst ))\n",
        "print(\"Century \",find(f,100*365*24*60*60*inst ))\n",
        "print(\"Mileniun \",find(f,1000*100*365*24*60*60*inst ))"
      ],
      "metadata": {
        "colab": {
          "base_uri": "https://localhost:8080/"
        },
        "id": "UPAunjqc_lZa",
        "outputId": "105989a8-35e6-4cc4-a92b-bc4e47b4421c"
      },
      "execution_count": null,
      "outputs": [
        {
          "output_type": "stream",
          "name": "stdout",
          "text": [
            "Second  7\n",
            "Minute   8\n",
            "Hour  9\n",
            "Day  10\n",
            "Year  12\n",
            "Century  13\n",
            "Mileniun  15\n"
          ]
        }
      ]
    },
    {
      "cell_type": "markdown",
      "metadata": {
        "id": "yCCsCOW2OQbQ"
      },
      "source": [
        "# 1. **10  nanoseconds by instruction**\n",
        "\n",
        "Asuuming that you can execute a 100 million instructions $100 \\times 10^6$ every second, i.e. each instrcution takes 10 nanoseconds, 10 $\\eta s  = 10^{-8} s $. If you have algorithms take $\\bf{ Time\\ Complexity}$ steps to solve a poblem of size $n$ as specified in column one. What is the size of the largest porblem that you can solve in the time specified in row one?\n",
        "$$\n",
        "\\begin{array}{|c|c|c|c|c|c|c|c|}\n",
        " \\hline\n",
        " \\bf{ Time\\ Complexity} & Second  & Minute  & Hour & Day & Year & Century & Mileniun  \\\\\n",
        "  \\hline\\\\\n",
        "\\lg(n) & 2^{10^8} & 2^{6\\times 10^9}  & 2^{3.6\\times 10^{11}} & 2^{8.64\\times 10^{12}} & 2^{3.1536\\times 10^{15}} & 2^{3.1536\\times 10^{17}} & 2^{3.1536\\times 10^{20}} \\\\\n",
        "   \\hline\\\\\n",
        "\\lg^2(n) &  2^{ 10000 }  & 2^{ 77460 }  & 2^{ 600000 } & 2^{ 2939388 } & 2^{ 56156923 } & 2^{ 561569230 } & 2^{ 17758378304 } \\\\\n",
        "   \\hline\\\\\n",
        "\\sqrt{n} &  10\\times 10^{16}  &  3.6\\times 10^{19} & 1.296\\times 10^{23} & 7.46496\\times 10^{25} & 9.94519296\\times 10^{30} & 9.94519296\\times 10^{34} & 9.94519296\\times 10^{40} \\\\\n",
        " \\hline\n",
        " n &  1\\times 10^{08}  & 6.0\\times 10^{09}  & 3.6\\times 10^{11} & 8.64\\times 10^{12} & 3.1536\\times 10^{15} & 3.1536\\times 10^{17} & 3.1536\\times 10^{20} \\\\\n",
        " \\hline\n",
        " n\\lg(n) &  4.52307100\\times 10^{06}  & 2.16677120\\times 10^{08}  & 1.08009383\\times 10^{10} & 2.28957338\\times 10^{11} & 6.86109568\\times 10^{13} & 6.01627776\\times 10^{15} & 5.07514271\\times 10^{18} \\\\\n",
        " \\hline\n",
        " n^2 &  10000  &  77460 & 600000 & 2939388 & 56156923 & 561569230 &  17758378304\\\\\n",
        " \\hline\n",
        "  n^3 &  464  & 1817  & 7114 & 20520 & 146646 & 680668 & 6806683 \\\\\n",
        " \\hline\n",
        "  n^4 &  100  &  278 & 775 & 1714 & 7494 & 23697 & 133261 \\\\\n",
        " \\hline\n",
        "  2^n &  26  & 32  & 38 & 42 & 51 & 58 &68 \\\\\n",
        " \\hline\n",
        " n! &  11  &  12 & 14 & 15 & 17 & 19 & 21 \\\\\n",
        " \\hline\n",
        " n^n &  8  & 9  & 11 & 11 & 13 & 14 & 16 \\\\\n",
        " \\hline\n",
        "\\end{array}\n",
        "$$"
      ]
    },
    {
      "cell_type": "code",
      "source": [
        "inst = 10**8"
      ],
      "metadata": {
        "id": "CPQbNQKZACuR"
      },
      "execution_count": null,
      "outputs": []
    },
    {
      "cell_type": "markdown",
      "source": [
        "### $\\bf{ Time\\ Complexity\\ \\lg(n) }$\n"
      ],
      "metadata": {
        "id": "jDlnAN_nACuR"
      }
    },
    {
      "cell_type": "markdown",
      "source": [
        "\n",
        "$Second$\n",
        "$$ \\lg(n) \\times 10^{-8}\\ s\\le 1\\ s$$\n",
        "$$ \\lg(n) \\le 1 * 10^{8}$$\n",
        "\n",
        "$Minute$\n",
        "$$ \\lg(n) \\times 10^{-8} \\ s \\le 60\\ s$$\n",
        "$$ \\lg(n) \\le 60 \\times 10^{8} $$\n",
        "\n",
        "$Hour$\n",
        "$$ \\lg(n) \\times 10^{-8} \\ s \\le 3600\\ s$$\n",
        "$$ \\lg(n) \\le 3600 \\times 10^{8} $$\n",
        "\n",
        "$Day$\n",
        "$$ \\lg(n) \\times 10^{-8} \\ s \\le 86400\\ s$$\n",
        "$$ \\lg(n) \\le 86400\\times 10^{8} $$\n",
        "\n",
        "$Year$\n",
        "$$ \\lg(n) \\times 10^{-8} \\ s \\le 31536000\\ s$$\n",
        "$$ \\lg(n) \\le 31536000\\times 10^{8} $$\n",
        "\n",
        "$Century$\n",
        "$$ \\lg(n) \\times 10^{-8} \\ s \\le 3153600000\\ s$$\n",
        "$$ \\lg(n) \\le 3153600000\\times 10^{8} $$\n",
        "\n",
        "$Mileniun$\n",
        "$$ \\lg(n) \\times 10^{-8} \\ s \\le 3153600000000\\ s$$\n",
        "$$ \\lg(n) \\le 3153600000000\\times 10^{8} $$"
      ],
      "metadata": {
        "id": "yzrwJ2kpACuR"
      }
    },
    {
      "cell_type": "code",
      "source": [
        "print(\"Second  = 2^\", \"{:.8E}\".format(inst))\n",
        "print(\"Minute  = 2^\", \"{:.8E}\".format(60*inst))\n",
        "print(\"Hour  = 2^\", \"{:.8E}\".format(60*60*inst))\n",
        "print(\"Day  = 2^\", \"{:.8E}\".format(60*60*24*inst))\n",
        "print(\"Year  = 2^\", \"{:.8E}\".format(365*24*60*60*inst))\n",
        "print(\"Century  = 2^\", \"{:.8E}\".format(100*365*24*60*60*inst))\n",
        "print(\"Mileniun  = 2^\", \"{:.8E}\".format(1000*100*365*24*60*60*inst))"
      ],
      "metadata": {
        "colab": {
          "base_uri": "https://localhost:8080/"
        },
        "id": "NwDOQVd1P1Hi",
        "outputId": "6e2809fc-7449-4fba-8b3e-1fca628fb2a3"
      },
      "execution_count": null,
      "outputs": [
        {
          "output_type": "stream",
          "name": "stdout",
          "text": [
            "Second  = 2^ 1.00000000E+08\n",
            "Minute  = 2^ 6.00000000E+09\n",
            "Hour  = 2^ 3.60000000E+11\n",
            "Day  = 2^ 8.64000000E+12\n",
            "Year  = 2^ 3.15360000E+15\n",
            "Century  = 2^ 3.15360000E+17\n",
            "Mileniun  = 2^ 3.15360000E+20\n"
          ]
        }
      ]
    },
    {
      "cell_type": "markdown",
      "source": [
        "###$\\bf{ Time\\ Complexity\\ \\lg^2(n) }$\n"
      ],
      "metadata": {
        "id": "R98R65HgACuR"
      }
    },
    {
      "cell_type": "code",
      "source": [
        "import math\n",
        "print(\"Second 2^{\",round(math.sqrt(inst)),\"}\")\n",
        "print(\"Minute 2^{\",round(math.sqrt(60*inst)),\"}\")\n",
        "print(\"Hour 2^{\",round(math.sqrt(60*60*inst)),\"}\")\n",
        "print(\"Day 2^{\",round(math.sqrt(24*60*60*inst)),\"}\")\n",
        "print(\"Year 2^{\",round(math.sqrt(365*24*60*60*inst)),\"}\")\n",
        "print(\"Century 2^{\",round(math.sqrt(100*365*24*60*60*inst)),\"}\")\n",
        "print(\"Mileniun 2^{\",round(math.sqrt(1000*100*365*24*60*60*inst)),\"}\")"
      ],
      "metadata": {
        "colab": {
          "base_uri": "https://localhost:8080/"
        },
        "outputId": "89cbb61c-58ff-4750-cded-d1c50cc77813",
        "id": "CPQ9tFVhACuR"
      },
      "execution_count": null,
      "outputs": [
        {
          "output_type": "stream",
          "name": "stdout",
          "text": [
            "Second 2^{ 10000 }\n",
            "Minute 2^{ 77460 }\n",
            "Hour 2^{ 600000 }\n",
            "Day 2^{ 2939388 }\n",
            "Year 2^{ 56156923 }\n",
            "Century 2^{ 561569230 }\n",
            "Mileniun 2^{ 17758378304 }\n"
          ]
        }
      ]
    },
    {
      "cell_type": "markdown",
      "source": [
        "###$\\bf{ Time\\ Complexity\\ \\sqrt{n} }$"
      ],
      "metadata": {
        "id": "uk2NfffVACuR"
      }
    },
    {
      "cell_type": "code",
      "source": [
        "import math\n",
        "print(\"Second \", \"{:.8E}\".format(math.pow(inst,2)))\n",
        "print(\"Minute  \",\"{:.8E}\".format(math.pow(60*inst,2)))\n",
        "print(\"Hour \",\"{:.8E}\".format(math.pow(60*60*inst,2)))\n",
        "print(\"Day \",\"{:.8E}\".format(math.pow(24*60*60*inst,2)))\n",
        "print(\"Year \",\"{:.8E}\".format(math.pow(365*24*60*60*inst,2)))\n",
        "print(\"Century \",\"{:.8E}\".format(math.pow(100*365*24*60*60*inst,2)))\n",
        "print(\"Mileniun  \",\"{:.8E}\".format(math.pow(1000*100*365*24*60*60*inst,2)))"
      ],
      "metadata": {
        "colab": {
          "base_uri": "https://localhost:8080/"
        },
        "outputId": "6f13a9ad-5cd4-4b2f-a315-f17dafa47007",
        "id": "ayp_3BzKACuS"
      },
      "execution_count": null,
      "outputs": [
        {
          "output_type": "stream",
          "name": "stdout",
          "text": [
            "Second  1.00000000E+16\n",
            "Minute   3.60000000E+19\n",
            "Hour  1.29600000E+23\n",
            "Day  7.46496000E+25\n",
            "Year  9.94519296E+30\n",
            "Century  9.94519296E+34\n",
            "Mileniun   9.94519296E+40\n"
          ]
        }
      ]
    },
    {
      "cell_type": "markdown",
      "source": [
        "### $\\bf{ Time\\ Complexity\\ n }$"
      ],
      "metadata": {
        "id": "RL5loUglACuS"
      }
    },
    {
      "cell_type": "code",
      "source": [
        "import math\n",
        "print(\"Second \", \"{:.8E}\".format(inst))\n",
        "print(\"Minute  \",\"{:.8E}\".format(60*inst))\n",
        "print(\"Hour \",\"{:.8E}\".format(60*60*inst))\n",
        "print(\"Day \",\"{:.8E}\".format(24*60*60*inst))\n",
        "print(\"Year \",\"{:.8E}\".format(365*24*60*60*inst))\n",
        "print(\"Century \",\"{:.8E}\".format(100*365*24*60*60*inst))\n",
        "print(\"Mileniun  \",\"{:.8E}\".format(1000*100*365*24*60*60*inst))"
      ],
      "metadata": {
        "colab": {
          "base_uri": "https://localhost:8080/"
        },
        "outputId": "aa505583-09c0-4a7e-deb2-06548b27802e",
        "id": "EH0IwKFYACuS"
      },
      "execution_count": null,
      "outputs": [
        {
          "output_type": "stream",
          "name": "stdout",
          "text": [
            "Second  1.00000000E+08\n",
            "Minute   6.00000000E+09\n",
            "Hour  3.60000000E+11\n",
            "Day  8.64000000E+12\n",
            "Year  3.15360000E+15\n",
            "Century  3.15360000E+17\n",
            "Mileniun   3.15360000E+20\n"
          ]
        }
      ]
    },
    {
      "cell_type": "markdown",
      "source": [
        "###$\\bf{ Time\\ Complexity\\ n\\lg{n} }$\n"
      ],
      "metadata": {
        "id": "ojhdHC_8ACuS"
      }
    },
    {
      "cell_type": "code",
      "source": [
        "import math\n",
        "def f(n):\n",
        "  return n*math.log2(n)\n",
        "\n",
        "\n",
        "def find(f,v):\n",
        "  l = 1\n",
        "  r = v\n",
        "  while True:\n",
        "    m = int((l+r)/2)\n",
        "    if ((f(m+1) > v) and (f(m) <= v) ) or (l == m) or  (r == m):\n",
        "      return int(m)\n",
        "    elif f(m) < v:\n",
        "      l = m\n",
        "    else:\n",
        "      r = m\n",
        "\n",
        "print(\"Second \", find(f,inst),\" = \", \"{:.8E}\".format(find(f,inst )))\n",
        "print(\"Minute  \",find(f,60*inst),\" = \", \"{:.8E}\".format(find(f,60*inst )))\n",
        "print(\"Hour \",find(f,60*60*inst),\" = \", \"{:.8E}\".format(find(f,60*60*inst )))\n",
        "print(\"Day \",find(f,24*60*60*inst ),\" = \", \"{:.8E}\".format(find(f,24*60*60*inst )) )\n",
        "print(\"Year \",find(f,365*24*60*60*inst ),\" = \", \"{:.8E}\".format(find(f,365*24*60*60*inst )) )\n",
        "print(\"Century \",find(f,100*365*24*60*60*inst ),\" = \", \"{:.8E}\".format(find(f,100*365*24*60*60*inst )) )\n",
        "print(\"Mileniun \",find(f,1000*100*365*24*60*60*inst ),\" = \", \"{:.8E}\".format(find(f,1000*100*365*24*60*60*inst )) )"
      ],
      "metadata": {
        "colab": {
          "base_uri": "https://localhost:8080/"
        },
        "outputId": "843524a7-74dd-4d34-df85-5cd2f367b654",
        "id": "BKXdx78RACuT"
      },
      "execution_count": null,
      "outputs": [
        {
          "output_type": "stream",
          "name": "stdout",
          "text": [
            "Second  4523071  =  4.52307100E+06\n",
            "Minute   216677120  =  2.16677120E+08\n",
            "Hour  10800938300  =  1.08009383E+10\n",
            "Day  228957337705  =  2.28957338E+11\n",
            "Year  68610956750570  =  6.86109568E+13\n",
            "Century  6016277763015247  =  6.01627776E+15\n",
            "Mileniun  5075142713362522112  =  5.07514271E+18\n"
          ]
        }
      ]
    },
    {
      "cell_type": "markdown",
      "source": [
        "###$\\bf{ Time\\ Complexity\\ n^2}$"
      ],
      "metadata": {
        "id": "wY7MeZLOACuT"
      }
    },
    {
      "cell_type": "code",
      "source": [
        "import math\n",
        "print(\"Second \",round(math.sqrt(inst )))\n",
        "print(\"Minute  \",round(math.sqrt(60*inst )))\n",
        "print(\"Hour \",round(math.sqrt(60*60*inst )))\n",
        "print(\"Day \",round(math.sqrt(24*60*60*inst )))\n",
        "print(\"Year \",round(math.sqrt(365*24*60*60*inst )))\n",
        "print(\"Century \",round(math.sqrt(100*365*24*60*60*inst )))\n",
        "print(\"Mileniun \",round(math.sqrt(1000*100*365*24*60*60*inst )))"
      ],
      "metadata": {
        "colab": {
          "base_uri": "https://localhost:8080/"
        },
        "outputId": "1a78655b-3147-4046-c6ab-51e1c1226653",
        "id": "7aYONqInACuT"
      },
      "execution_count": null,
      "outputs": [
        {
          "output_type": "stream",
          "name": "stdout",
          "text": [
            "Second  10000\n",
            "Minute   77460\n",
            "Hour  600000\n",
            "Day  2939388\n",
            "Year  56156923\n",
            "Century  561569230\n",
            "Mileniun  17758378304\n"
          ]
        }
      ]
    },
    {
      "cell_type": "markdown",
      "source": [
        "###$\\bf{ Time\\ Complexity\\ n^3 }$\n"
      ],
      "metadata": {
        "id": "LV3T2hV_ACuT"
      }
    },
    {
      "cell_type": "code",
      "source": [
        "import math\n",
        "print(\"Second \",round(math.pow(inst ,1/3)))\n",
        "print(\"Minute  \",round(math.pow(60*inst ,1/3)))\n",
        "print(\"Hour \",round(math.pow(60*60*inst ,1/3)))\n",
        "print(\"Day \",round(math.pow(24*60*60*inst ,1/3)))\n",
        "print(\"Year \",round(math.pow(365*24*60*60*inst ,1/3)))\n",
        "print(\"Century \",round(math.pow(100*365*24*60*60*inst ,1/3)))\n",
        "print(\"Mileniun \",round(math.pow(1000*100*365*24*60*60*inst ,1/3)))"
      ],
      "metadata": {
        "colab": {
          "base_uri": "https://localhost:8080/"
        },
        "outputId": "448e437c-8b99-47e2-fda7-1df1fa57855a",
        "id": "SHBCX0cwACuT"
      },
      "execution_count": null,
      "outputs": [
        {
          "output_type": "stream",
          "name": "stdout",
          "text": [
            "Second  464\n",
            "Minute   1817\n",
            "Hour  7114\n",
            "Day  20520\n",
            "Year  146646\n",
            "Century  680668\n",
            "Mileniun  6806683\n"
          ]
        }
      ]
    },
    {
      "cell_type": "markdown",
      "source": [
        "###$\\bf{ Time\\ Complexity\\ n^4 }$\n",
        "\n",
        "\n",
        "\n",
        "  "
      ],
      "metadata": {
        "id": "1kf9-S2xACuT"
      }
    },
    {
      "cell_type": "code",
      "source": [
        "import math\n",
        "print(\"Second \",round(math.pow(inst ,1/4)))\n",
        "print(\"Minute  \",round(math.pow(60*inst ,1/4)))\n",
        "print(\"Hour \",round(math.pow(60*60*inst ,1/4)))\n",
        "print(\"Day \",round(math.pow(24*60*60*inst ,1/4)))\n",
        "print(\"Year \",round(math.pow(365*24*60*60*inst ,1/4)))\n",
        "print(\"Century \",round(math.pow(100*365*24*60*60*inst ,1/4)))\n",
        "print(\"Mileniun \",round(math.pow(1000*100*365*24*60*60*inst ,1/4)))"
      ],
      "metadata": {
        "colab": {
          "base_uri": "https://localhost:8080/"
        },
        "outputId": "0acd3edf-4342-4226-dc94-c26c618c9bd3",
        "id": "7IatTpJIACuU"
      },
      "execution_count": null,
      "outputs": [
        {
          "output_type": "stream",
          "name": "stdout",
          "text": [
            "Second  100\n",
            "Minute   278\n",
            "Hour  775\n",
            "Day  1714\n",
            "Year  7494\n",
            "Century  23697\n",
            "Mileniun  133261\n"
          ]
        }
      ]
    },
    {
      "cell_type": "markdown",
      "source": [
        "###$\\bf{ Time\\ Complexity\\ 2^n }$\n",
        "\n"
      ],
      "metadata": {
        "id": "uXvpX2XGACuU"
      }
    },
    {
      "cell_type": "code",
      "source": [
        "import math\n",
        "print(\"Second \",int(math.log2(inst )))\n",
        "print(\"Minute  \",int(math.log2(60*inst )))\n",
        "print(\"Hour \",int(math.log2(60*60*inst )))\n",
        "print(\"Day \",int(math.log2(24*60*60*inst )))\n",
        "print(\"Year \",int(math.log2(365*24*60*60*inst )))\n",
        "print(\"Century \",int(math.log2(100*365*24*60*60*inst )))\n",
        "print(\"Mileniun \",int(math.log2(1000*100*365*24*60*60*inst )))"
      ],
      "metadata": {
        "colab": {
          "base_uri": "https://localhost:8080/"
        },
        "outputId": "34313339-4e8a-4d0a-db1f-3c8a63de9e70",
        "id": "y2QG7_utACuU"
      },
      "execution_count": null,
      "outputs": [
        {
          "output_type": "stream",
          "name": "stdout",
          "text": [
            "Second  26\n",
            "Minute   32\n",
            "Hour  38\n",
            "Day  42\n",
            "Year  51\n",
            "Century  58\n",
            "Mileniun  68\n"
          ]
        }
      ]
    },
    {
      "cell_type": "markdown",
      "source": [
        "###$\\bf{ Time\\ Complexity\\ n! }$\n",
        "\n"
      ],
      "metadata": {
        "id": "6ycr583HACuU"
      }
    },
    {
      "cell_type": "code",
      "source": [
        "import math\n",
        "def f(n):\n",
        "  return math.factorial(n)\n",
        "\n",
        "def find(f,v):\n",
        "  l = 1\n",
        "  r = 100\n",
        "  while True:\n",
        "    m = int((l+r)/2)\n",
        "    if ((f(m+1) > v) and (f(m) <= v) ) or (l == m) or (r== m):\n",
        "      return int(m)\n",
        "    elif f(m) < v:\n",
        "      l = m\n",
        "    else:\n",
        "      r = m\n",
        "\n",
        "\n",
        "print(\"Second \", find(f,inst ))\n",
        "print(\"Minute  \",find(f,60*inst ))\n",
        "print(\"Hour \",find(f,60*60*inst ))\n",
        "print(\"Day \",find(f,24*60*60*inst ))\n",
        "print(\"Year \",find(f,365*24*60*60*inst ))\n",
        "print(\"Century \",find(f,100*365*24*60*60*inst ))\n",
        "print(\"Mileniun \",find(f,1000*100*365*24*60*60*inst ))"
      ],
      "metadata": {
        "colab": {
          "base_uri": "https://localhost:8080/"
        },
        "outputId": "d68de0d1-9f7b-41ee-ce67-a1d68613c57c",
        "id": "sTVJu4EAACuU"
      },
      "execution_count": null,
      "outputs": [
        {
          "output_type": "stream",
          "name": "stdout",
          "text": [
            "Second  11\n",
            "Minute   12\n",
            "Hour  14\n",
            "Day  15\n",
            "Year  17\n",
            "Century  19\n",
            "Mileniun  21\n"
          ]
        }
      ]
    },
    {
      "cell_type": "markdown",
      "source": [
        " ### $\\bf{ Time\\ Complexity\\ n^n }$"
      ],
      "metadata": {
        "id": "FBeS73gEACuV"
      }
    },
    {
      "cell_type": "code",
      "source": [
        "import math\n",
        "def f(n):\n",
        "  return n**n\n",
        "\n",
        "def find(f,v):\n",
        "  l = 1\n",
        "  r = 100\n",
        "  while True:\n",
        "    m = int((l+r)/2)\n",
        "    if ((f(m+1) > v) and (f(m) <= v) ) or (l == m) or (r== m):\n",
        "      return int(m)\n",
        "    elif f(m) < v:\n",
        "      l = m\n",
        "    else:\n",
        "      r = m\n",
        "\n",
        "print(\"Second \", find(f,inst ))\n",
        "print(\"Minute  \",find(f,60*inst ))\n",
        "print(\"Hour \",find(f,60*60*inst ))\n",
        "print(\"Day \",find(f,24*60*60*inst ))\n",
        "print(\"Year \",find(f,365*24*60*60*inst ))\n",
        "print(\"Century \",find(f,100*365*24*60*60*inst ))\n",
        "print(\"Mileniun \",find(f,1000*100*365*24*60*60*inst ))"
      ],
      "metadata": {
        "colab": {
          "base_uri": "https://localhost:8080/"
        },
        "outputId": "b839d82a-e02e-49f7-88f8-d5548addc8e4",
        "id": "dPUNQ4YsACuV"
      },
      "execution_count": null,
      "outputs": [
        {
          "output_type": "stream",
          "name": "stdout",
          "text": [
            "Second  8\n",
            "Minute   9\n",
            "Hour  11\n",
            "Day  11\n",
            "Year  13\n",
            "Century  14\n",
            "Mileniun  16\n"
          ]
        }
      ]
    },
    {
      "cell_type": "markdown",
      "metadata": {
        "id": "9fIs_70_DJWM"
      },
      "source": [
        "# 2. **2.5  nanoseconds by instruction**\n",
        "\n",
        "Asuuming that you can execute a 400 million instructions $400 \\times 10^6$ every second, i.e. each instrcution takes 2.5  nanoseconds, 2.5 $\\eta s  = 2.5 \\times 10^{-9} s$. If you have algorithms take $\\bf{ Time\\ Complexity}$ steps to solve a problem of size $n$ as specified in column one. What is the size of the largest problem that you can solve in the time specified in row one?\n",
        "$$\n",
        "\\begin{array}{|c|c|c|c|c|c|c|c|}\n",
        " \\hline\n",
        " \\bf{ Time\\ Complexity} & Second  & Minute  & Hour & Day & Year & Century & Mileniun  \\\\\n",
        "  \\hline\\\\\n",
        "\\lg(n) &  2^{2.5\\times 10^{09}}  & 2^{1.5\\times 10^{11}}  & 2^{9\\times 10^{12}} & 2^{2.16\\times 10^{14}} & 2^{7.884\\times 10^{16}} & 2^{7.884\\times 10^{18}} & 2^{7.884\\times 10^{21}} \\\\\n",
        "   \\hline\\\\\n",
        "\\lg^2(n) &  2^{ 50000 }  & 2^{ 387298 }  & 2^{ 3000000 } & 2^{ 14696938 } & 2^{ 280784615 } & 2^{ 2807846150 } &  2^{ 88791891522 }\\\\\n",
        "   \\hline\\\\\n",
        "\\sqrt{n} &  6.25\\times 10^{18}  &  2.25\\times 10^{22} & 8.1\\times 10^{25} & 4.6656\\times 10^{28} & 6.2157456\\times 10^{33} & 6.2157456\\times 10^{37} & 6.2157456\\times 10^{43} \\\\\n",
        " \\hline\n",
        " n &  2.50\\times 10^{09}  &  1.50\\times 10^{11} & 9\\times 10^{12} & 2.16\\times 10^{14} & 7.884\\times 10^{16} & 7.884\\times 10^{18} & 7.884\\times 10^{21} \\\\\n",
        " \\hline\n",
        " n\\lg(n) & 9.43687990\\times 10^{07}   & 4.66988019\\times 10^{09}  & 2.38139247\\times 10^{11} & 5.11627318\\times 10^{12} & 1.56204320\\times 10^{15} & 1.38456172\\times 10^{17} & 1.18235944\\times 10^{20} \\\\\n",
        " \\hline\n",
        " n^2 &  50000  & 387298  & 3000000 & 14696938 & 280784615 & 2807846150 & 88791891522 \\\\\n",
        " \\hline\n",
        "  n^3 &  1357  &  5313 & 20801 & 60000 & 428794 & 1990286 & 19902862 \\\\\n",
        " \\hline\n",
        "  n^4 &  224  &  622 & 1732 & 3834 & 16757 & 52989 & 297980 \\\\\n",
        " \\hline\n",
        "  2^n &  31  & 37  & 43 & 47 & 56 & 62 & 72 \\\\\n",
        " \\hline\n",
        " n! &  12  &  14 & 15 & 16 & 18 & 20 & 22 \\\\\n",
        " \\hline\n",
        " n^n &   9 & 10  & 12 & 12 & 14 & 15 & 17 \\\\\n",
        " \\hline\n",
        "\\end{array}\n",
        "$$\n"
      ]
    },
    {
      "cell_type": "code",
      "source": [
        "inst = 2.5*10**9"
      ],
      "metadata": {
        "id": "LPhEWgk_M6qh"
      },
      "execution_count": null,
      "outputs": []
    },
    {
      "cell_type": "markdown",
      "source": [
        "### $\\bf{ Time\\ Complexity\\ \\lg(n) }$\n"
      ],
      "metadata": {
        "id": "y0mdyhkbM6qh"
      }
    },
    {
      "cell_type": "code",
      "source": [
        "print(\"Second  = 2^\", \"{:.8E}\".format(inst))\n",
        "print(\"Minute  = 2^\", \"{:.8E}\".format(60*inst))\n",
        "print(\"Hour  = 2^\", \"{:.8E}\".format(60*60*inst))\n",
        "print(\"Day  = 2^\", \"{:.8E}\".format(60*60*24*inst))\n",
        "print(\"Year  = 2^\", \"{:.8E}\".format(365*24*60*60*inst))\n",
        "print(\"Century  = 2^\", \"{:.8E}\".format(100*365*24*60*60*inst))\n",
        "print(\"Mileniun  = 2^\", \"{:.8E}\".format(1000*100*365*24*60*60*inst))"
      ],
      "metadata": {
        "colab": {
          "base_uri": "https://localhost:8080/"
        },
        "id": "MpsSg1N6P5L8",
        "outputId": "53112d13-1da3-44e8-9337-64222ca50d69"
      },
      "execution_count": null,
      "outputs": [
        {
          "output_type": "stream",
          "name": "stdout",
          "text": [
            "Second  = 2^ 2.50000000E+09\n",
            "Minute  = 2^ 1.50000000E+11\n",
            "Hour  = 2^ 9.00000000E+12\n",
            "Day  = 2^ 2.16000000E+14\n",
            "Year  = 2^ 7.88400000E+16\n",
            "Century  = 2^ 7.88400000E+18\n",
            "Mileniun  = 2^ 7.88400000E+21\n"
          ]
        }
      ]
    },
    {
      "cell_type": "markdown",
      "source": [
        "###$\\bf{ Time\\ Complexity\\ \\lg^2(n) }$\n"
      ],
      "metadata": {
        "id": "ZT-Lp8OmM6qi"
      }
    },
    {
      "cell_type": "code",
      "source": [
        "import math\n",
        "print(\"Second 2^{\",round(math.sqrt(inst)),\"}\")\n",
        "print(\"Minute 2^{\",round(math.sqrt(60*inst)),\"}\")\n",
        "print(\"Hour 2^{\",round(math.sqrt(60*60*inst)),\"}\")\n",
        "print(\"Day 2^{\",round(math.sqrt(24*60*60*inst)),\"}\")\n",
        "print(\"Year 2^{\",round(math.sqrt(365*24*60*60*inst)),\"}\")\n",
        "print(\"Century 2^{\",round(math.sqrt(100*365*24*60*60*inst)),\"}\")\n",
        "print(\"Mileniun 2^{\",round(math.sqrt(1000*100*365*24*60*60*inst)),\"}\")"
      ],
      "metadata": {
        "colab": {
          "base_uri": "https://localhost:8080/"
        },
        "outputId": "cfe9c5c5-e1ce-4dbd-92e0-d0bb367e16ff",
        "id": "g0A6zH2WM6qi"
      },
      "execution_count": null,
      "outputs": [
        {
          "output_type": "stream",
          "name": "stdout",
          "text": [
            "Second 2^{ 50000 }\n",
            "Minute 2^{ 387298 }\n",
            "Hour 2^{ 3000000 }\n",
            "Day 2^{ 14696938 }\n",
            "Year 2^{ 280784615 }\n",
            "Century 2^{ 2807846150 }\n",
            "Mileniun 2^{ 88791891522 }\n"
          ]
        }
      ]
    },
    {
      "cell_type": "markdown",
      "source": [
        "###$\\bf{ Time\\ Complexity\\ \\sqrt{n} }$"
      ],
      "metadata": {
        "id": "w2tfyhR2M6qi"
      }
    },
    {
      "cell_type": "code",
      "source": [
        "import math\n",
        "print(\"Second \", \"{:.8E}\".format(math.pow(inst,2)))\n",
        "print(\"Minute  \",\"{:.8E}\".format(math.pow(60*inst,2)))\n",
        "print(\"Hour \",\"{:.8E}\".format(math.pow(60*60*inst,2)))\n",
        "print(\"Day \",\"{:.8E}\".format(math.pow(24*60*60*inst,2)))\n",
        "print(\"Year \",\"{:.8E}\".format(math.pow(365*24*60*60*inst,2)))\n",
        "print(\"Century \",\"{:.8E}\".format(math.pow(100*365*24*60*60*inst,2)))\n",
        "print(\"Mileniun  \",\"{:.8E}\".format(math.pow(1000*100*365*24*60*60*inst,2)))"
      ],
      "metadata": {
        "colab": {
          "base_uri": "https://localhost:8080/"
        },
        "outputId": "8de899c9-35d7-4a1a-8b29-9be922518322",
        "id": "ZiISffJnM6qi"
      },
      "execution_count": null,
      "outputs": [
        {
          "output_type": "stream",
          "name": "stdout",
          "text": [
            "Second  6.25000000E+18\n",
            "Minute   2.25000000E+22\n",
            "Hour  8.10000000E+25\n",
            "Day  4.66560000E+28\n",
            "Year  6.21574560E+33\n",
            "Century  6.21574560E+37\n",
            "Mileniun   6.21574560E+43\n"
          ]
        }
      ]
    },
    {
      "cell_type": "markdown",
      "source": [
        "### $\\bf{ Time\\ Complexity\\ n }$"
      ],
      "metadata": {
        "id": "qwycv9IpM6qj"
      }
    },
    {
      "cell_type": "code",
      "source": [
        "import math\n",
        "print(\"Second \", \"{:.8E}\".format(inst))\n",
        "print(\"Minute  \",\"{:.8E}\".format(60*inst))\n",
        "print(\"Hour \",\"{:.8E}\".format(60*60*inst))\n",
        "print(\"Day \",\"{:.8E}\".format(24*60*60*inst))\n",
        "print(\"Year \",\"{:.8E}\".format(365*24*60*60*inst))\n",
        "print(\"Century \",\"{:.8E}\".format(100*365*24*60*60*inst))\n",
        "print(\"Mileniun  \",\"{:.8E}\".format(1000*100*365*24*60*60*inst))"
      ],
      "metadata": {
        "colab": {
          "base_uri": "https://localhost:8080/"
        },
        "outputId": "d94bd5c6-2d10-40a8-9415-4d9326eb7a2b",
        "id": "LgcFoGYnM6qj"
      },
      "execution_count": null,
      "outputs": [
        {
          "output_type": "stream",
          "name": "stdout",
          "text": [
            "Second  2.50000000E+09\n",
            "Minute   1.50000000E+11\n",
            "Hour  9.00000000E+12\n",
            "Day  2.16000000E+14\n",
            "Year  7.88400000E+16\n",
            "Century  7.88400000E+18\n",
            "Mileniun   7.88400000E+21\n"
          ]
        }
      ]
    },
    {
      "cell_type": "markdown",
      "source": [
        "###$\\bf{ Time\\ Complexity\\ n\\lg{n} }$\n"
      ],
      "metadata": {
        "id": "dhhff6U-M6qj"
      }
    },
    {
      "cell_type": "code",
      "source": [
        "import math\n",
        "def f(n):\n",
        "  return n*math.log2(n)\n",
        "\n",
        "\n",
        "def find(f,v):\n",
        "  l = 1\n",
        "  r = v\n",
        "  while True:\n",
        "    m = int((l+r)/2)\n",
        "    if ((f(m+1) > v) and (f(m) <= v) ) or (l == m) or  (r == m):\n",
        "      return int(m)\n",
        "    elif f(m) < v:\n",
        "      l = m\n",
        "    else:\n",
        "      r = m\n",
        "\n",
        "print(\"Second \", find(f,inst),\" = \", \"{:.8E}\".format(find(f,inst )))\n",
        "print(\"Minute  \",find(f,60*inst),\" = \", \"{:.8E}\".format(find(f,60*inst )))\n",
        "print(\"Hour \",find(f,60*60*inst),\" = \", \"{:.8E}\".format(find(f,60*60*inst )))\n",
        "print(\"Day \",find(f,24*60*60*inst ),\" = \", \"{:.8E}\".format(find(f,24*60*60*inst )) )\n",
        "print(\"Year \",find(f,365*24*60*60*inst ),\" = \", \"{:.8E}\".format(find(f,365*24*60*60*inst )) )\n",
        "print(\"Century \",find(f,100*365*24*60*60*inst ),\" = \", \"{:.8E}\".format(find(f,100*365*24*60*60*inst )) )\n",
        "print(\"Mileniun \",find(f,1000*100*365*24*60*60*inst ),\" = \", \"{:.8E}\".format(find(f,1000*100*365*24*60*60*inst )) )"
      ],
      "metadata": {
        "colab": {
          "base_uri": "https://localhost:8080/"
        },
        "outputId": "afa3dfd9-2a72-44ab-8662-ca5a7d3c4ec5",
        "id": "HkVkvP0FM6qj"
      },
      "execution_count": null,
      "outputs": [
        {
          "output_type": "stream",
          "name": "stdout",
          "text": [
            "Second  94368799  =  9.43687990E+07\n",
            "Minute   4669880193  =  4.66988019E+09\n",
            "Hour  238139246923  =  2.38139247E+11\n",
            "Day  5116273177934  =  5.11627318E+12\n",
            "Year  1562043197517483  =  1.56204320E+15\n",
            "Century  138456171937759968  =  1.38456172E+17\n",
            "Mileniun  118235943866898644992  =  1.18235944E+20\n"
          ]
        }
      ]
    },
    {
      "cell_type": "markdown",
      "source": [
        "###$\\bf{ Time\\ Complexity\\ n^2}$"
      ],
      "metadata": {
        "id": "ip3RkUVaM6qj"
      }
    },
    {
      "cell_type": "code",
      "source": [
        "import math\n",
        "print(\"Second \",round(math.sqrt(inst )))\n",
        "print(\"Minute  \",round(math.sqrt(60*inst )))\n",
        "print(\"Hour \",round(math.sqrt(60*60*inst )))\n",
        "print(\"Day \",round(math.sqrt(24*60*60*inst )))\n",
        "print(\"Year \",round(math.sqrt(365*24*60*60*inst )))\n",
        "print(\"Century \",round(math.sqrt(100*365*24*60*60*inst )))\n",
        "print(\"Mileniun \",round(math.sqrt(1000*100*365*24*60*60*inst )))"
      ],
      "metadata": {
        "colab": {
          "base_uri": "https://localhost:8080/"
        },
        "outputId": "fa04490d-147b-4607-ddc8-2a2fc6892919",
        "id": "5M5FE88QM6qj"
      },
      "execution_count": null,
      "outputs": [
        {
          "output_type": "stream",
          "name": "stdout",
          "text": [
            "Second  50000\n",
            "Minute   387298\n",
            "Hour  3000000\n",
            "Day  14696938\n",
            "Year  280784615\n",
            "Century  2807846150\n",
            "Mileniun  88791891522\n"
          ]
        }
      ]
    },
    {
      "cell_type": "markdown",
      "source": [
        "###$\\bf{ Time\\ Complexity\\ n^3 }$\n"
      ],
      "metadata": {
        "id": "7kXAuNqcM6qj"
      }
    },
    {
      "cell_type": "code",
      "source": [
        "import math\n",
        "print(\"Second \",round(math.pow(inst ,1/3)))\n",
        "print(\"Minute  \",round(math.pow(60*inst ,1/3)))\n",
        "print(\"Hour \",round(math.pow(60*60*inst ,1/3)))\n",
        "print(\"Day \",round(math.pow(24*60*60*inst ,1/3)))\n",
        "print(\"Year \",round(math.pow(365*24*60*60*inst ,1/3)))\n",
        "print(\"Century \",round(math.pow(100*365*24*60*60*inst ,1/3)))\n",
        "print(\"Mileniun \",round(math.pow(1000*100*365*24*60*60*inst ,1/3)))"
      ],
      "metadata": {
        "colab": {
          "base_uri": "https://localhost:8080/"
        },
        "outputId": "98957ae0-46ad-40a7-ae27-e27cf8e20016",
        "id": "LsW6VxttM6qk"
      },
      "execution_count": null,
      "outputs": [
        {
          "output_type": "stream",
          "name": "stdout",
          "text": [
            "Second  1357\n",
            "Minute   5313\n",
            "Hour  20801\n",
            "Day  60000\n",
            "Year  428794\n",
            "Century  1990286\n",
            "Mileniun  19902862\n"
          ]
        }
      ]
    },
    {
      "cell_type": "markdown",
      "source": [
        "###$\\bf{ Time\\ Complexity\\ n^4 }$\n",
        "\n",
        "\n",
        "\n",
        "  "
      ],
      "metadata": {
        "id": "hjKCUrP4M6qk"
      }
    },
    {
      "cell_type": "code",
      "source": [
        "import math\n",
        "print(\"Second \",round(math.pow(inst ,1/4)))\n",
        "print(\"Minute  \",round(math.pow(60*inst ,1/4)))\n",
        "print(\"Hour \",round(math.pow(60*60*inst ,1/4)))\n",
        "print(\"Day \",round(math.pow(24*60*60*inst ,1/4)))\n",
        "print(\"Year \",round(math.pow(365*24*60*60*inst ,1/4)))\n",
        "print(\"Century \",round(math.pow(100*365*24*60*60*inst ,1/4)))\n",
        "print(\"Mileniun \",round(math.pow(1000*100*365*24*60*60*inst ,1/4)))"
      ],
      "metadata": {
        "colab": {
          "base_uri": "https://localhost:8080/"
        },
        "outputId": "7217129d-62c8-44fa-c965-f20a66965364",
        "id": "Q1vz0Co2M6qk"
      },
      "execution_count": null,
      "outputs": [
        {
          "output_type": "stream",
          "name": "stdout",
          "text": [
            "Second  224\n",
            "Minute   622\n",
            "Hour  1732\n",
            "Day  3834\n",
            "Year  16757\n",
            "Century  52989\n",
            "Mileniun  297980\n"
          ]
        }
      ]
    },
    {
      "cell_type": "markdown",
      "source": [
        "###$\\bf{ Time\\ Complexity\\ 2^n }$\n",
        "\n"
      ],
      "metadata": {
        "id": "cq1TC6qqM6qk"
      }
    },
    {
      "cell_type": "code",
      "source": [
        "import math\n",
        "print(\"Second \",int(math.log2(inst )))\n",
        "print(\"Minute  \",int(math.log2(60*inst )))\n",
        "print(\"Hour \",int(math.log2(60*60*inst )))\n",
        "print(\"Day \",int(math.log2(24*60*60*inst )))\n",
        "print(\"Year \",int(math.log2(365*24*60*60*inst )))\n",
        "print(\"Century \",int(math.log2(100*365*24*60*60*inst )))\n",
        "print(\"Mileniun \",int(math.log2(1000*100*365*24*60*60*inst )))"
      ],
      "metadata": {
        "colab": {
          "base_uri": "https://localhost:8080/"
        },
        "outputId": "04e1347e-08ab-4824-c17a-eaf78984fdba",
        "id": "Qr5tV3fqM6qk"
      },
      "execution_count": null,
      "outputs": [
        {
          "output_type": "stream",
          "name": "stdout",
          "text": [
            "Second  31\n",
            "Minute   37\n",
            "Hour  43\n",
            "Day  47\n",
            "Year  56\n",
            "Century  62\n",
            "Mileniun  72\n"
          ]
        }
      ]
    },
    {
      "cell_type": "markdown",
      "source": [
        "###$\\bf{ Time\\ Complexity\\ n! }$\n",
        "\n"
      ],
      "metadata": {
        "id": "-JpPYbr9M6qk"
      }
    },
    {
      "cell_type": "code",
      "source": [
        "import math\n",
        "def f(n):\n",
        "  return math.factorial(n)\n",
        "\n",
        "def find(f,v):\n",
        "  l = 1\n",
        "  r = 100\n",
        "  while True:\n",
        "    m = int((l+r)/2)\n",
        "    if ((f(m+1) > v) and (f(m) <= v) ) or (l == m) or (r== m):\n",
        "      return int(m)\n",
        "    elif f(m) < v:\n",
        "      l = m\n",
        "    else:\n",
        "      r = m\n",
        "\n",
        "\n",
        "print(\"Second \", find(f,inst ))\n",
        "print(\"Minute  \",find(f,60*inst ))\n",
        "print(\"Hour \",find(f,60*60*inst ))\n",
        "print(\"Day \",find(f,24*60*60*inst ))\n",
        "print(\"Year \",find(f,365*24*60*60*inst ))\n",
        "print(\"Century \",find(f,100*365*24*60*60*inst ))\n",
        "print(\"Mileniun \",find(f,1000*100*365*24*60*60*inst ))"
      ],
      "metadata": {
        "colab": {
          "base_uri": "https://localhost:8080/"
        },
        "outputId": "1090ec5f-8dd0-493c-9021-ab6146e8e88d",
        "id": "bsT37dn7M6qk"
      },
      "execution_count": null,
      "outputs": [
        {
          "output_type": "stream",
          "name": "stdout",
          "text": [
            "Second  12\n",
            "Minute   14\n",
            "Hour  15\n",
            "Day  16\n",
            "Year  18\n",
            "Century  20\n",
            "Mileniun  22\n"
          ]
        }
      ]
    },
    {
      "cell_type": "markdown",
      "source": [
        " ### $\\bf{ Time\\ Complexity\\ n^n }$"
      ],
      "metadata": {
        "id": "m9PD2biFM6ql"
      }
    },
    {
      "cell_type": "code",
      "source": [
        "import math\n",
        "def f(n):\n",
        "  return n**n\n",
        "\n",
        "def find(f,v):\n",
        "  l = 1\n",
        "  r = 100\n",
        "  while True:\n",
        "    m = int((l+r)/2)\n",
        "    if ((f(m+1) > v) and (f(m) <= v) ) or (l == m) or (r== m):\n",
        "      return int(m)\n",
        "    elif f(m) < v:\n",
        "      l = m\n",
        "    else:\n",
        "      r = m\n",
        "\n",
        "print(\"Second \", find(f,inst ))\n",
        "print(\"Minute  \",find(f,60*inst ))\n",
        "print(\"Hour \",find(f,60*60*inst ))\n",
        "print(\"Day \",find(f,24*60*60*inst ))\n",
        "print(\"Year \",find(f,365*24*60*60*inst ))\n",
        "print(\"Century \",find(f,100*365*24*60*60*inst ))\n",
        "print(\"Mileniun \",find(f,1000*100*365*24*60*60*inst ))"
      ],
      "metadata": {
        "colab": {
          "base_uri": "https://localhost:8080/"
        },
        "outputId": "a339e83d-bb36-4dc9-c7a8-8c6fd3688f13",
        "id": "uvhJ5wwoM6ql"
      },
      "execution_count": null,
      "outputs": [
        {
          "output_type": "stream",
          "name": "stdout",
          "text": [
            "Second  9\n",
            "Minute   10\n",
            "Hour  12\n",
            "Day  12\n",
            "Year  14\n",
            "Century  15\n",
            "Mileniun  17\n"
          ]
        }
      ]
    },
    {
      "cell_type": "markdown",
      "metadata": {
        "id": "kwpTH36ZIyQJ"
      },
      "source": [
        "# 3. **1 noneosecond by instruction**\n",
        "\n",
        "Asuuming that you can execute a 1000 million instructions $10^9$ every second, i.e. each instrcution takes 1  nanosecond, 1 $\\eta s  = 10^{-9} s$. If you have algorithms take $\\bf{ Time\\ Complexity}$ steps to solve a problem of size $n$ as specified in column one. What is the size of the largest problem that you can solve in the time specified in row one?\n",
        "$$\n",
        "\\begin{array}{|c|c|c|c|c|c|c|c|}\n",
        " \\hline\n",
        " \\bf{ Time\\ Complexity} & Second  & Minute  & Hour & Day & Year & Century & Mileniun  \\\\\n",
        "  \\hline\\\\\n",
        "\\lg(n) &  2^{10\\times 10^{09}}  &  2^{6\\times 10^{10}}  &2^{3.6\\times 10^{12}}  & 2^{8.64\\times 10^{13}} & 2^{3.1536\\times 10^{16}} & 2^{3.1536\\times 10^{18}} & 2^{3.1536\\times 10^{21}} \\\\\n",
        "   \\hline\\\\\n",
        "\\lg^2(n) &   2^{ 31623 } &  2^{ 244949 } & 2^{ 1897367 } & 2^{ 9295160 } & 2^{ 177583783 } & 2^{ 1775837830 } & 2^{ 56156922993 } \\\\\n",
        "   \\hline\\\\\n",
        "\\sqrt{n} &  10^{18}  &  3.6\\times 10^{21} & 1.296\\times 10^{25} & 7.46496\\times 10^{27} & 9.94519296\\times 10^{32} & 9.94519296\\times 10^{36} & 9.94519296\\times 10^{42} \\\\\n",
        " \\hline\n",
        " n &  10^{09}  & 6\\times 10^{10}  & 3.6\\times 10^{12} & 8.64\\times 10^{13} & 3.1536\\times 10^{16} &  3.1536\\times 10^{18} & 3.1536\\times 10^{21} \\\\\n",
        " \\hline\n",
        " n\\lg(n) &  3.96200770\\times 10^{07}  &  1.94447045\\times 10^{09} & 9.85747745\\times 10^{10} & 2.11037274\\times 10^{12} & 6.41136862\\times 10^{14} & 5.66650934\\times 10^{16} & 4.82300896\\times 10^{19} \\\\\n",
        " \\hline\n",
        " n^2 &  31623  &  244949 & 1897367 & 9295160 & 177583783 & 1775837830 & 56156922993 \\\\\n",
        " \\hline\n",
        "  n^3 &  1000  & 3915  & 15326 & 44208 & 315938 & 1466455 & 14664554 \\\\\n",
        " \\hline\n",
        "  n^4 &  178  & 495  & 1377 & 3049 & 13326 & 42141 & 236975 \\\\\n",
        " \\hline\n",
        "  2^n &  29  &  35 & 41  & 46 & 54 & 61 & 71 \\\\\n",
        " \\hline\n",
        " n! &  12  &  13 & 15 & 16 & 18 & 20 & 22 \\\\\n",
        " \\hline\n",
        " n^n &   9 & 10  & 11 & 12 & 14 & 15 & 17 \\\\\n",
        " \\hline\n",
        "\\end{array}\n",
        "$$\n"
      ]
    },
    {
      "cell_type": "code",
      "source": [
        "inst = 10**9"
      ],
      "metadata": {
        "id": "ZCkfCqfpNoqu"
      },
      "execution_count": null,
      "outputs": []
    },
    {
      "cell_type": "markdown",
      "source": [
        "### $\\bf{ Time\\ Complexity\\ \\lg(n) }$\n"
      ],
      "metadata": {
        "id": "lm9e8VUyNoqv"
      }
    },
    {
      "cell_type": "code",
      "source": [
        "print(\"Second  = 2^\", \"{:.8E}\".format(inst))\n",
        "print(\"Minute  = 2^\", \"{:.8E}\".format(60*inst))\n",
        "print(\"Hour  = 2^\", \"{:.8E}\".format(60*60*inst))\n",
        "print(\"Day  = 2^\", \"{:.8E}\".format(60*60*24*inst))\n",
        "print(\"Year  = 2^\", \"{:.8E}\".format(365*24*60*60*inst))\n",
        "print(\"Century  = 2^\", \"{:.8E}\".format(100*365*24*60*60*inst))\n",
        "print(\"Mileniun  = 2^\", \"{:.8E}\".format(1000*100*365*24*60*60*inst))"
      ],
      "metadata": {
        "colab": {
          "base_uri": "https://localhost:8080/"
        },
        "id": "Q0FNiRrAP8ea",
        "outputId": "22ed4042-5ae9-4a54-f079-b3c99aa2982b"
      },
      "execution_count": null,
      "outputs": [
        {
          "output_type": "stream",
          "name": "stdout",
          "text": [
            "Second  = 2^ 1.00000000E+09\n",
            "Minute  = 2^ 6.00000000E+10\n",
            "Hour  = 2^ 3.60000000E+12\n",
            "Day  = 2^ 8.64000000E+13\n",
            "Year  = 2^ 3.15360000E+16\n",
            "Century  = 2^ 3.15360000E+18\n",
            "Mileniun  = 2^ 3.15360000E+21\n"
          ]
        }
      ]
    },
    {
      "cell_type": "markdown",
      "source": [
        "###$\\bf{ Time\\ Complexity\\ \\lg^2(n) }$\n"
      ],
      "metadata": {
        "id": "wSAsUU_gNoqv"
      }
    },
    {
      "cell_type": "code",
      "source": [
        "import math\n",
        "print(\"Second 2^{\",round(math.sqrt(inst)),\"}\")\n",
        "print(\"Minute 2^{\",round(math.sqrt(60*inst)),\"}\")\n",
        "print(\"Hour 2^{\",round(math.sqrt(60*60*inst)),\"}\")\n",
        "print(\"Day 2^{\",round(math.sqrt(24*60*60*inst)),\"}\")\n",
        "print(\"Year 2^{\",round(math.sqrt(365*24*60*60*inst)),\"}\")\n",
        "print(\"Century 2^{\",round(math.sqrt(100*365*24*60*60*inst)),\"}\")\n",
        "print(\"Mileniun 2^{\",round(math.sqrt(1000*100*365*24*60*60*inst)),\"}\")"
      ],
      "metadata": {
        "colab": {
          "base_uri": "https://localhost:8080/"
        },
        "outputId": "e30101a4-6359-476d-ade0-e1db644560ef",
        "id": "FKK4982uNoqv"
      },
      "execution_count": null,
      "outputs": [
        {
          "output_type": "stream",
          "name": "stdout",
          "text": [
            "Second 2^{ 31623 }\n",
            "Minute 2^{ 244949 }\n",
            "Hour 2^{ 1897367 }\n",
            "Day 2^{ 9295160 }\n",
            "Year 2^{ 177583783 }\n",
            "Century 2^{ 1775837830 }\n",
            "Mileniun 2^{ 56156922993 }\n"
          ]
        }
      ]
    },
    {
      "cell_type": "markdown",
      "source": [
        "###$\\bf{ Time\\ Complexity\\ \\sqrt{n} }$"
      ],
      "metadata": {
        "id": "0wX3entjNoqw"
      }
    },
    {
      "cell_type": "code",
      "source": [
        "import math\n",
        "print(\"Second \", \"{:.8E}\".format(math.pow(inst,2)))\n",
        "print(\"Minute  \",\"{:.8E}\".format(math.pow(60*inst,2)))\n",
        "print(\"Hour \",\"{:.8E}\".format(math.pow(60*60*inst,2)))\n",
        "print(\"Day \",\"{:.8E}\".format(math.pow(24*60*60*inst,2)))\n",
        "print(\"Year \",\"{:.8E}\".format(math.pow(365*24*60*60*inst,2)))\n",
        "print(\"Century \",\"{:.8E}\".format(math.pow(100*365*24*60*60*inst,2)))\n",
        "print(\"Mileniun  \",\"{:.8E}\".format(math.pow(1000*100*365*24*60*60*inst,2)))"
      ],
      "metadata": {
        "colab": {
          "base_uri": "https://localhost:8080/"
        },
        "outputId": "ecf733ba-dd9a-444b-d314-8dd6226ae4b3",
        "id": "PTw-Pt9gNoqw"
      },
      "execution_count": null,
      "outputs": [
        {
          "output_type": "stream",
          "name": "stdout",
          "text": [
            "Second  1.00000000E+18\n",
            "Minute   3.60000000E+21\n",
            "Hour  1.29600000E+25\n",
            "Day  7.46496000E+27\n",
            "Year  9.94519296E+32\n",
            "Century  9.94519296E+36\n",
            "Mileniun   9.94519296E+42\n"
          ]
        }
      ]
    },
    {
      "cell_type": "markdown",
      "source": [
        "### $\\bf{ Time\\ Complexity\\ n }$"
      ],
      "metadata": {
        "id": "OzCI5MCNNoqw"
      }
    },
    {
      "cell_type": "code",
      "source": [
        "import math\n",
        "print(\"Second \", \"{:.8E}\".format(inst))\n",
        "print(\"Minute  \",\"{:.8E}\".format(60*inst))\n",
        "print(\"Hour \",\"{:.8E}\".format(60*60*inst))\n",
        "print(\"Day \",\"{:.8E}\".format(24*60*60*inst))\n",
        "print(\"Year \",\"{:.8E}\".format(365*24*60*60*inst))\n",
        "print(\"Century \",\"{:.8E}\".format(100*365*24*60*60*inst))\n",
        "print(\"Mileniun  \",\"{:.8E}\".format(1000*100*365*24*60*60*inst))"
      ],
      "metadata": {
        "colab": {
          "base_uri": "https://localhost:8080/"
        },
        "outputId": "de237c66-e2fc-4407-f085-10ceac3f423a",
        "id": "w3VvgSQ7Noqw"
      },
      "execution_count": null,
      "outputs": [
        {
          "output_type": "stream",
          "name": "stdout",
          "text": [
            "Second  1.00000000E+09\n",
            "Minute   6.00000000E+10\n",
            "Hour  3.60000000E+12\n",
            "Day  8.64000000E+13\n",
            "Year  3.15360000E+16\n",
            "Century  3.15360000E+18\n",
            "Mileniun   3.15360000E+21\n"
          ]
        }
      ]
    },
    {
      "cell_type": "markdown",
      "source": [
        "###$\\bf{ Time\\ Complexity\\ n\\lg{n} }$\n"
      ],
      "metadata": {
        "id": "kwribeHRNoqw"
      }
    },
    {
      "cell_type": "code",
      "source": [
        "import math\n",
        "def f(n):\n",
        "  return n*math.log2(n)\n",
        "\n",
        "\n",
        "def find(f,v):\n",
        "  l = 1\n",
        "  r = v\n",
        "  while True:\n",
        "    m = int((l+r)/2)\n",
        "    if ((f(m+1) > v) and (f(m) <= v) ) or (l == m) or  (r == m):\n",
        "      return int(m)\n",
        "    elif f(m) < v:\n",
        "      l = m\n",
        "    else:\n",
        "      r = m\n",
        "\n",
        "print(\"Second \", find(f,inst),\" = \", \"{:.8E}\".format(find(f,inst )))\n",
        "print(\"Minute  \",find(f,60*inst),\" = \", \"{:.8E}\".format(find(f,60*inst )))\n",
        "print(\"Hour \",find(f,60*60*inst),\" = \", \"{:.8E}\".format(find(f,60*60*inst )))\n",
        "print(\"Day \",find(f,24*60*60*inst ),\" = \", \"{:.8E}\".format(find(f,24*60*60*inst )) )\n",
        "print(\"Year \",find(f,365*24*60*60*inst ),\" = \", \"{:.8E}\".format(find(f,365*24*60*60*inst )) )\n",
        "print(\"Century \",find(f,100*365*24*60*60*inst ),\" = \", \"{:.8E}\".format(find(f,100*365*24*60*60*inst )) )\n",
        "print(\"Mileniun \",find(f,1000*100*365*24*60*60*inst ),\" = \", \"{:.8E}\".format(find(f,1000*100*365*24*60*60*inst )) )"
      ],
      "metadata": {
        "colab": {
          "base_uri": "https://localhost:8080/"
        },
        "outputId": "a1dc3d3d-11c1-46ca-e5ca-15053c3fb6b0",
        "id": "p7b_UXZINoqw"
      },
      "execution_count": null,
      "outputs": [
        {
          "output_type": "stream",
          "name": "stdout",
          "text": [
            "Second  39620077  =  3.96200770E+07\n",
            "Minute   1944470450  =  1.94447045E+09\n",
            "Hour  98574774544  =  9.85747745E+10\n",
            "Day  2110372739876  =  2.11037274E+12\n",
            "Year  641136862352841  =  6.41136862E+14\n",
            "Century  56665093434063120  =  5.66650934E+16\n",
            "Mileniun  48230089612197773312  =  4.82300896E+19\n"
          ]
        }
      ]
    },
    {
      "cell_type": "markdown",
      "source": [
        "###$\\bf{ Time\\ Complexity\\ n^2}$"
      ],
      "metadata": {
        "id": "A1l5SBvzNoqw"
      }
    },
    {
      "cell_type": "code",
      "source": [
        "import math\n",
        "print(\"Second \",round(math.sqrt(inst )))\n",
        "print(\"Minute  \",round(math.sqrt(60*inst )))\n",
        "print(\"Hour \",round(math.sqrt(60*60*inst )))\n",
        "print(\"Day \",round(math.sqrt(24*60*60*inst )))\n",
        "print(\"Year \",round(math.sqrt(365*24*60*60*inst )))\n",
        "print(\"Century \",round(math.sqrt(100*365*24*60*60*inst )))\n",
        "print(\"Mileniun \",round(math.sqrt(1000*100*365*24*60*60*inst )))"
      ],
      "metadata": {
        "colab": {
          "base_uri": "https://localhost:8080/"
        },
        "outputId": "a4246dad-73a1-44c3-e1b3-669fba5badd2",
        "id": "n9wjrY1LNoqw"
      },
      "execution_count": null,
      "outputs": [
        {
          "output_type": "stream",
          "name": "stdout",
          "text": [
            "Second  31623\n",
            "Minute   244949\n",
            "Hour  1897367\n",
            "Day  9295160\n",
            "Year  177583783\n",
            "Century  1775837830\n",
            "Mileniun  56156922993\n"
          ]
        }
      ]
    },
    {
      "cell_type": "markdown",
      "source": [
        "###$\\bf{ Time\\ Complexity\\ n^3 }$\n"
      ],
      "metadata": {
        "id": "nMyjGWN1Noqw"
      }
    },
    {
      "cell_type": "code",
      "source": [
        "import math\n",
        "print(\"Second \",round(math.pow(inst ,1/3)))\n",
        "print(\"Minute  \",round(math.pow(60*inst ,1/3)))\n",
        "print(\"Hour \",round(math.pow(60*60*inst ,1/3)))\n",
        "print(\"Day \",round(math.pow(24*60*60*inst ,1/3)))\n",
        "print(\"Year \",round(math.pow(365*24*60*60*inst ,1/3)))\n",
        "print(\"Century \",round(math.pow(100*365*24*60*60*inst ,1/3)))\n",
        "print(\"Mileniun \",round(math.pow(1000*100*365*24*60*60*inst ,1/3)))"
      ],
      "metadata": {
        "colab": {
          "base_uri": "https://localhost:8080/"
        },
        "outputId": "909d1bbd-982c-4278-df97-2f4b9a609fa6",
        "id": "FbWRNOjuNoqx"
      },
      "execution_count": null,
      "outputs": [
        {
          "output_type": "stream",
          "name": "stdout",
          "text": [
            "Second  1000\n",
            "Minute   3915\n",
            "Hour  15326\n",
            "Day  44208\n",
            "Year  315938\n",
            "Century  1466455\n",
            "Mileniun  14664554\n"
          ]
        }
      ]
    },
    {
      "cell_type": "markdown",
      "source": [
        "###$\\bf{ Time\\ Complexity\\ n^4 }$\n",
        "\n",
        "\n",
        "\n",
        "  "
      ],
      "metadata": {
        "id": "hSxPvqMcNoqx"
      }
    },
    {
      "cell_type": "code",
      "source": [
        "import math\n",
        "print(\"Second \",round(math.pow(inst ,1/4)))\n",
        "print(\"Minute  \",round(math.pow(60*inst ,1/4)))\n",
        "print(\"Hour \",round(math.pow(60*60*inst ,1/4)))\n",
        "print(\"Day \",round(math.pow(24*60*60*inst ,1/4)))\n",
        "print(\"Year \",round(math.pow(365*24*60*60*inst ,1/4)))\n",
        "print(\"Century \",round(math.pow(100*365*24*60*60*inst ,1/4)))\n",
        "print(\"Mileniun \",round(math.pow(1000*100*365*24*60*60*inst ,1/4)))"
      ],
      "metadata": {
        "colab": {
          "base_uri": "https://localhost:8080/"
        },
        "outputId": "fc699c62-a12d-4469-fdcb-38dfba9d74a9",
        "id": "KZ89skD3Noqx"
      },
      "execution_count": null,
      "outputs": [
        {
          "output_type": "stream",
          "name": "stdout",
          "text": [
            "Second  178\n",
            "Minute   495\n",
            "Hour  1377\n",
            "Day  3049\n",
            "Year  13326\n",
            "Century  42141\n",
            "Mileniun  236975\n"
          ]
        }
      ]
    },
    {
      "cell_type": "markdown",
      "source": [
        "###$\\bf{ Time\\ Complexity\\ 2^n }$\n",
        "\n"
      ],
      "metadata": {
        "id": "uYfQmiDnNoqx"
      }
    },
    {
      "cell_type": "code",
      "source": [
        "import math\n",
        "print(\"Second \",int(math.log2(inst )))\n",
        "print(\"Minute  \",int(math.log2(60*inst )))\n",
        "print(\"Hour \",int(math.log2(60*60*inst )))\n",
        "print(\"Day \",int(math.log2(24*60*60*inst )))\n",
        "print(\"Year \",int(math.log2(365*24*60*60*inst )))\n",
        "print(\"Century \",int(math.log2(100*365*24*60*60*inst )))\n",
        "print(\"Mileniun \",int(math.log2(1000*100*365*24*60*60*inst )))"
      ],
      "metadata": {
        "colab": {
          "base_uri": "https://localhost:8080/"
        },
        "outputId": "e13dfd05-7984-4e40-d040-e040ac17f1f9",
        "id": "i9k2_jiENoqx"
      },
      "execution_count": null,
      "outputs": [
        {
          "output_type": "stream",
          "name": "stdout",
          "text": [
            "Second  29\n",
            "Minute   35\n",
            "Hour  41\n",
            "Day  46\n",
            "Year  54\n",
            "Century  61\n",
            "Mileniun  71\n"
          ]
        }
      ]
    },
    {
      "cell_type": "markdown",
      "source": [
        "###$\\bf{ Time\\ Complexity\\ n! }$\n",
        "\n"
      ],
      "metadata": {
        "id": "qArIputyNoqx"
      }
    },
    {
      "cell_type": "code",
      "source": [
        "import math\n",
        "def f(n):\n",
        "  return math.factorial(n)\n",
        "\n",
        "def find(f,v):\n",
        "  l = 1\n",
        "  r = 100\n",
        "  while True:\n",
        "    m = int((l+r)/2)\n",
        "    if ((f(m+1) > v) and (f(m) <= v) ) or (l == m) or (r== m):\n",
        "      return int(m)\n",
        "    elif f(m) < v:\n",
        "      l = m\n",
        "    else:\n",
        "      r = m\n",
        "\n",
        "\n",
        "print(\"Second \", find(f,inst ))\n",
        "print(\"Minute  \",find(f,60*inst ))\n",
        "print(\"Hour \",find(f,60*60*inst ))\n",
        "print(\"Day \",find(f,24*60*60*inst ))\n",
        "print(\"Year \",find(f,365*24*60*60*inst ))\n",
        "print(\"Century \",find(f,100*365*24*60*60*inst ))\n",
        "print(\"Mileniun \",find(f,1000*100*365*24*60*60*inst ))"
      ],
      "metadata": {
        "colab": {
          "base_uri": "https://localhost:8080/"
        },
        "outputId": "2d57ad1f-ae64-4e38-fefb-550426f5b221",
        "id": "jaQ5cGL4Noqx"
      },
      "execution_count": null,
      "outputs": [
        {
          "output_type": "stream",
          "name": "stdout",
          "text": [
            "Second  12\n",
            "Minute   13\n",
            "Hour  15\n",
            "Day  16\n",
            "Year  18\n",
            "Century  20\n",
            "Mileniun  22\n"
          ]
        }
      ]
    },
    {
      "cell_type": "markdown",
      "source": [
        " ### $\\bf{ Time\\ Complexity\\ n^n }$"
      ],
      "metadata": {
        "id": "xbQTuV0pNoqx"
      }
    },
    {
      "cell_type": "code",
      "source": [
        "import math\n",
        "def f(n):\n",
        "  return n**n\n",
        "\n",
        "def find(f,v):\n",
        "  l = 1\n",
        "  r = 100\n",
        "  while True:\n",
        "    m = int((l+r)/2)\n",
        "    if ((f(m+1) > v) and (f(m) <= v) ) or (l == m) or (r== m):\n",
        "      return int(m)\n",
        "    elif f(m) < v:\n",
        "      l = m\n",
        "    else:\n",
        "      r = m\n",
        "\n",
        "print(\"Second \", find(f,inst ))\n",
        "print(\"Minute  \",find(f,60*inst ))\n",
        "print(\"Hour \",find(f,60*60*inst ))\n",
        "print(\"Day \",find(f,24*60*60*inst ))\n",
        "print(\"Year \",find(f,365*24*60*60*inst ))\n",
        "print(\"Century \",find(f,100*365*24*60*60*inst ))\n",
        "print(\"Mileniun \",find(f,1000*100*365*24*60*60*inst ))"
      ],
      "metadata": {
        "colab": {
          "base_uri": "https://localhost:8080/"
        },
        "outputId": "61228ac5-b98b-4c02-e696-3d62e81feaf0",
        "id": "HrXiwO1qNoqx"
      },
      "execution_count": null,
      "outputs": [
        {
          "output_type": "stream",
          "name": "stdout",
          "text": [
            "Second  9\n",
            "Minute   10\n",
            "Hour  11\n",
            "Day  12\n",
            "Year  14\n",
            "Century  15\n",
            "Mileniun  17\n"
          ]
        }
      ]
    }
  ]
}