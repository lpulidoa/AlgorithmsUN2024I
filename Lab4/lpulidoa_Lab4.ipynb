{
  "cells": [
    {
      "cell_type": "markdown",
      "metadata": {
        "id": "view-in-github",
        "colab_type": "text"
      },
      "source": [
        "<a href=\"https://colab.research.google.com/github/lpulidoa/AlgorithmsUN2024I/blob/main/lpulidoa_Lab4.ipynb\" target=\"_parent\"><img src=\"https://colab.research.google.com/assets/colab-badge.svg\" alt=\"Open In Colab\"/></a>"
      ]
    },
    {
      "cell_type": "code",
      "execution_count": null,
      "metadata": {
        "id": "im-VVd1__7VU",
        "colab": {
          "base_uri": "https://localhost:8080/"
        },
        "outputId": "5672b807-ccd7-4944-ce65-1bcd24e131a4"
      },
      "outputs": [
        {
          "output_type": "stream",
          "name": "stdout",
          "text": [
            "processor\t: 0\n",
            "vendor_id\t: GenuineIntel\n",
            "cpu family\t: 6\n",
            "model\t\t: 79\n",
            "model name\t: Intel(R) Xeon(R) CPU @ 2.20GHz\n",
            "stepping\t: 0\n",
            "microcode\t: 0xffffffff\n",
            "cpu MHz\t\t: 2199.998\n",
            "cache size\t: 56320 KB\n",
            "physical id\t: 0\n",
            "siblings\t: 2\n",
            "core id\t\t: 0\n",
            "cpu cores\t: 1\n",
            "apicid\t\t: 0\n",
            "initial apicid\t: 0\n",
            "fpu\t\t: yes\n",
            "fpu_exception\t: yes\n",
            "cpuid level\t: 13\n",
            "wp\t\t: yes\n",
            "flags\t\t: fpu vme de pse tsc msr pae mce cx8 apic sep mtrr pge mca cmov pat pse36 clflush mmx fxsr sse sse2 ss ht syscall nx pdpe1gb rdtscp lm constant_tsc rep_good nopl xtopology nonstop_tsc cpuid tsc_known_freq pni pclmulqdq ssse3 fma cx16 pcid sse4_1 sse4_2 x2apic movbe popcnt aes xsave avx f16c rdrand hypervisor lahf_lm abm 3dnowprefetch invpcid_single ssbd ibrs ibpb stibp fsgsbase tsc_adjust bmi1 hle avx2 smep bmi2 erms invpcid rtm rdseed adx smap xsaveopt arat md_clear arch_capabilities\n",
            "bugs\t\t: cpu_meltdown spectre_v1 spectre_v2 spec_store_bypass l1tf mds swapgs taa mmio_stale_data retbleed\n",
            "bogomips\t: 4399.99\n",
            "clflush size\t: 64\n",
            "cache_alignment\t: 64\n",
            "address sizes\t: 46 bits physical, 48 bits virtual\n",
            "power management:\n",
            "\n",
            "processor\t: 1\n",
            "vendor_id\t: GenuineIntel\n",
            "cpu family\t: 6\n",
            "model\t\t: 79\n",
            "model name\t: Intel(R) Xeon(R) CPU @ 2.20GHz\n",
            "stepping\t: 0\n",
            "microcode\t: 0xffffffff\n",
            "cpu MHz\t\t: 2199.998\n",
            "cache size\t: 56320 KB\n",
            "physical id\t: 0\n",
            "siblings\t: 2\n",
            "core id\t\t: 0\n",
            "cpu cores\t: 1\n",
            "apicid\t\t: 1\n",
            "initial apicid\t: 1\n",
            "fpu\t\t: yes\n",
            "fpu_exception\t: yes\n",
            "cpuid level\t: 13\n",
            "wp\t\t: yes\n",
            "flags\t\t: fpu vme de pse tsc msr pae mce cx8 apic sep mtrr pge mca cmov pat pse36 clflush mmx fxsr sse sse2 ss ht syscall nx pdpe1gb rdtscp lm constant_tsc rep_good nopl xtopology nonstop_tsc cpuid tsc_known_freq pni pclmulqdq ssse3 fma cx16 pcid sse4_1 sse4_2 x2apic movbe popcnt aes xsave avx f16c rdrand hypervisor lahf_lm abm 3dnowprefetch invpcid_single ssbd ibrs ibpb stibp fsgsbase tsc_adjust bmi1 hle avx2 smep bmi2 erms invpcid rtm rdseed adx smap xsaveopt arat md_clear arch_capabilities\n",
            "bugs\t\t: cpu_meltdown spectre_v1 spectre_v2 spec_store_bypass l1tf mds swapgs taa mmio_stale_data retbleed\n",
            "bogomips\t: 4399.99\n",
            "clflush size\t: 64\n",
            "cache_alignment\t: 64\n",
            "address sizes\t: 46 bits physical, 48 bits virtual\n",
            "power management:\n",
            "\n"
          ]
        }
      ],
      "source": [
        "!cat /proc/cpuinfo"
      ]
    },
    {
      "cell_type": "markdown",
      "metadata": {
        "id": "N1ok_-56OjB1"
      },
      "source": [
        "# I Solving the Sum of Two Digits Programming Challenge"
      ]
    },
    {
      "cell_type": "markdown",
      "metadata": {
        "id": "MMY7kmDSO0KM"
      },
      "source": [
        "## C++"
      ]
    },
    {
      "cell_type": "code",
      "execution_count": null,
      "metadata": {
        "colab": {
          "base_uri": "https://localhost:8080/"
        },
        "id": "2pGGf9BkPNIk",
        "outputId": "6526fe48-2d04-406d-b45c-7a445754588e"
      },
      "outputs": [
        {
          "output_type": "stream",
          "name": "stdout",
          "text": [
            "Writing APlusB.cpp\n"
          ]
        }
      ],
      "source": [
        "%%writefile APlusB.cpp\n",
        "#include <iostream>\n",
        "\n",
        "int sum_of_two_digits(int first_digit, int second_digit) {\n",
        "    return first_digit + second_digit;\n",
        "}\n",
        "\n",
        "int main() {\n",
        "    int a = 0;\n",
        "    int b = 0;\n",
        "    std::cin >> a;\n",
        "    std::cin >> b;\n",
        "    std::cout << sum_of_two_digits(a, b);\n",
        "    return 0;\n",
        "}"
      ]
    },
    {
      "cell_type": "code",
      "execution_count": null,
      "metadata": {
        "colab": {
          "base_uri": "https://localhost:8080/"
        },
        "id": "0G3ZKOYAPXSU",
        "outputId": "ca368c51-c930-4452-8edb-e879d4c491ac"
      },
      "outputs": [
        {
          "output_type": "stream",
          "name": "stdout",
          "text": [
            "1\n",
            "2\n",
            "3"
          ]
        }
      ],
      "source": [
        "!g++ APlusB.cpp -o APlusB -std=c++11\n",
        "!./APlusB"
      ]
    },
    {
      "cell_type": "markdown",
      "metadata": {
        "id": "iNkG2HqfTl9c"
      },
      "source": [
        "### Test input output files"
      ]
    },
    {
      "cell_type": "code",
      "execution_count": null,
      "metadata": {
        "colab": {
          "base_uri": "https://localhost:8080/"
        },
        "id": "aTzU2efzMxly",
        "outputId": "348f0b0d-d89d-4c45-8efa-14f61c58f089"
      },
      "outputs": [
        {
          "output_type": "stream",
          "name": "stdout",
          "text": [
            "Writing input1.txt\n"
          ]
        }
      ],
      "source": [
        "%%writefile input1.txt\n",
        "4 8"
      ]
    },
    {
      "cell_type": "code",
      "execution_count": null,
      "metadata": {
        "colab": {
          "base_uri": "https://localhost:8080/"
        },
        "id": "zBJ0Gc0NQRet",
        "outputId": "67b6bc2b-a6a2-449c-c360-397b0ddc5c91"
      },
      "outputs": [
        {
          "output_type": "stream",
          "name": "stdout",
          "text": [
            "Writing output1.txt\n"
          ]
        }
      ],
      "source": [
        "%%writefile output1.txt\n",
        "12"
      ]
    },
    {
      "cell_type": "code",
      "execution_count": null,
      "metadata": {
        "colab": {
          "base_uri": "https://localhost:8080/"
        },
        "id": "IjEcIx63PJAN",
        "outputId": "2a4de107-deec-4056-9300-00c2f1fa876b"
      },
      "outputs": [
        {
          "output_type": "stream",
          "name": "stdout",
          "text": [
            "Writing input2.txt\n"
          ]
        }
      ],
      "source": [
        "%%writefile input2.txt\n",
        "0 9"
      ]
    },
    {
      "cell_type": "code",
      "execution_count": null,
      "metadata": {
        "colab": {
          "base_uri": "https://localhost:8080/"
        },
        "id": "Up9gOrxURTmd",
        "outputId": "37a6fb29-3c4c-4ea6-8f0f-e7602e941163"
      },
      "outputs": [
        {
          "output_type": "stream",
          "name": "stdout",
          "text": [
            "Writing output2.txt\n"
          ]
        }
      ],
      "source": [
        "%%writefile output2.txt\n",
        "9"
      ]
    },
    {
      "cell_type": "code",
      "execution_count": null,
      "metadata": {
        "colab": {
          "base_uri": "https://localhost:8080/"
        },
        "id": "PST6G-s-Pwgc",
        "outputId": "acc3da99-5ea8-4d41-e228-ecd1f335530a"
      },
      "outputs": [
        {
          "output_type": "stream",
          "name": "stdout",
          "text": [
            "12"
          ]
        }
      ],
      "source": [
        "!./APlusB < input1.txt"
      ]
    },
    {
      "cell_type": "code",
      "execution_count": null,
      "metadata": {
        "colab": {
          "base_uri": "https://localhost:8080/"
        },
        "id": "cKxZOjSlRfIN",
        "outputId": "410be40e-ad6f-4290-d4fb-9a0d4f36fd84"
      },
      "outputs": [
        {
          "output_type": "stream",
          "name": "stdout",
          "text": [
            "9"
          ]
        }
      ],
      "source": [
        "!./APlusB < input2.txt"
      ]
    },
    {
      "cell_type": "markdown",
      "metadata": {
        "id": "Qw2TQWCCUwqk"
      },
      "source": [
        "### Comparing files with grep\n",
        "\n",
        "https://askubuntu.com/questions/546796/comparing-two-text-files"
      ]
    },
    {
      "cell_type": "code",
      "execution_count": null,
      "metadata": {
        "id": "WVIaAmMKU4QM"
      },
      "outputs": [],
      "source": [
        "!grep -xvFf output1.txt output1.txt"
      ]
    },
    {
      "cell_type": "code",
      "execution_count": null,
      "metadata": {
        "id": "MQU8gPPjQuYO",
        "colab": {
          "base_uri": "https://localhost:8080/"
        },
        "outputId": "a1a93f9b-5b61-4cf5-c994-b046fa5ab8c5"
      },
      "outputs": [
        {
          "output_type": "stream",
          "name": "stdout",
          "text": [
            "9\n"
          ]
        }
      ],
      "source": [
        "!grep -xvFf output1.txt output2.txt"
      ]
    },
    {
      "cell_type": "code",
      "execution_count": null,
      "metadata": {
        "colab": {
          "base_uri": "https://localhost:8080/"
        },
        "id": "jYL9OuYBTD_l",
        "outputId": "f4d3a2a9-c197-4ba4-9787-dcb0a5312f33"
      },
      "outputs": [
        {
          "output_type": "stream",
          "name": "stdout",
          "text": [
            "12\n"
          ]
        }
      ],
      "source": [
        "!grep -xvFf output2.txt output1.txt"
      ]
    },
    {
      "cell_type": "code",
      "execution_count": null,
      "metadata": {
        "id": "Jlja0Xm4TX9M"
      },
      "outputs": [],
      "source": [
        "!./APlusB < input1.txt> ctest1.txt\n",
        "!grep -xvFf output1.txt ctest1.txt"
      ]
    },
    {
      "cell_type": "code",
      "execution_count": null,
      "metadata": {
        "id": "g9OIUZA_QLCQ"
      },
      "outputs": [],
      "source": [
        "!./APlusB < input2.txt > ctest2.txt\n",
        "!grep -xvFf output2.txt ctest2.txt"
      ]
    },
    {
      "cell_type": "markdown",
      "metadata": {
        "id": "3BgOaDjUVJk6"
      },
      "source": [
        "## Python"
      ]
    },
    {
      "cell_type": "code",
      "execution_count": null,
      "metadata": {
        "colab": {
          "base_uri": "https://localhost:8080/"
        },
        "id": "DBvl-T0CTN_8",
        "outputId": "b450c0e5-a6f5-465f-e2c5-ce3b7b207526"
      },
      "outputs": [
        {
          "output_type": "stream",
          "name": "stdout",
          "text": [
            "Writing sum.py\n"
          ]
        }
      ],
      "source": [
        "%%writefile sum.py\n",
        "# python3\n",
        "\n",
        "def sum_of_two_digits(first_digit, second_digit):\n",
        "    return first_digit + second_digit\n",
        "\n",
        "if __name__ == '__main__':\n",
        "    a, b = map(int, input().split())\n",
        "    print(sum_of_two_digits(a, b))"
      ]
    },
    {
      "cell_type": "code",
      "execution_count": null,
      "metadata": {
        "colab": {
          "base_uri": "https://localhost:8080/"
        },
        "id": "QKoKM11_WGyF",
        "outputId": "be28db8b-0fe4-40d6-edb8-0eb4cb59754c"
      },
      "outputs": [
        {
          "output_type": "stream",
          "name": "stdout",
          "text": [
            "1 2\n",
            "3\n"
          ]
        }
      ],
      "source": [
        "!python sum.py"
      ]
    },
    {
      "cell_type": "code",
      "execution_count": null,
      "metadata": {
        "id": "cocFbPRTWrqt"
      },
      "outputs": [],
      "source": [
        "!python sum.py  < input1.txt> ptest1.txt\n",
        "!grep -xvFf output1.txt ptest1.txt"
      ]
    },
    {
      "cell_type": "code",
      "execution_count": null,
      "metadata": {
        "id": "MorKTa-XXASN"
      },
      "outputs": [],
      "source": [
        "!python sum.py  < input2.txt> ptest2.txt\n",
        "!grep -xvFf output2.txt ptest2.txt"
      ]
    },
    {
      "cell_type": "markdown",
      "metadata": {
        "id": "uvP-mOubW_5F"
      },
      "source": [
        "# II Solving The Maximum Pairwise Product Programming Challenge in C++"
      ]
    },
    {
      "cell_type": "markdown",
      "metadata": {
        "id": "C12yoFR6Xonl"
      },
      "source": [
        "## C++\n",
        "\n",
        "$$ T(n) < 6 n^2 = O(n^2)$$"
      ]
    },
    {
      "cell_type": "code",
      "source": [
        "%%writefile max_pairwise_product_full.cpp\n",
        "#include <iostream>\n",
        "#include <vector>\n",
        "#include <algorithm>\n",
        "\n",
        "int MaxPairwiseProduct(const std::vector<int>& numbers) {\n",
        "    int max_product = 0;\n",
        "    int aux_product = 0;\n",
        "    int n = numbers.size();\n",
        "\n",
        "    for (int first = 0; first < n; ++first) {\n",
        "        for (int second = 0; second < n; ++second) {\n",
        "          if ( first != second ){\n",
        "                aux_product = numbers[first] * numbers[second];\n",
        "                if (aux_product > max_product)  max_product = aux_product;\n",
        "          }\n",
        "        }\n",
        "    }\n",
        "\n",
        "    return max_product;\n",
        "}\n",
        "\n",
        "int main() {\n",
        "    int n;\n",
        "    std::cin >> n;\n",
        "    std::vector<int> numbers(n);\n",
        "    for (int i = 0; i < n; ++i) {\n",
        "        std::cin >> numbers[i];\n",
        "    }\n",
        "\n",
        "    std::cout << MaxPairwiseProduct(numbers) << \"\\n\";\n",
        "    return 0;\n",
        "}"
      ],
      "metadata": {
        "colab": {
          "base_uri": "https://localhost:8080/"
        },
        "id": "3LpfoGv2Ae81",
        "outputId": "e67edec1-1efc-40a1-ad50-a6a9b37ee3e7"
      },
      "execution_count": null,
      "outputs": [
        {
          "output_type": "stream",
          "name": "stdout",
          "text": [
            "Writing max_pairwise_product_full.cpp\n"
          ]
        }
      ]
    },
    {
      "cell_type": "markdown",
      "metadata": {
        "id": "m75IQQPbEHBS"
      },
      "source": [
        "#### Time Complexity\n",
        "$$\\left. \\begin{array}{llc}\n",
        " \\text{INSTRUCTION} & \\text{TYPE}& \\text{# EXECUTIONS}\\\\\n",
        "\\text{first != second} &  \\text{comparisons} &n^2 \\\\\n",
        "\\text{numbers[first] * numbers[second]}& \\ \\text{ products}  &n^2 - n \\\\\n",
        "\\text{max_product = aux_product} &  \\text{assigments} & [1, \\frac{n^2 - n}{2})  \n",
        "\\end{array}\\right\\}  =  O(n^2)$$"
      ]
    },
    {
      "cell_type": "code",
      "source": [
        "!g++ max_pairwise_product_full.cpp -o max_pairwise_product_full\n",
        "!./max_pairwise_product_full"
      ],
      "metadata": {
        "id": "PCVo1h6nCF9k",
        "colab": {
          "base_uri": "https://localhost:8080/"
        },
        "outputId": "92e7c647-d1b9-4936-f791-e513d2777d21"
      },
      "execution_count": null,
      "outputs": [
        {
          "output_type": "stream",
          "name": "stdout",
          "text": [
            "^C\n"
          ]
        }
      ]
    },
    {
      "cell_type": "markdown",
      "metadata": {
        "id": "e7KhxHGNS3i0"
      },
      "source": [
        "### Test 1: Small numbers"
      ]
    },
    {
      "cell_type": "code",
      "source": [
        "%%writefile input0.txt\n",
        "10\n",
        "0 0 0 0 0 0 0 0 0 0"
      ],
      "metadata": {
        "colab": {
          "base_uri": "https://localhost:8080/"
        },
        "id": "17npyXt7lYzA",
        "outputId": "e080aba1-8261-4f2d-9faf-d14f13adf9d1"
      },
      "execution_count": null,
      "outputs": [
        {
          "output_type": "stream",
          "name": "stdout",
          "text": [
            "Writing input0.txt\n"
          ]
        }
      ]
    },
    {
      "cell_type": "code",
      "source": [
        "!./max_pairwise_product_full < input0.txt"
      ],
      "metadata": {
        "colab": {
          "base_uri": "https://localhost:8080/"
        },
        "id": "c7jKCeQ5A1HY",
        "outputId": "d89b21a5-1cb7-4f7b-a61e-d4d1a45b9e6e"
      },
      "execution_count": null,
      "outputs": [
        {
          "output_type": "stream",
          "name": "stdout",
          "text": [
            "/bin/bash: line 1: ./max_pairwise_product_full: No such file or directory\n"
          ]
        }
      ]
    },
    {
      "cell_type": "code",
      "source": [
        "%%writefile output0.txt\n",
        "0"
      ],
      "metadata": {
        "colab": {
          "base_uri": "https://localhost:8080/"
        },
        "id": "NooGEkJylezm",
        "outputId": "a161b9d2-b2c5-4408-f30c-e7681200c829"
      },
      "execution_count": null,
      "outputs": [
        {
          "output_type": "stream",
          "name": "stdout",
          "text": [
            "Writing output0.txt\n"
          ]
        }
      ]
    },
    {
      "cell_type": "code",
      "source": [
        "!./max_pairwise_product_full< input0.txt > ctest0.txt\n",
        "!grep -xvFf output0.txt ctest0.txt"
      ],
      "metadata": {
        "id": "R0yFaAOrlqrE",
        "colab": {
          "base_uri": "https://localhost:8080/"
        },
        "outputId": "7769cf02-981a-4402-cbc0-baca5551b317"
      },
      "execution_count": null,
      "outputs": [
        {
          "output_type": "stream",
          "name": "stdout",
          "text": [
            "/bin/bash: line 1: ./max_pairwise_product_full: No such file or directory\n"
          ]
        }
      ]
    },
    {
      "cell_type": "code",
      "execution_count": null,
      "metadata": {
        "colab": {
          "base_uri": "https://localhost:8080/"
        },
        "id": "e1mmTzBgShT-",
        "outputId": "be084d2c-004c-43e8-f9cb-883b74eb1e42"
      },
      "outputs": [
        {
          "output_type": "stream",
          "name": "stdout",
          "text": [
            "Writing input1.txt\n"
          ]
        }
      ],
      "source": [
        "%%writefile input1.txt\n",
        "10\n",
        "1 2 3 4 5 6 7 8 9 10"
      ]
    },
    {
      "cell_type": "code",
      "execution_count": null,
      "metadata": {
        "colab": {
          "base_uri": "https://localhost:8080/"
        },
        "id": "vy_uI0x7TCId",
        "outputId": "7e85fd35-5f83-4b32-f5fe-bee105bb83bb"
      },
      "outputs": [
        {
          "output_type": "stream",
          "name": "stdout",
          "text": [
            "90\n"
          ]
        }
      ],
      "source": [
        "!./max_pairwise_product_full < input1.txt"
      ]
    },
    {
      "cell_type": "code",
      "execution_count": null,
      "metadata": {
        "colab": {
          "base_uri": "https://localhost:8080/"
        },
        "id": "xaj6f9bxC6D6",
        "outputId": "1882ce93-b1ca-4671-d3f2-c1965d205bbc"
      },
      "outputs": [
        {
          "output_type": "stream",
          "name": "stdout",
          "text": [
            "Overwriting output1.txt\n"
          ]
        }
      ],
      "source": [
        "%%writefile output1.txt\n",
        "90"
      ]
    },
    {
      "cell_type": "code",
      "execution_count": null,
      "metadata": {
        "id": "fYCjAdA_C-wy"
      },
      "outputs": [],
      "source": [
        "!./max_pairwise_product_full< input1.txt > ctest1.txt\n",
        "!grep -xvFf output1.txt ctest1.txt"
      ]
    },
    {
      "cell_type": "code",
      "source": [
        "%%writefile input2.txt\n",
        "10\n",
        "10 9 8 7 6 5 4 3 2 1"
      ],
      "metadata": {
        "colab": {
          "base_uri": "https://localhost:8080/"
        },
        "id": "ZPe40LY14_6f",
        "outputId": "66dae151-4454-4758-8f1b-ba3c02aaec6c"
      },
      "execution_count": null,
      "outputs": [
        {
          "output_type": "stream",
          "name": "stdout",
          "text": [
            "Writing input2.txt\n"
          ]
        }
      ]
    },
    {
      "cell_type": "code",
      "source": [
        "%%writefile output2.txt\n",
        "90"
      ],
      "metadata": {
        "colab": {
          "base_uri": "https://localhost:8080/"
        },
        "id": "xiHmF7HA5Faa",
        "outputId": "c57ba7bb-1f8f-4002-e9f8-1937289988fe"
      },
      "execution_count": null,
      "outputs": [
        {
          "output_type": "stream",
          "name": "stdout",
          "text": [
            "Overwriting output2.txt\n"
          ]
        }
      ]
    },
    {
      "cell_type": "code",
      "source": [
        "!./max_pairwise_product_full< input2.txt > ctest2.txt\n",
        "!grep -xvFf output2.txt ctest2.txt"
      ],
      "metadata": {
        "id": "jjwc9kwb5t_k"
      },
      "execution_count": null,
      "outputs": []
    },
    {
      "cell_type": "markdown",
      "metadata": {
        "id": "IeZ3kTjpYmR9"
      },
      "source": [
        "### Test 2: largest input numbers 200000 200000 to check possible intger overflow"
      ]
    },
    {
      "cell_type": "code",
      "execution_count": null,
      "metadata": {
        "colab": {
          "base_uri": "https://localhost:8080/"
        },
        "id": "LQNlZqaqYt7U",
        "outputId": "73d03780-6902-4b11-cfe3-45a76ebec19d"
      },
      "outputs": [
        {
          "output_type": "stream",
          "name": "stdout",
          "text": [
            "Writing input3.txt\n"
          ]
        }
      ],
      "source": [
        "%%writefile input3.txt\n",
        "6\n",
        "1 3 200000 9 200000 23"
      ]
    },
    {
      "cell_type": "code",
      "execution_count": null,
      "metadata": {
        "colab": {
          "base_uri": "https://localhost:8080/"
        },
        "id": "2Wad2VZUZDxR",
        "outputId": "df2cbe95-cc0c-4c96-f058-620016e76419"
      },
      "outputs": [
        {
          "output_type": "stream",
          "name": "stdout",
          "text": [
            "1345294336\n"
          ]
        }
      ],
      "source": [
        "!./max_pairwise_product_full < input3.txt"
      ]
    },
    {
      "cell_type": "code",
      "execution_count": null,
      "metadata": {
        "colab": {
          "base_uri": "https://localhost:8080/"
        },
        "id": "EuS6n3jtDK5C",
        "outputId": "b9feab76-c554-4ca8-dc3e-419cf06ffe47"
      },
      "outputs": [
        {
          "output_type": "stream",
          "name": "stdout",
          "text": [
            "Overwriting output3.txt\n"
          ]
        }
      ],
      "source": [
        "%%writefile output3.txt\n",
        "1345294336"
      ]
    },
    {
      "cell_type": "code",
      "execution_count": null,
      "metadata": {
        "id": "pEvp1ieyDJGq"
      },
      "outputs": [],
      "source": [
        "!./max_pairwise_product_full < input3.txt > ctest3.txt\n",
        "!grep -xvFf output3.txt ctest3.txt"
      ]
    },
    {
      "cell_type": "code",
      "source": [
        " %%writefile run_all_test.sh\n",
        "#!/bin/bash\n",
        "g++ max_pairwise_product_full.cpp -o max_pairwise_product_full\n",
        "for i in {0..3}\n",
        "do\n",
        "    ./max_pairwise_product_full < input$i.txt > ctest$i.txt\n",
        "    grep -xvFf output$i.txt ctest$i.txt\n",
        "done"
      ],
      "metadata": {
        "colab": {
          "base_uri": "https://localhost:8080/"
        },
        "id": "SrtJrKqM-God",
        "outputId": "1f5a7313-d504-4431-faa8-228bda199fc1"
      },
      "execution_count": null,
      "outputs": [
        {
          "output_type": "stream",
          "name": "stdout",
          "text": [
            "Overwriting run_all_test.sh\n"
          ]
        }
      ]
    },
    {
      "cell_type": "code",
      "source": [
        "!chmod u+x run_all_test.sh\n",
        "!./run_all_test.sh"
      ],
      "metadata": {
        "colab": {
          "base_uri": "https://localhost:8080/"
        },
        "id": "wGWMHtzS-QnA",
        "outputId": "bd4f7052-bce4-4db3-a3af-4185653ecbb9"
      },
      "execution_count": null,
      "outputs": [
        {
          "output_type": "stream",
          "name": "stdout",
          "text": [
            "\u001b[01m\u001b[Kcc1plus:\u001b[m\u001b[K \u001b[01;31m\u001b[Kfatal error: \u001b[m\u001b[Kmax_pairwise_product_full.cpp: No such file or directory\n",
            "compilation terminated.\n",
            "./run_all_test.sh: line 5: input0.txt: No such file or directory\n",
            "grep: output0.txt: No such file or directory\n",
            "./run_all_test.sh: line 5: input1.txt: No such file or directory\n",
            "grep: output1.txt: No such file or directory\n",
            "./run_all_test.sh: line 5: input2.txt: No such file or directory\n",
            "grep: output2.txt: No such file or directory\n",
            "./run_all_test.sh: line 5: ./max_pairwise_product_full: No such file or directory\n",
            "grep: output3.txt: No such file or directory\n"
          ]
        }
      ]
    },
    {
      "cell_type": "markdown",
      "metadata": {
        "id": "H2SC0Qt5HCzz"
      },
      "source": [
        "### Changing the variables to long long"
      ]
    },
    {
      "cell_type": "code",
      "execution_count": null,
      "metadata": {
        "colab": {
          "base_uri": "https://localhost:8080/"
        },
        "id": "MPcmsxiQZSfE",
        "outputId": "3f4713fd-3a00-4b50-ab16-bf6026d3b03c"
      },
      "outputs": [
        {
          "output_type": "stream",
          "name": "stdout",
          "text": [
            "Writing max_pairwise_product_long_full.cpp\n"
          ]
        }
      ],
      "source": [
        "%%writefile max_pairwise_product_long_full.cpp\n",
        "#include <iostream>\n",
        "#include <vector>\n",
        "#include <algorithm>\n",
        "\n",
        "long long MaxPairwiseProduct(const std::vector<int>& numbers) {\n",
        "    long long max_product = 0LL;\n",
        "\t  long long aux_product = 0LL;\n",
        "    int n = numbers.size();\n",
        "\n",
        "    for (int first = 0; first < n; ++first) {\n",
        "        for (int second = 0; second < n; ++second) {\n",
        "          if ( first != second){\n",
        "                aux_product = (long long) numbers[first] * numbers[second];\n",
        "                if (aux_product > max_product)  max_product = aux_product;\n",
        "          }\n",
        "        }\n",
        "    }\n",
        "\n",
        "\n",
        "    return max_product;\n",
        "}\n",
        "\n",
        "int main() {\n",
        "    int n;\n",
        "    std::cin >> n;\n",
        "    std::vector<int> numbers(n);\n",
        "    for (int i = 0; i < n; ++i) {\n",
        "        std::cin >> numbers[i];\n",
        "    }\n",
        "\n",
        "    std::cout << MaxPairwiseProduct(numbers) << \"\\n\";\n",
        "    return 0;\n",
        "}\n"
      ]
    },
    {
      "cell_type": "code",
      "source": [
        "!g++ max_pairwise_product_long_full.cpp -o max_pairwise_product_long_full"
      ],
      "metadata": {
        "id": "W3xQpFXL6wjO"
      },
      "execution_count": null,
      "outputs": []
    },
    {
      "cell_type": "code",
      "source": [
        "!./max_pairwise_product_long_full < input3.txt"
      ],
      "metadata": {
        "colab": {
          "base_uri": "https://localhost:8080/"
        },
        "id": "H5dvN9M3R9sV",
        "outputId": "711bed1d-ee5b-4790-ee0e-39ec2d41076e"
      },
      "execution_count": null,
      "outputs": [
        {
          "output_type": "stream",
          "name": "stdout",
          "text": [
            "40000000000\n"
          ]
        }
      ]
    },
    {
      "cell_type": "code",
      "source": [
        "%%writefile output3.txt\n",
        "40000000000"
      ],
      "metadata": {
        "colab": {
          "base_uri": "https://localhost:8080/"
        },
        "id": "H-QFZ0jcWtQA",
        "outputId": "19395b1a-4f0b-4f0c-bbdb-33a4acefe594"
      },
      "execution_count": null,
      "outputs": [
        {
          "output_type": "stream",
          "name": "stdout",
          "text": [
            "Overwriting output3.txt\n"
          ]
        }
      ]
    },
    {
      "cell_type": "markdown",
      "source": [
        "### Runing multuple test with a bash shell"
      ],
      "metadata": {
        "id": "gx-sEYdfQ8f8"
      }
    },
    {
      "cell_type": "code",
      "source": [
        " %%writefile run_all_test.sh\n",
        "#!/bin/bash\n",
        "g++ max_pairwise_product_long_full.cpp -o max_pairwise_product_long_full\n",
        "for i in {1..3}\n",
        "do\n",
        "    ./max_pairwise_product_long_full < input$i.txt > ctest$i.txt\n",
        "    grep -xvFf output$i.txt ctest$i.txt\n",
        "done"
      ],
      "metadata": {
        "colab": {
          "base_uri": "https://localhost:8080/"
        },
        "id": "O9qsq2nn7elw",
        "outputId": "3e2e86dc-e103-4298-cfcc-352a0b193024"
      },
      "execution_count": null,
      "outputs": [
        {
          "output_type": "stream",
          "name": "stdout",
          "text": [
            "Writing run_all_test.sh\n"
          ]
        }
      ]
    },
    {
      "cell_type": "code",
      "source": [
        "!chmod u+x run_all_test.sh\n",
        "!./run_all_test.sh"
      ],
      "metadata": {
        "id": "0g5kKVph7xIA",
        "colab": {
          "base_uri": "https://localhost:8080/"
        },
        "outputId": "b686698c-f66b-4f8f-ed97-50f4fca79aa9"
      },
      "execution_count": null,
      "outputs": [
        {
          "output_type": "stream",
          "name": "stdout",
          "text": [
            "\u001b[01m\u001b[Kcc1plus:\u001b[m\u001b[K \u001b[01;31m\u001b[Kfatal error: \u001b[m\u001b[Kmax_pairwise_product_long_full.cpp: No such file or directory\n",
            "compilation terminated.\n",
            "./run_all_test.sh: line 5: input1.txt: No such file or directory\n",
            "grep: output1.txt: No such file or directory\n",
            "./run_all_test.sh: line 5: input2.txt: No such file or directory\n",
            "grep: output2.txt: No such file or directory\n",
            "./run_all_test.sh: line 5: ./max_pairwise_product_long_full: No such file or directory\n",
            "grep: output3.txt: No such file or directory\n"
          ]
        }
      ]
    },
    {
      "cell_type": "markdown",
      "metadata": {
        "id": "XPVHkHxH6_7s"
      },
      "source": [
        "### Test 3  stress tests, 6 testing cases files input4.txt/output4.txt .. input10.txt/output10.txt\n",
        "\n",
        "---\n",
        "\n"
      ]
    },
    {
      "cell_type": "code",
      "execution_count": null,
      "metadata": {
        "id": "PwqpBmYr69fu",
        "colab": {
          "base_uri": "https://localhost:8080/"
        },
        "outputId": "54acbbcd-6e20-41f0-9cd2-7ae8fb7bb19d"
      },
      "outputs": [
        {
          "output_type": "stream",
          "name": "stdout",
          "text": [
            "Overwriting input3.txt\n"
          ]
        }
      ],
      "source": [
        "%%writefile input3.txt\n",
        "6\n",
        "1 3000 2000 9 20 23"
      ]
    },
    {
      "cell_type": "code",
      "execution_count": null,
      "metadata": {
        "id": "jBCkMeR6Fw4y",
        "colab": {
          "base_uri": "https://localhost:8080/"
        },
        "outputId": "36d8b843-f100-4662-f82e-cc21abdf3e1a"
      },
      "outputs": [
        {
          "output_type": "stream",
          "name": "stdout",
          "text": [
            "Writing input4.txt\n"
          ]
        }
      ],
      "source": [
        "%%writefile input4.txt\n",
        "7\n",
        "11 456 789 101112 131415 161718 192021"
      ]
    },
    {
      "cell_type": "code",
      "source": [
        "%%writefile input5.txt\n",
        "5\n",
        "951 753 654 852 379"
      ],
      "metadata": {
        "id": "zED8V8wu-eoM",
        "colab": {
          "base_uri": "https://localhost:8080/"
        },
        "outputId": "59019e6a-57c1-4d9a-a38c-3d6d87b300fa"
      },
      "execution_count": null,
      "outputs": [
        {
          "output_type": "stream",
          "name": "stdout",
          "text": [
            "Writing input5.txt\n"
          ]
        }
      ]
    },
    {
      "cell_type": "code",
      "source": [
        "%%writefile input6.txt\n",
        "8\n",
        "900 1000 1100 1050 850 660 780 222"
      ],
      "metadata": {
        "colab": {
          "base_uri": "https://localhost:8080/"
        },
        "id": "8ab_qmkGDEeu",
        "outputId": "85d472c1-3072-4ea5-e0eb-47ecb194b37f"
      },
      "execution_count": null,
      "outputs": [
        {
          "output_type": "stream",
          "name": "stdout",
          "text": [
            "Writing input6.txt\n"
          ]
        }
      ]
    },
    {
      "cell_type": "code",
      "source": [
        "%%writefile input7.txt\n",
        "4\n",
        "741 852 963 684"
      ],
      "metadata": {
        "colab": {
          "base_uri": "https://localhost:8080/"
        },
        "id": "fPJ6_ryHDH3y",
        "outputId": "bde96418-0121-4a69-cc0e-b47a46fd156a"
      },
      "execution_count": null,
      "outputs": [
        {
          "output_type": "stream",
          "name": "stdout",
          "text": [
            "Writing input7.txt\n"
          ]
        }
      ]
    },
    {
      "cell_type": "code",
      "source": [
        "%%writefile input8.txt\n",
        "5\n",
        "167 943 381 927 200000"
      ],
      "metadata": {
        "colab": {
          "base_uri": "https://localhost:8080/"
        },
        "id": "MjyMhgpRDK2R",
        "outputId": "a55cf31e-e036-464f-dd32-693f3a22c949"
      },
      "execution_count": null,
      "outputs": [
        {
          "output_type": "stream",
          "name": "stdout",
          "text": [
            "Writing input8.txt\n"
          ]
        }
      ]
    },
    {
      "cell_type": "code",
      "source": [
        "%%writefile input9.txt\n",
        "6\n",
        "1 3333 2000 9 2222 23"
      ],
      "metadata": {
        "colab": {
          "base_uri": "https://localhost:8080/"
        },
        "id": "7NinAf1RDPkR",
        "outputId": "157cf749-edaf-4e14-ae53-1fe84f36119c"
      },
      "execution_count": null,
      "outputs": [
        {
          "output_type": "stream",
          "name": "stdout",
          "text": [
            "Writing input9.txt\n"
          ]
        }
      ]
    },
    {
      "cell_type": "code",
      "source": [
        "%%writefile input10.txt\n",
        "6\n",
        "1111 2222 3333 4444 5555 6666"
      ],
      "metadata": {
        "colab": {
          "base_uri": "https://localhost:8080/"
        },
        "id": "o7pWWQo3DR6e",
        "outputId": "c5a234aa-df53-4df2-bcd1-b3dc2cb13df0"
      },
      "execution_count": null,
      "outputs": [
        {
          "output_type": "stream",
          "name": "stdout",
          "text": [
            "Writing input10.txt\n"
          ]
        }
      ]
    },
    {
      "cell_type": "code",
      "source": [
        "!./max_pairwise_product_long_full < input1.txt\n",
        "!./max_pairwise_product_long_full < input2.txt\n",
        "!./max_pairwise_product_long_full < input3.txt > output3.txt\n",
        "!./max_pairwise_product_long_full < input4.txt > output4.txt\n",
        "!./max_pairwise_product_long_full < input5.txt > output5.txt\n",
        "!./max_pairwise_product_long_full < input6.txt > output6.txt\n",
        "!./max_pairwise_product_long_full < input7.txt > output7.txt\n",
        "!./max_pairwise_product_long_full < input8.txt > output8.txt\n",
        "!./max_pairwise_product_long_full < input9.txt > output9.txt\n",
        "!./max_pairwise_product_long_full < input10.txt > output10.txt"
      ],
      "metadata": {
        "colab": {
          "base_uri": "https://localhost:8080/"
        },
        "id": "7AQIrrLLDUQu",
        "outputId": "06f0344c-334c-4cbb-faa5-203a4525e709"
      },
      "execution_count": null,
      "outputs": [
        {
          "output_type": "stream",
          "name": "stdout",
          "text": [
            "90\n",
            "90\n"
          ]
        }
      ]
    },
    {
      "cell_type": "markdown",
      "metadata": {
        "id": "9z9yr5QkeyJF"
      },
      "source": [
        "### Test 4  time test  measure the execution time running with the the largest worst cases input11.txt  (200000 increasing numbers) and input12.txt (199998 increasing numbers and  200000, 200000 at the end)"
      ]
    },
    {
      "cell_type": "code",
      "source": [
        "# input11.txt 200000 increasing numbers:  1 2 .. 200000\n",
        "\n",
        "%%writefile WriteTest.cpp\n",
        "\n",
        "#include <iostream>\n",
        "#include <fstream>\n",
        "#include <cstdlib>\n",
        "\n",
        "using namespace std;\n",
        "\n",
        "int main() {\n",
        "  // Create and open a text file\n",
        "  ofstream MyFile(\"input11.txt\");\n",
        "\n",
        " MyFile << 200000 <<\"\\n\";  // n\n",
        " for (int i=1; i <200001; i++){\n",
        "     MyFile << i <<\" \";\n",
        " }\n",
        "\n",
        "  // Close the file\n",
        "  MyFile.close();\n",
        "}"
      ],
      "metadata": {
        "colab": {
          "base_uri": "https://localhost:8080/"
        },
        "id": "UmB1ipWM_nSk",
        "outputId": "24d4d944-3bf2-45ce-80d2-4c5efa1a5162"
      },
      "execution_count": null,
      "outputs": [
        {
          "output_type": "stream",
          "name": "stdout",
          "text": [
            "Writing WriteTest.cpp\n"
          ]
        }
      ]
    },
    {
      "cell_type": "code",
      "execution_count": null,
      "metadata": {
        "id": "EH25TkOkZfD9"
      },
      "outputs": [],
      "source": [
        "!g++ WriteTest.cpp -o WriteTest\n",
        "!./WriteTest"
      ]
    },
    {
      "cell_type": "code",
      "source": [
        "199999 * 200000"
      ],
      "metadata": {
        "colab": {
          "base_uri": "https://localhost:8080/"
        },
        "id": "j0mokSOnCCtZ",
        "outputId": "059be770-ab02-4bed-ec10-5c54dbd05027"
      },
      "execution_count": null,
      "outputs": [
        {
          "output_type": "execute_result",
          "data": {
            "text/plain": [
              "39999800000"
            ]
          },
          "metadata": {},
          "execution_count": 70
        }
      ]
    },
    {
      "cell_type": "code",
      "source": [
        "%%writefile output11.txt\n",
        "39999800000"
      ],
      "metadata": {
        "id": "VoDhDV73B5Mo",
        "colab": {
          "base_uri": "https://localhost:8080/"
        },
        "outputId": "913aa142-dc91-4101-abe0-d573b6b74c8f"
      },
      "execution_count": null,
      "outputs": [
        {
          "output_type": "stream",
          "name": "stdout",
          "text": [
            "Writing output11.txt\n"
          ]
        }
      ]
    },
    {
      "cell_type": "code",
      "execution_count": null,
      "metadata": {
        "colab": {
          "base_uri": "https://localhost:8080/"
        },
        "id": "oLiMjbAIfPlX",
        "outputId": "7c861afe-bb0a-48e3-8732-f11d8ca09edc"
      },
      "outputs": [
        {
          "output_type": "stream",
          "name": "stdout",
          "text": [
            "Overwriting WriteTest.cpp\n"
          ]
        }
      ],
      "source": [
        "# input12.txt 200000 decreasing numbers and 200000, 199999 ...  2 1\n",
        "\n",
        "%%writefile WriteTest.cpp\n",
        "\n",
        "#include <iostream>\n",
        "#include <fstream>\n",
        "#include <cstdlib>\n",
        "\n",
        "using namespace std;\n",
        "\n",
        "int main() {\n",
        "  // Create and open a text file\n",
        "  ofstream MyFile(\"input12.txt\");\n",
        "\n",
        " MyFile << 200000 <<\"\\n\";  // n\n",
        " for (int i=1; i <200001; i++){\n",
        "     MyFile << 200001-i <<\" \";\n",
        " }\n",
        "\n",
        "  // Close the file\n",
        "  MyFile.close();\n",
        "}"
      ]
    },
    {
      "cell_type": "code",
      "source": [
        "!g++ WriteTest.cpp -o WriteTest\n",
        "!./WriteTest"
      ],
      "metadata": {
        "id": "oULNBr_zAd9c"
      },
      "execution_count": null,
      "outputs": []
    },
    {
      "cell_type": "code",
      "source": [
        "%%writefile output12.txt\n",
        "39999800000"
      ],
      "metadata": {
        "colab": {
          "base_uri": "https://localhost:8080/"
        },
        "id": "PQLyocaFB-y4",
        "outputId": "aca2a007-8a24-4a60-959c-a400464694bb"
      },
      "execution_count": null,
      "outputs": [
        {
          "output_type": "stream",
          "name": "stdout",
          "text": [
            "Writing output12.txt\n"
          ]
        }
      ]
    },
    {
      "cell_type": "markdown",
      "metadata": {
        "id": "JB6f03qO-lj9"
      },
      "source": [
        "### Measure time\n",
        "\n",
        "https://askubuntu.com/questions/53444/how-can-i-measure-the-execution-time-of-a-terminal-process"
      ]
    },
    {
      "cell_type": "code",
      "execution_count": null,
      "metadata": {
        "colab": {
          "base_uri": "https://localhost:8080/"
        },
        "id": "6p2QLEr576zk",
        "outputId": "b81e8006-6a21-4f13-9dda-4cfca73110b3"
      },
      "outputs": [
        {
          "output_type": "stream",
          "name": "stdout",
          "text": [
            "39999800000\n",
            "\n",
            "real\t4m56.082s\n",
            "user\t4m53.554s\n",
            "sys\t0m0.086s\n"
          ]
        }
      ],
      "source": [
        "!g++ max_pairwise_product_long_full.cpp -o max_pairwise_product_long_full\n",
        "!time ./max_pairwise_product_long_full< input11.txt"
      ]
    },
    {
      "cell_type": "code",
      "source": [
        "!g++ max_pairwise_product_long_full.cpp -o max_pairwise_product_long_full\n",
        "!time ./max_pairwise_product_long_full< input12.txt"
      ],
      "metadata": {
        "colab": {
          "base_uri": "https://localhost:8080/"
        },
        "id": "cnjCyeUdAnZj",
        "outputId": "ddc5104c-6351-4afa-9676-41c0483350cb"
      },
      "execution_count": null,
      "outputs": [
        {
          "output_type": "stream",
          "name": "stdout",
          "text": [
            "39999800000\n",
            "\n",
            "real\t4m56.009s\n",
            "user\t4m53.336s\n",
            "sys\t0m0.105s\n"
          ]
        }
      ]
    },
    {
      "cell_type": "markdown",
      "metadata": {
        "id": "FXClpBsUJuXC"
      },
      "source": [
        "### Calculate the number or and upper bound to the number of instructions executed by the algorithm as a function of n, add in each line a comment with the number of instructions that are executed in that line."
      ]
    },
    {
      "cell_type": "code",
      "execution_count": null,
      "metadata": {
        "colab": {
          "base_uri": "https://localhost:8080/"
        },
        "id": "uG6Mv-Pwlkii",
        "outputId": "0e5fe110-8398-40b1-e65c-30ec1da0f78a"
      },
      "outputs": [
        {
          "output_type": "stream",
          "name": "stdout",
          "text": [
            "Overwriting max_pairwise_product_long_full.cpp\n"
          ]
        }
      ],
      "source": [
        "%%writefile max_pairwise_product_long_full.cpp\n",
        "#include <iostream>\n",
        "#include <vector>\n",
        "#include <algorithm>\n",
        "\n",
        "long long MaxPairwiseProduct(const std::vector<int>& numbers) {              //INSTRUCTIONS executed by line\n",
        "    long long max_product = 0LL;                                             //1\n",
        "\t  long long aux_product = 0LL;                                             //1\n",
        "    int n = numbers.size();                                                  //1\n",
        "\n",
        "    for (int first = 0; first < n; ++first) {                                //2+2n\n",
        "        for (int second = 0; second < n; ++second) {                         //2n + 2n**2\n",
        "          if ( first != second ){                                            //n**2\n",
        "                aux_product = numbers[first] * numbers[second];              //n**2 -n\n",
        "                if (aux_product > max_product)                               //n**2 -n\n",
        "                    max_product = aux_product;                               //[0, n**2/2 - n/2] upper bound\n",
        "          }\n",
        "        }\n",
        "    }\n",
        "\n",
        "                                                                             // --------------\n",
        "    return max_product;                                                      // 5 + 2*n + [5*n**2, 11*n**2/2  - n/2]  upper bound\n",
        "}\n",
        "\n",
        "int main() {                                              //INSTRUCTIONS executed by line\n",
        "    int n;                                                //1\n",
        "    std::cin >> n;                                        //1\n",
        "    std::vector<int> numbers(n);                          //n\n",
        "    for (int i = 0; i < n; ++i) {                         //2 + 2n\n",
        "        std::cin >> numbers[i];                           //n\n",
        "    }\n",
        "\n",
        "    std::cout << MaxPairwiseProduct(numbers) << \"\\n\";     //1 + 1  + 5 + 2*n + [5*n**2, 11*n**2/2  - n/2]\n",
        "\n",
        "    return 0;                                             // --------------\n",
        "}                                                         //  11 + 6*n + [5*n**2, 11*n**2/2  - n/2]  upper bound\n"
      ]
    },
    {
      "cell_type": "markdown",
      "metadata": {
        "id": "0vTsUg8OwcHs"
      },
      "source": [
        "### Count executed intructions in code"
      ]
    },
    {
      "cell_type": "code",
      "execution_count": null,
      "metadata": {
        "colab": {
          "base_uri": "https://localhost:8080/"
        },
        "id": "CuRKkqQc137V",
        "outputId": "414430d7-f83a-46f5-841a-ca6beb445ec4"
      },
      "outputs": [
        {
          "output_type": "stream",
          "name": "stdout",
          "text": [
            "Overwriting max_pairwise_product_long_full_execints.cpp\n"
          ]
        }
      ],
      "source": [
        "%%writefile max_pairwise_product_long_full_execints.cpp\n",
        "#include <iostream>\n",
        "#include <vector>\n",
        "#include <algorithm>\n",
        "\n",
        "long long MaxPairwiseProduct(const std::vector<int>& numbers, long long &execints) {      //INSTRUCTIONS executed by line\n",
        "\n",
        "    long long max_product = 0LL;                                                          //1\n",
        "    execints++;\n",
        "\n",
        "\t  long long aux_product = 0LL;                                                          //1\n",
        "    execints++;\n",
        "\n",
        "    int n = numbers.size();                                                               //1\n",
        "    execints++;\n",
        "\n",
        "    execints++;\n",
        "    for (int first = 0; first < n; ++first) {                                             //2+2n\n",
        "        execints += 2;\n",
        "\n",
        "        execints++;\n",
        "        for (int second = 0; second < n; ++second) {                                       //2n + 2n**2\n",
        "          execints += 2;\n",
        "\n",
        "          execints++;\n",
        "          if ( first != second ){                                                         //n**2\n",
        "                aux_product = numbers[first] * numbers[second];                           //n**2 -n\n",
        "                execints++;\n",
        "\n",
        "                execints++;\n",
        "                if (aux_product > max_product){                                           //n**2 -n\n",
        "                    max_product = aux_product;                                            //[0,n**2/2 - n/2)  upper bound\n",
        "                    execints++;\n",
        "\n",
        "                }\n",
        "        }\n",
        "\n",
        "      }\n",
        "      execints++;\n",
        "    }\n",
        "    execints++;\n",
        "                                                                                        // --------------\n",
        "    return max_product;                                                                 // 5 + 2*n + [5*n**2, 11*n**2/2  - n/2] upper bound\n",
        "}\n",
        "\n",
        "int main() {                                                 //INSTRUCTIONS executed by line\n",
        "\n",
        "    long long execints =0LL;\n",
        "\n",
        "    int n;                                                   //1\n",
        "    execints++;\n",
        "\n",
        "    std::cin >> n;                                           //1\n",
        "    execints++;\n",
        "\n",
        "    std::vector<int> numbers(n);                             //n\n",
        "    execints += n;\n",
        "\n",
        "    execints++;\n",
        "    for (int i = 0; i < n; ++i) {                            //2 + 2n\n",
        "        execints += 2;\n",
        "\n",
        "        std::cin >> numbers[i];\n",
        "        execints++;                                          //n\n",
        "\n",
        "    }\n",
        "\n",
        "\n",
        "    //std::cout << MaxPairwiseProduct(numbers) << \"\\n\";      //1 + 1  + 5 + 2*n + [5*n**2, 11*n**2/2  - n/2] upper bound\n",
        "\n",
        "    execints++;\n",
        "    int M = MaxPairwiseProduct(numbers,execints);\n",
        "\n",
        "    execints++;\n",
        "    std::cout <<  execints << \"\\n\";\n",
        "    return 0;                                                // --------------\n",
        "}                                                            // 11 + 6*n + [5*n**2, 11*n**2/2  - n/2]"
      ]
    },
    {
      "cell_type": "code",
      "source": [
        "!g++ max_pairwise_product_long_full_execints.cpp -o max_pairwise_product_long_full_execints\n",
        "!./max_pairwise_product_long_full_execints < input1.txt\n",
        "!./max_pairwise_product_long_full_execints < input2.txt\n",
        "!./max_pairwise_product_long_full_execints < input3.txt"
      ],
      "metadata": {
        "id": "yz9rD4VaEJ8i"
      },
      "execution_count": null,
      "outputs": []
    },
    {
      "cell_type": "markdown",
      "source": [
        "The number of instructions executed by the algooirithm with a list of size $n$ is  \n",
        "\n",
        "$$T (n) = 11 + 6n + \\left[5n^2, 11\\frac{n^2}{2}  - \\frac{n}{2}\\right)  >  6n^2 = O(n^2)$$\n",
        "\n",
        "It depends on the size of the lists and  the order of the list.\n",
        "\n",
        "For the input0.txt\n",
        "```\n",
        "10\n",
        "0 0 0 0 0 0 0 0 0 0\n",
        "```\n",
        "$$T = 11 + 6(10) + 5(10)^2   = 561 $$\n",
        "\n",
        "$$T(10) \\in [571, 621)  $$\n"
      ],
      "metadata": {
        "id": "cUjHtvtdDsmr"
      }
    },
    {
      "cell_type": "code",
      "source": [
        "!g++ max_pairwise_product_long_full_execints.cpp -o max_pairwise_product_long_full_execints\n",
        "!./max_pairwise_product_long_full_execints < input0.txt"
      ],
      "metadata": {
        "colab": {
          "base_uri": "https://localhost:8080/"
        },
        "id": "Om9Fevb0miAT",
        "outputId": "b4f71f1c-3b81-4e88-9901-fe14a79cd844"
      },
      "execution_count": null,
      "outputs": [
        {
          "output_type": "stream",
          "name": "stdout",
          "text": [
            "571\n"
          ]
        }
      ]
    },
    {
      "cell_type": "markdown",
      "source": [
        "For the input1.txt\n",
        "```\n",
        "10\n",
        "1 2 3 4 5 6 7 8 9 10\n",
        "```\n",
        "$$T = 11 + 6(10) + 5(10)^2 +  9 + 5 + 4 + 3 + 2 + 2 + 2 + 2 + 1 + 0  = 601 $$\n",
        "\n",
        "$$T(10) \\in [572, 622)  $$\n"
      ],
      "metadata": {
        "id": "FwJzZ6VzmArY"
      }
    },
    {
      "cell_type": "code",
      "source": [
        "#The number of times that  max_product = aux_product; in the worst case is less than (n**2 -n)/2 -  upper bound\n",
        "\n",
        "#     1  2  3  4  5  6  7  8  9  10\n",
        "#  1  x  2  3  4  5  6  7  8  9  10         9\n",
        "#  2  2  x  6  8  10 12 14 16 18 20         5 14\n",
        "#  3  3  6  x  12 15 18 21 24 27 30         4 18\n",
        "#  4  4  8  12 x  20 24 28 32 36 40         3 21\n",
        "#  5  5  10 15 20 x  30 35 40 45 50         2 23\n",
        "#  6  6  12 18 24 30 x  42 48 54 60         2 25\n",
        "#  7  7  14 21 28 35 42 x  56 63 70         2 27\n",
        "#  8  8  18 27 36 45 54 63 72 x  90         1 30\n",
        "#  10 10 20 30 40 50 60 70 60 90 x          0"
      ],
      "metadata": {
        "id": "K59xQMWiBNFj"
      },
      "execution_count": null,
      "outputs": []
    },
    {
      "cell_type": "code",
      "source": [
        "11 + 6*(10) + 5*(10)*(10) +  9 + 5 + 4 + 3 + 2 + 2 + 2 + 2 + 1 + 0"
      ],
      "metadata": {
        "colab": {
          "base_uri": "https://localhost:8080/"
        },
        "id": "E3O8dzFfEgir",
        "outputId": "6c2e8d12-2a23-4910-b29d-83305bb78214"
      },
      "execution_count": null,
      "outputs": [
        {
          "output_type": "execute_result",
          "data": {
            "text/plain": [
              "601"
            ]
          },
          "metadata": {},
          "execution_count": 63
        }
      ]
    },
    {
      "cell_type": "code",
      "source": [
        "n = 10\n",
        "print( \"[\", 11 + 6*n + 5*n**2,  \",\", 11 + 6*n  + 5.5*n**2, \")\")"
      ],
      "metadata": {
        "colab": {
          "base_uri": "https://localhost:8080/"
        },
        "id": "TCpdl5u_Gq1a",
        "outputId": "908511b0-6e5b-4503-845d-867942a1f888"
      },
      "execution_count": null,
      "outputs": [
        {
          "output_type": "stream",
          "name": "stdout",
          "text": [
            "[ 571 , 621.0 )\n"
          ]
        }
      ]
    },
    {
      "cell_type": "code",
      "execution_count": null,
      "metadata": {
        "colab": {
          "base_uri": "https://localhost:8080/"
        },
        "id": "Kuvm1C05ly2a",
        "outputId": "ea67bcbf-2740-4333-9e06-c08006d88b5d"
      },
      "outputs": [
        {
          "output_type": "stream",
          "name": "stdout",
          "text": [
            "44\n",
            "44\n",
            "601\n"
          ]
        }
      ],
      "source": [
        "!g++ max_pairwise_product_long_full_execints.cpp -o max_pairwise_product_long_full_execints\n",
        "!./max_pairwise_product_long_full_execints < input1.txt"
      ]
    },
    {
      "cell_type": "markdown",
      "source": [
        "\n",
        "For the input2.txt\n",
        "```\n",
        "10\n",
        "10 9 8 7 6 5 4 3 2 1\n",
        "```\n",
        "$$T = 11 + 6*(10) + 5*(10)**2 +  1  = 571 $$"
      ],
      "metadata": {
        "id": "Yr_Lb7CaHfxB"
      }
    },
    {
      "cell_type": "code",
      "source": [
        "11 + 6*(10) + 5*(10)**2 +  1"
      ],
      "metadata": {
        "colab": {
          "base_uri": "https://localhost:8080/"
        },
        "id": "HOdqlwJiZUIp",
        "outputId": "0558fe10-221f-4537-eaab-c0515ea1b22c"
      },
      "execution_count": null,
      "outputs": [
        {
          "output_type": "execute_result",
          "data": {
            "text/plain": [
              "572"
            ]
          },
          "metadata": {},
          "execution_count": 54
        }
      ]
    },
    {
      "cell_type": "code",
      "source": [
        "!g++ max_pairwise_product_long_full_execints.cpp -o max_pairwise_product_long_full_execints\n",
        "!./max_pairwise_product_long_full_execints < input2.txt"
      ],
      "metadata": {
        "id": "_znzLectjFSe",
        "colab": {
          "base_uri": "https://localhost:8080/"
        },
        "outputId": "c29cd54b-653c-420e-9ea9-c232b1def807"
      },
      "execution_count": null,
      "outputs": [
        {
          "output_type": "stream",
          "name": "stdout",
          "text": [
            "572\n"
          ]
        }
      ]
    },
    {
      "cell_type": "markdown",
      "metadata": {
        "id": "NXW7QkoBL6xH"
      },
      "source": [
        "Calculate estimated time by instruction and number of instructions by second"
      ]
    },
    {
      "cell_type": "markdown",
      "source": [
        "For the input11.txt\n",
        "```\n",
        "200000\n",
        "1 2 ..  199999 2000\n",
        "```\n",
        "$$T = 11 + 6*(200000) + 5.5*(200000)**2  = 200001200012  $$"
      ],
      "metadata": {
        "id": "dlyRjaohz-YH"
      }
    },
    {
      "cell_type": "code",
      "source": [
        "!g++ max_pairwise_product_long_full_execints.cpp -o max_pairwise_product_long_full_execints\n",
        "!time ./max_pairwise_product_long_full_execints < input11.txt"
      ],
      "metadata": {
        "colab": {
          "base_uri": "https://localhost:8080/"
        },
        "id": "BMH8mF3EKn2w",
        "outputId": "59a227ed-24b9-494a-d476-d45f33b3d395"
      },
      "execution_count": null,
      "outputs": [
        {
          "output_type": "stream",
          "name": "stdout",
          "text": [
            "200003177092\n"
          ]
        }
      ]
    },
    {
      "cell_type": "code",
      "execution_count": null,
      "metadata": {
        "colab": {
          "base_uri": "https://localhost:8080/"
        },
        "id": "pKqB3i7dIxnc",
        "outputId": "c3d75520-0c34-4970-b331-6cbec92fb0be"
      },
      "outputs": [
        {
          "output_type": "execute_result",
          "data": {
            "text/plain": [
              "1.4749765693187072e-09"
            ]
          },
          "metadata": {},
          "execution_count": 60
        }
      ],
      "source": [
        "# Estimated time by instruction\n",
        "\n",
        "295/200003177092\n"
      ]
    },
    {
      "cell_type": "code",
      "execution_count": null,
      "metadata": {
        "colab": {
          "base_uri": "https://localhost:8080/"
        },
        "id": "18N1ouqeMhE1",
        "outputId": "e92c5ec2-ee15-47c4-e4a9-ff32a7ff7e0f"
      },
      "outputs": [
        {
          "output_type": "execute_result",
          "data": {
            "text/plain": [
              "677976871.4983051"
            ]
          },
          "metadata": {},
          "execution_count": 61
        }
      ],
      "source": [
        "# Estimated number of instructions by second\n",
        "\n",
        "200003177092/295"
      ]
    },
    {
      "cell_type": "markdown",
      "source": [
        "### Estimate and verify the maximun n that can be solved in 1 second\n",
        "\n",
        "$$(5.5n^2 + 5.5n + 11) \\times 1.47*10^{-9} s = 1 s$$\n",
        "\n",
        "$$ n \\approx 11000$$\n"
      ],
      "metadata": {
        "id": "KyuxejFkL5X_"
      }
    },
    {
      "cell_type": "code",
      "source": [
        "# Verify input13.txt\n",
        "%%writefile WriteTest.cpp\n",
        "\n",
        "#include <iostream>\n",
        "#include <fstream>\n",
        "#include <cstdlib>\n",
        "\n",
        "using namespace std;\n",
        "\n",
        "int main() {\n",
        "  // Create and open a text file\n",
        "  ofstream MyFile(\"input13.txt\");\n",
        "\n",
        " MyFile << 11000 <<\"\\n\";  // n\n",
        " for (int i=1; i <11001; i++){\n",
        "     MyFile << i <<\" \";\n",
        " }\n",
        "\n",
        "  // Close the file\n",
        "  MyFile.close();\n",
        "}"
      ],
      "metadata": {
        "colab": {
          "base_uri": "https://localhost:8080/"
        },
        "id": "WXu5jp-DLTOI",
        "outputId": "b2be218b-4bb4-4a94-bd6c-f176af0ce2dc"
      },
      "execution_count": null,
      "outputs": [
        {
          "output_type": "stream",
          "name": "stdout",
          "text": [
            "Overwriting WriteTest.cpp\n"
          ]
        }
      ]
    },
    {
      "cell_type": "code",
      "source": [
        "!g++ WriteTest.cpp -o WriteTest\n",
        "!./WriteTest"
      ],
      "metadata": {
        "id": "AQ8N52pUMCeT"
      },
      "execution_count": null,
      "outputs": []
    },
    {
      "cell_type": "code",
      "source": [
        "10999 * 11000"
      ],
      "metadata": {
        "colab": {
          "base_uri": "https://localhost:8080/"
        },
        "id": "2iIOdbTrEtBx",
        "outputId": "4ff3513e-2aab-4f2c-95c2-cecd24a4b733"
      },
      "execution_count": null,
      "outputs": [
        {
          "output_type": "execute_result",
          "data": {
            "text/plain": [
              "120989000"
            ]
          },
          "metadata": {},
          "execution_count": 68
        }
      ]
    },
    {
      "cell_type": "code",
      "source": [
        "!g++ max_pairwise_product_long_full.cpp -o max_pairwise_product_long_full\n",
        "!time ./max_pairwise_product_long_full< input13.txt"
      ],
      "metadata": {
        "colab": {
          "base_uri": "https://localhost:8080/"
        },
        "id": "ussuAokfM2du",
        "outputId": "c63317a2-b588-42fd-dc04-50a680956cbf"
      },
      "execution_count": null,
      "outputs": [
        {
          "output_type": "stream",
          "name": "stdout",
          "text": [
            "120989000\n",
            "\n",
            "real\t0m0.859s\n",
            "user\t0m0.854s\n",
            "sys\t0m0.001s\n"
          ]
        }
      ]
    },
    {
      "cell_type": "markdown",
      "metadata": {
        "id": "Tm_AVmt-QQH4"
      },
      "source": [
        "## Python"
      ]
    },
    {
      "cell_type": "code",
      "execution_count": null,
      "metadata": {
        "id": "gRCCcd7IQTKZ"
      },
      "outputs": [],
      "source": [
        "%%writefile max_pairwise_product_full.py\n",
        "n = int(input())                        #1\n",
        "list = input().split()                  #1\n",
        "list = [int(x) for x in list]           #n\n",
        "\n",
        "maxProduct = 0                          #1\n",
        "auxProduct = 0                          #1\n",
        "for i in range(0,n):                    #1+2n\n",
        "  for j in range(0,n):                  #n + 2n**2\n",
        "    if i!=j:                            #n**2\n",
        "      auxProduct = list[i]*list[j]      #n**2 -n\n",
        "    if maxProduct < auxProduct:         #n**2 -n\n",
        "      maxProduct = auxProduct           #[1, n**2/2 - n/2] upper bound\n",
        "\n",
        "                                        # --------------\n",
        "print(maxProduct)                       #5 + 3n + [5*n**2+1, 11*n**2/2  - n/2]  upper bound"
      ]
    },
    {
      "cell_type": "code",
      "execution_count": null,
      "metadata": {
        "id": "kAEAoNZEQTCw"
      },
      "outputs": [],
      "source": [
        "!chmod +x max_pairwise_product_full_py\n",
        "\n",
        "!python max_pairwise_product_full.py < input3.txt > output3.txt\n",
        "!python max_pairwise_product_full.py < input4.txt > output4.txt\n",
        "!python max_pairwise_product_full.py < input5.txt > output5.txt\n",
        "!python max_pairwise_product_full.py < input6.txt > output6.txt\n",
        "!python max_pairwise_product_full.py < input7.txt > output7.txt\n",
        "!python max_pairwise_product_full.py < input8.txt > output8.txt\n",
        "!python max_pairwise_product_full.py < input9.txt > output9.txt\n",
        "!python max_pairwise_product_full.py < input10.txt > output10.txt"
      ]
    },
    {
      "cell_type": "code",
      "execution_count": null,
      "metadata": {
        "id": "hjw7TJrDL0d-"
      },
      "outputs": [],
      "source": [
        "# Verify"
      ]
    },
    {
      "cell_type": "markdown",
      "source": [
        "# For the follwing solutions rquired  the same tests and analysis performed for the first solution"
      ],
      "metadata": {
        "id": "fEZR-3V4ZjCv"
      }
    },
    {
      "cell_type": "markdown",
      "metadata": {
        "id": "MKQKSC-vKePK"
      },
      "source": [
        "## Solutions in C++ and Python that uses\n",
        "$$\\frac{n^2 - n}{2} = O(n^2)\\ \\ \\text{products}$$"
      ]
    },
    {
      "cell_type": "markdown",
      "source": [
        "**C++**"
      ],
      "metadata": {
        "id": "_jChG3dMDZSH"
      }
    },
    {
      "cell_type": "code",
      "execution_count": null,
      "metadata": {
        "id": "jkkHHoxSK65p"
      },
      "outputs": [],
      "source": [
        "%%writefile max_pairwise_product.cpp\n",
        "#include <iostream>\n",
        "#include <vector>\n",
        "#include <algorithm>\n",
        "\n",
        "int MaxPairwiseProduct(const std::vector<int>& numbers) {\n",
        "    int max_product = 0;\n",
        "    int n = numbers.size();\n",
        "\n",
        "    for (int first = 0; first < n; ++first) {\n",
        "        for (int second = first + 1; second < n; ++second) {\n",
        "            max_product = std::max(max_product,\n",
        "                numbers[first] * numbers[second]);\n",
        "        }\n",
        "    }\n",
        "\n",
        "    return max_product;\n",
        "}\n",
        "\n",
        "int main() {\n",
        "    int n;\n",
        "    std::cin >> n;\n",
        "    std::vector<int> numbers(n);\n",
        "    for (int i = 0; i < n; ++i) {\n",
        "        std::cin >> numbers[i];\n",
        "    }\n",
        "\n",
        "    std::cout << MaxPairwiseProduct(numbers) << \"\\n\";\n",
        "    return 0;\n",
        "}"
      ]
    },
    {
      "cell_type": "code",
      "execution_count": null,
      "metadata": {
        "id": "sU8-Ote7K8vz",
        "colab": {
          "base_uri": "https://localhost:8080/"
        },
        "outputId": "8db4fdde-f701-4c09-8795-5e5d4fe6916f"
      },
      "outputs": [
        {
          "output_type": "stream",
          "name": "stdout",
          "text": [
            "Writing max_pairwise_product_long.cpp\n"
          ]
        }
      ],
      "source": [
        "%%writefile max_pairwise_product_long.cpp\n",
        "#include <iostream>\n",
        "#include <vector>\n",
        "#include <algorithm>\n",
        "\n",
        "long long MaxPairwiseProduct(const std::vector<int>& numbers,long long &execints) {              //INSTRUCTIONS executed by line\n",
        "    long long max_product = 0LL;\n",
        "    execints++;                                       //1\n",
        "\t  long long aux_product = 0LL;\n",
        "    execints++;                                           //1\n",
        "    int n = numbers.size();\n",
        "    execints++;                                             //1\n",
        "\n",
        "    for (int first = 0; first < n; ++first) {\n",
        "      execints+=2;                              //2+2n\n",
        "        for (int second = first + 1; second < n; ++second) {\n",
        "          execints++;             //2n + (n-1)n\n",
        "\t\t\t       aux_product =  (long long) numbers[first] * numbers[second];\n",
        "             execints++;   //(n-1)n/2\n",
        "            if (max_product < aux_product)  {                                //(n-1)n/2\n",
        "\t\t\t\t        max_product = aux_product;\n",
        "                execints++;                                  //[1,(n-1)n/2)  upper bound\n",
        "             }\n",
        "        }\n",
        "    }\n",
        "                                                                             // --------------\n",
        "    return max_product;                                                      // 5 + 4n + [2(n-1)n+1, 2.5 (n-1)n) upper bound\n",
        "}\n",
        "\n",
        "int main() {                                              //INSTRUCTIONS executed by line\n",
        "    long long execints =0LL;\n",
        "    int n;\n",
        "    execints++;                                             //1\n",
        "    std::cin >> n;\n",
        "    execints++;                                      //1\n",
        "    std::vector<int> numbers(n);\n",
        "    execints++;                          //n\n",
        "    for (int i = 0; i < n; ++i) {\n",
        "      execints+=2;                        //2 + 2n\n",
        "        std::cin >> numbers[i];\n",
        "        execints++;                        //n\n",
        "    }\n",
        "\n",
        "    //std::cout <<\"Max product: \"<< MaxPairwiseProduct(numbers) << \"\\n\";     //1 + 1  + 5 + 4n + [2(n-1)n+1, 2.5 (n-1)n) upper bound\n",
        "     int M = MaxPairwiseProduct(numbers,execints);\n",
        "\n",
        "    execints++;\n",
        "    std::cout << \"Number of instructions: \" <<execints << \"\\n\";\n",
        "    return 0;                                             // --------------\n",
        "}                                                         // 11 + 7n + [2(n-1)n+1, 2.5 (n-1)n) upper bound\n"
      ]
    },
    {
      "cell_type": "markdown",
      "source": [
        "The number of instructions executed by the algorithm with a list of size $n$ is\n",
        "\n",
        "$$T=11 + 7n + [2(n-1)n+1, 2.5 (n-1)n)$$\n",
        "\n",
        "\n",
        "It depends on the size of the lists and the order of the list.\n",
        "\n",
        "For the input1.txt\n",
        "\n",
        "10\n",
        "\n",
        "\n",
        "1 2 3 4 5 6 7 8 9 10\n",
        "\n",
        "$$T(10)\\in [109,306]$$"
      ],
      "metadata": {
        "id": "jpg119DGDi3S"
      }
    },
    {
      "cell_type": "code",
      "execution_count": null,
      "metadata": {
        "id": "5QWT3fneK8nw"
      },
      "outputs": [],
      "source": [
        "n = 10\n",
        "print(11 + 7*10+2*(n-1)+n,11 + 7*10+2.5*(n-1)*n)"
      ]
    },
    {
      "cell_type": "code",
      "execution_count": null,
      "metadata": {
        "id": "mxIVvm1RK8dB"
      },
      "outputs": [],
      "source": [
        "!g++ max_pairwise_product_long.cpp -o max_pairwise_product_long\n",
        "!./max_pairwise_product_long < input1.txt"
      ]
    },
    {
      "cell_type": "markdown",
      "source": [
        "**Python**"
      ],
      "metadata": {
        "id": "zWjVO_X1DnC6"
      }
    },
    {
      "cell_type": "code",
      "source": [
        "%%writefile max_pairwise_product.py\n",
        "n = int(input())                        #1\n",
        "list = input().split()                  #1\n",
        "list = [int(x) for x in list]           #n\n",
        "\n",
        "maxProduct = 0                          #1\n",
        "auxProduct = 0                          #1\n",
        "for i in range(0,n):                    #1+2n\n",
        "  for j in range(i+1,n):                #((n**2)-n)/2\n",
        "    if i!=j:                            #((n**2)-n)/2\n",
        "      auxProduct = list[i]*list[j]      #((n**2)-n)/2\n",
        "    if maxProduct < auxProduct:         #((n**2)-n)/2\n",
        "      maxProduct = auxProduct           #[0,((n**2)-n)/2] upper bound\n",
        "\n",
        "                                        # --------------\n",
        "print(maxProduct)                       #5 + n + [5*n**2+1, 11*n**2/2  - n/2]"
      ],
      "metadata": {
        "id": "ZiQBpa6iDpqN"
      },
      "execution_count": null,
      "outputs": []
    },
    {
      "cell_type": "markdown",
      "source": [
        "Creating big input"
      ],
      "metadata": {
        "id": "S0hY5M6-Dt1D"
      }
    },
    {
      "cell_type": "code",
      "source": [
        "fileName = \"inputPy.txt\"\n",
        "\n",
        "with open(fileName, \"w\") as file:\n",
        "    file.write(\"20000\"+ \"\\n\")\n",
        "    for i in range(1,20001):\n",
        "        file.write(str(i) + \" \")"
      ],
      "metadata": {
        "id": "0Qg8y4tqDvnL"
      },
      "execution_count": null,
      "outputs": []
    },
    {
      "cell_type": "markdown",
      "source": [
        "Testing our code with previous examples"
      ],
      "metadata": {
        "id": "_xAdM8S1DwOT"
      }
    },
    {
      "cell_type": "code",
      "source": [
        "!chmod +x max_pairwise_product.py\n",
        "\n",
        "!python max_pairwise_product.py < input3.txt > output3.txt\n",
        "!python max_pairwise_product.py < input4.txt > output4.txt\n",
        "!python max_pairwise_product.py < input5.txt > output5.txt\n",
        "!python max_pairwise_product.py < input6.txt > output6.txt\n",
        "!python max_pairwise_product.py < input7.txt > output7.txt\n",
        "!python max_pairwise_product.py < input8.txt > output8.txt\n",
        "!python max_pairwise_product.py < input9.txt > output9.txt\n",
        "!python max_pairwise_product.py < input10.txt > output10.txt"
      ],
      "metadata": {
        "id": "-WOhbQoIDzC6"
      },
      "execution_count": null,
      "outputs": []
    },
    {
      "cell_type": "code",
      "source": [
        "import time\n",
        "\n",
        "start_time = time.time()\n",
        "!python max_pairwise_product.py < inputPy.txt\n",
        "\n",
        "end_time = time.time()\n",
        "execution_time = end_time - start_time\n",
        "print(f\"Execution time: {execution_time} segs\")\n",
        "print(f\"Execution time: {execution_time/60} min\")"
      ],
      "metadata": {
        "id": "IDCnQ5joD2rL"
      },
      "execution_count": null,
      "outputs": []
    },
    {
      "cell_type": "markdown",
      "source": [
        "Counting the steps for the python program"
      ],
      "metadata": {
        "id": "2duCTfw4D4RS"
      }
    },
    {
      "cell_type": "code",
      "source": [
        "%%writefile max_pairwise_product_count.py\n",
        "op = 0\n",
        "xd =0\n",
        "n = int(input())                        #1\n",
        "op+=1\n",
        "list = input().split()                  #1\n",
        "op+=1\n",
        "list = [int(x) for x in list]           #n\n",
        "op += n\n",
        "\n",
        "maxProduct = 0                          #1\n",
        "op+=1\n",
        "auxProduct = 0                          #1\n",
        "op+=1\n",
        "for i in range(0,n):                    #1+2n\n",
        "  op+=1\n",
        "  op+=2\n",
        "  for j in range(i+1,n):                #((n**2)-n)/2\n",
        "    op+=1\n",
        "    if i!=j:                            #((n**2)-n)/2\n",
        "      auxProduct = list[i]*list[j]      #((n**2)-n)/2\n",
        "      op+=1\n",
        "      op+=1\n",
        "    op+=1\n",
        "    if maxProduct < auxProduct:         #n * (n - 1) / 2\n",
        "      maxProduct = auxProduct           #n * (n - 1) / 3\n",
        "      op+=1\n",
        "\n",
        "                                        # --------------For worst case\n",
        "print(\"Result: \"+str(maxProduct))\n",
        "print(\"Number of instructions: \"+str(op))"
      ],
      "metadata": {
        "id": "615k0Yz7D6rq"
      },
      "execution_count": null,
      "outputs": []
    },
    {
      "cell_type": "markdown",
      "source": [
        "The number of instructions executed by the algooirithm with a list of size $n$ is\n",
        "\n",
        "$$T=4 + 4n + 2(n(n-1))+(n(n-1)/3)$$\n",
        "\n",
        "It depends on the size of the lists and the order of the list.\n",
        "\n",
        "For the input1.txt\n",
        "\n",
        "10\n",
        "\n",
        "1 2 3 4 5 6 7 8 9 10\n",
        "\n",
        "$$T(10)=255$$"
      ],
      "metadata": {
        "id": "dn73d9J5D95T"
      }
    },
    {
      "cell_type": "code",
      "source": [
        "n = 10\n",
        "print(5 + 4*10+2*(n-1)*n + (n*(n-1)/3))"
      ],
      "metadata": {
        "id": "HTjeIvyXD_4a"
      },
      "execution_count": null,
      "outputs": []
    },
    {
      "cell_type": "code",
      "source": [
        "!python max_pairwise_product_count.py < input11.txt"
      ],
      "metadata": {
        "id": "cR87LAnmEB2i"
      },
      "execution_count": null,
      "outputs": []
    },
    {
      "cell_type": "markdown",
      "source": [
        "### Estimate and verify the maximun n that can be solved in 1 second\n",
        "\n"
      ],
      "metadata": {
        "id": "zxCvxiB-XQJh"
      }
    },
    {
      "cell_type": "code",
      "source": [
        "%%time\n",
        "!g++ max_pairwise_product_long.cpp -o max_pairwise_product_long\n",
        "!./max_pairwise_product_long < input1.txt"
      ],
      "metadata": {
        "id": "el1zd3rqEVP3"
      },
      "execution_count": null,
      "outputs": []
    },
    {
      "cell_type": "code",
      "source": [
        "%%time\n",
        "!python max_pairwise_product_count.py < input11.txt"
      ],
      "metadata": {
        "id": "0nul0pmbELIB"
      },
      "execution_count": null,
      "outputs": []
    },
    {
      "cell_type": "code",
      "source": [
        "time_per_ins = 0.001111 / 231\n",
        "instructions_per_second = 1 / time_per_ins\n",
        "print(f\"Time per instruction Python: {time_per_ins}\")\n",
        "print(f\"Instructions per second Python: {instructions_per_second}\")\n",
        "time_per_ins = 0.00325/ 254\n",
        "instructions_per_second = 1 / time_per_ins\n",
        "print(f\"Time per instruction C++: {time_per_ins}\")\n",
        "print(f\"Instructions per second C++: {instructions_per_second}\")"
      ],
      "metadata": {
        "id": "peL0-4JKEOHi"
      },
      "execution_count": null,
      "outputs": []
    },
    {
      "cell_type": "markdown",
      "metadata": {
        "id": "1Hsbd-uHOb_j"
      },
      "source": [
        "# Sort solution in C++ and Python\n",
        "\n",
        "$$ O(n \\lg n)$$\n",
        "\n",
        "**Which sorting algorithm is used in GCC?**\n",
        "https://stackoverflow.com/questions/7221257/which-sorting-algorithm-is-used-in-gcc\n",
        "\n",
        "* ...  the algorithm is called introsort, a combination between Insertionsort, Quicksort & Heapsort. ...\n",
        "\n",
        "**Introsort**\n",
        "https://en.wikipedia.org/wiki/Introsort\n",
        "\n",
        "Introsort or introspective sort is a hybrid sorting algorithm that provides both fast average performance and (asymptotically) optimal worst-case performance. It begins with quicksort, it switches to heapsort when the recursion depth exceeds a level based on (the logarithm of) the number of elements being sorted and it switches to insertion sort when the number of elements is below some threshold\n",
        "\n",
        "*   Class\tSorting algorithm\n",
        "*   Data structure\tArray\n",
        "*   Worst-case performance\t$O(n \\lg n)$\n",
        "*   Average performance\t$O(n \\lg n)$\n",
        "\n",
        "**Tinsort**\n",
        "https://en.wikipedia.org/wiki/Timsort\n",
        "\n",
        "Timsort is a hybrid, stable sorting algorithm, derived from merge sort and insertion sort, designed to perform well on many kinds of real-world data. It was implemented by Tim Peters in 2002 for use in the Python programming language.\n",
        "\n",
        "*   Class\tSorting algorithm\n",
        "*   Data structure\tArray\n",
        "*   Worst-case performance\t$O(n \\lg n)$\n",
        "*   Best-case performance $O(n)$\n",
        "*   Average performance\t$O(n \\lg n)$\n",
        "*   Worst-case space complexity $O(n)$"
      ]
    },
    {
      "cell_type": "markdown",
      "metadata": {
        "id": "WMUthAXjOb_k"
      },
      "source": [
        "C++ Sort\n"
      ]
    },
    {
      "cell_type": "code",
      "source": [
        "%%writefile max_pairwise_product_sort.cpp\n",
        "#include <iostream>\n",
        "#include <vector>\n",
        "#include <algorithm>\n",
        "\n",
        "// Function to calculate the maximum pairwise product using sorting\n",
        "\n",
        "long long MaxPairwiseProduct(const std::vector<long long>& numbers) {\n",
        "    int n = numbers.size();\n",
        "\n",
        "    // Create a copy of the original vector to avoid modifying it\n",
        "    std::vector<long long> sorted_numbers(numbers);\n",
        "\n",
        "    // Sort the vector in ascending order\n",
        "    std::sort(sorted_numbers.begin(), sorted_numbers.end());\n",
        "\n",
        "    // Calculate the product of the two largest numbers\n",
        "    long long max_product = sorted_numbers[n - 1] * sorted_numbers[n - 2];\n",
        "\n",
        "    return max_product;\n",
        "}\n",
        "\n",
        "int main() {\n",
        "    int n;\n",
        "    std::cin >> n;\n",
        "    std::vector<long long> numbers(n);\n",
        "\n",
        "    // Input the numbers\n",
        "    for (int i = 0; i < n; ++i) {\n",
        "        std::cin >> numbers[i];\n",
        "    }\n",
        "\n",
        "    // Output the result\n",
        "    std::cout << MaxPairwiseProduct(numbers) << \"\\n\";\n",
        "    return 0;\n",
        "}\n"
      ],
      "metadata": {
        "id": "jnIRWyUEDu_C",
        "colab": {
          "base_uri": "https://localhost:8080/"
        },
        "outputId": "82b1ff26-b005-4a4b-b4a1-d638d79ad435"
      },
      "execution_count": null,
      "outputs": [
        {
          "output_type": "stream",
          "name": "stdout",
          "text": [
            "Writing max_pairwise_product_sort.cpp\n"
          ]
        }
      ]
    },
    {
      "cell_type": "code",
      "source": [
        "!g++ -o max_pairwise_product_sort max_pairwise_product_sort.cpp\n",
        "!chmod +x max_pairwise_product_sort.cpp\n",
        "!ls -l max_pairwise_product_sort.cpp max_pairwise_product_sort\n"
      ],
      "metadata": {
        "colab": {
          "base_uri": "https://localhost:8080/"
        },
        "id": "hZuptQNmu8xj",
        "outputId": "24f0fbca-2313-4cf1-f08e-16cdc16b431a"
      },
      "execution_count": null,
      "outputs": [
        {
          "output_type": "stream",
          "name": "stdout",
          "text": [
            "-rwxr-xr-x 1 root root 40888 Mar 12 23:40 max_pairwise_product_sort\n",
            "-rwxr-xr-x 1 root root   886 Mar 12 23:40 max_pairwise_product_sort.cpp\n"
          ]
        }
      ]
    },
    {
      "cell_type": "markdown",
      "metadata": {
        "id": "v8pdV9ABOb_k"
      },
      "source": [
        "Test with inputs 1 and 2\n",
        "\n"
      ]
    },
    {
      "cell_type": "code",
      "execution_count": null,
      "metadata": {
        "id": "kdXAyLG4Ob_k",
        "colab": {
          "base_uri": "https://localhost:8080/"
        },
        "outputId": "c1b6f82e-94cc-4ce6-ca0f-b0f64fab9bf4"
      },
      "outputs": [
        {
          "output_type": "stream",
          "name": "stdout",
          "text": [
            "0\n"
          ]
        }
      ],
      "source": [
        "!./max_pairwise_product_sort < input0.txt"
      ]
    },
    {
      "cell_type": "code",
      "source": [
        "!./max_pairwise_product_sort < input1.txt"
      ],
      "metadata": {
        "colab": {
          "base_uri": "https://localhost:8080/"
        },
        "id": "YrBNVmp73pXd",
        "outputId": "0b593a10-2a26-4476-a7cc-8c0bafdbd418"
      },
      "execution_count": null,
      "outputs": [
        {
          "output_type": "stream",
          "name": "stdout",
          "text": [
            "90\n"
          ]
        }
      ]
    },
    {
      "cell_type": "code",
      "source": [
        "!./max_pairwise_product_sort < input2.txt"
      ],
      "metadata": {
        "colab": {
          "base_uri": "https://localhost:8080/"
        },
        "id": "kx7YCrZA3pUp",
        "outputId": "2018f143-6e21-48d6-c150-5fdf501a5e36"
      },
      "execution_count": null,
      "outputs": [
        {
          "output_type": "stream",
          "name": "stdout",
          "text": [
            "90\n"
          ]
        }
      ]
    },
    {
      "cell_type": "markdown",
      "metadata": {
        "id": "Sw-5X1q1Ob_k"
      },
      "source": [
        "Test and time it with input 3"
      ]
    },
    {
      "cell_type": "code",
      "execution_count": null,
      "metadata": {
        "id": "ryHJ30WIOb_k",
        "colab": {
          "base_uri": "https://localhost:8080/"
        },
        "outputId": "e8fdc8f3-9427-4836-e618-f7146a4a31a0"
      },
      "outputs": [
        {
          "output_type": "stream",
          "name": "stdout",
          "text": [
            "40000000000\n",
            "\n",
            "real\t0m0.004s\n",
            "user\t0m0.003s\n",
            "sys\t0m0.000s\n"
          ]
        }
      ],
      "source": [
        "!time ./max_pairwise_product_sort < input3.txt"
      ]
    },
    {
      "cell_type": "markdown",
      "metadata": {
        "id": "oJGdPl1HOb_k"
      },
      "source": [
        "20 stress tests"
      ]
    },
    {
      "cell_type": "code",
      "source": [
        "import random\n",
        "import math\n",
        "\n",
        "# Number of stress tests\n",
        "num_tests = 10\n",
        "\n",
        "for test_number in range(11, 21):\n",
        "    # Determine the size of the input given the iteration\n",
        "    if test_number <= 16:\n",
        "        n = random.randint(2, 1000)\n",
        "    else:\n",
        "        n = random.randint(2, 10000)\n",
        "\n",
        "    # Generating random values\n",
        "    numbers = [random.randint(1, 99999) for _ in range(n)]\n",
        "\n",
        "    #Writing the input in a file\n",
        "    with open(f\"input{test_number}.txt\", \"w\") as file:\n",
        "        file.write(f\"{n}\\n\")\n",
        "        file.write(\" \".join(map(str, numbers)))\n",
        "\n",
        "    print(f\"Test {test_number}: N={n}\")\n"
      ],
      "metadata": {
        "colab": {
          "base_uri": "https://localhost:8080/"
        },
        "id": "aNv_VNRLB7cF",
        "outputId": "aec2065b-66e0-4498-da3b-b585ae15b96d"
      },
      "execution_count": null,
      "outputs": [
        {
          "output_type": "stream",
          "name": "stdout",
          "text": [
            "Test 11: N=361\n",
            "Test 12: N=248\n",
            "Test 13: N=632\n",
            "Test 14: N=706\n",
            "Test 15: N=617\n",
            "Test 16: N=172\n",
            "Test 17: N=2021\n",
            "Test 18: N=8543\n",
            "Test 19: N=2286\n",
            "Test 20: N=9888\n"
          ]
        }
      ]
    },
    {
      "cell_type": "code",
      "execution_count": null,
      "metadata": {
        "id": "pXHtO1dEOb_k",
        "colab": {
          "base_uri": "https://localhost:8080/"
        },
        "outputId": "ce0db21f-0833-4088-9416-b2fb3678f004"
      },
      "outputs": [
        {
          "output_type": "stream",
          "name": "stdout",
          "text": [
            "90\n",
            "90\n",
            "6000000\n",
            "31053252078\n",
            "810252\n",
            "1155000\n",
            "820476\n",
            "188600000\n",
            "7405926\n",
            "37029630\n",
            "9982400348\n",
            "9955146618\n",
            "9815952150\n",
            "8625548494\n",
            "9995900210\n",
            "9867994857\n",
            "9997000200\n",
            "9997200132\n",
            "9998100090\n"
          ]
        }
      ],
      "source": [
        "!./max_pairwise_product_sort < input1.txt\n",
        "!./max_pairwise_product_sort < input2.txt\n",
        "!./max_pairwise_product_sort < input3.txt\n",
        "!./max_pairwise_product_sort < input4.txt\n",
        "!./max_pairwise_product_sort < input5.txt\n",
        "!./max_pairwise_product_sort < input6.txt\n",
        "!./max_pairwise_product_sort < input7.txt\n",
        "!./max_pairwise_product_sort < input8.txt\n",
        "!./max_pairwise_product_sort < input9.txt\n",
        "!./max_pairwise_product_sort < input10.txt\n",
        "!./max_pairwise_product_sort < input11.txt\n",
        "!./max_pairwise_product_sort < input12.txt\n",
        "!./max_pairwise_product_sort < input13.txt\n",
        "!./max_pairwise_product_sort < input14.txt\n",
        "!./max_pairwise_product_sort < input15.txt\n",
        "!./max_pairwise_product_sort < input16.txt\n",
        "!./max_pairwise_product_sort < input18.txt\n",
        "!./max_pairwise_product_sort < input19.txt\n",
        "!./max_pairwise_product_sort < input20.txt"
      ]
    },
    {
      "cell_type": "markdown",
      "metadata": {
        "id": "2beTmWFPOb_k"
      },
      "source": [
        "Count executed instructions in code and verify with inputs 1,2 and 3\n"
      ]
    },
    {
      "cell_type": "code",
      "execution_count": null,
      "metadata": {
        "id": "iuByv4x1Ob_k",
        "colab": {
          "base_uri": "https://localhost:8080/"
        },
        "outputId": "300b7d9d-413d-4a18-eb89-b00538c44b2d"
      },
      "outputs": [
        {
          "output_type": "stream",
          "name": "stdout",
          "text": [
            "Overwriting max_pairwise_product_sort.cpp\n"
          ]
        }
      ],
      "source": [
        "%%writefile max_pairwise_product_sort.cpp\n",
        "#include <iostream>\n",
        "#include <vector>\n",
        "#include <algorithm>\n",
        "\n",
        "//\n",
        "//conteo:\n",
        "//\n",
        "long long MaxPairwiseProduct(const std::vector<long long>& numbers) {\n",
        "    int n = numbers.size();                                                     // 1\n",
        "\n",
        "    std::vector<long long> sorted_numbers(numbers);                             // n\n",
        "\n",
        "    std::sort(sorted_numbers.begin(), sorted_numbers.end());                    // n*log(n)\n",
        "\n",
        "    long long max_product = sorted_numbers[n - 1] * sorted_numbers[n - 2];      // 1\n",
        "\n",
        "    return max_product;                                                         // 1\n",
        "}\n",
        "\n",
        "int main() {\n",
        "    int n;                                                                      // 1\n",
        "    std::cin >> n;                                                              // 1\n",
        "\n",
        "    std::vector<long long> numbers(n);                                          // 1\n",
        "\n",
        "    for (int i = 0; i < n; ++i) {                                               // n\n",
        "        std::cin >> numbers[i];                                                 // n\n",
        "    }\n",
        "\n",
        "    std::cout << MaxPairwiseProduct(numbers) << \"\\n\";                           // 1\n",
        "\n",
        "    return 0;                                                                   // 1\n",
        "\n",
        "                                                                                // total pairwise: n+n*log(n)+3\n",
        "                                                                                // total: 3n+n*log(n)+8\n",
        "}\n",
        "\n"
      ]
    },
    {
      "cell_type": "code",
      "source": [
        "%%writefile max_pairwise_product_sort2.cpp\n",
        "#include <iostream>\n",
        "#include <vector>\n",
        "#include <algorithm>\n",
        "#include <cmath>\n",
        "\n",
        "long long MaxPairwiseProduct(const std::vector<long long>& numbers, long long &execints) {\n",
        "\n",
        "    int n = numbers.size();\n",
        "    execints++;\n",
        "\n",
        "    std::vector<long long> sorted_numbers(numbers);\n",
        "    execints++;\n",
        "\n",
        "    std::sort(sorted_numbers.begin(), sorted_numbers.end());\n",
        "    execints += n * log(n);\n",
        "\n",
        "    long long max_product = sorted_numbers[n - 1] * sorted_numbers[n - 2];\n",
        "    execints++;\n",
        "\n",
        "    return max_product;\n",
        "}\n",
        "\n",
        "int main() {\n",
        "\n",
        "    long long execints = 0LL;\n",
        "    execints++;\n",
        "\n",
        "    int n;\n",
        "    execints++;\n",
        "\n",
        "    std::cin >> n;\n",
        "    execints++;\n",
        "\n",
        "    std::vector<long long> numbers(n);\n",
        "    execints += n;\n",
        "\n",
        "    for (int i = 0; i < n; ++i) {\n",
        "        execints += 2;\n",
        "\n",
        "        std::cin >> numbers[i];\n",
        "        execints++;\n",
        "    }\n",
        "\n",
        "    int M = MaxPairwiseProduct(numbers, execints);\n",
        "\n",
        "    std::cout << execints << \"\\n\";\n",
        "    return 0;\n",
        "}\n",
        "\n"
      ],
      "metadata": {
        "colab": {
          "base_uri": "https://localhost:8080/"
        },
        "id": "F1zqql55PSJQ",
        "outputId": "73b22789-e88f-4de7-c4d1-1a4e00c32fb6"
      },
      "execution_count": null,
      "outputs": [
        {
          "output_type": "stream",
          "name": "stdout",
          "text": [
            "Writing max_pairwise_product_sort2.cpp\n"
          ]
        }
      ]
    },
    {
      "cell_type": "code",
      "source": [
        "!g++ -o max_pairwise_product_sort2 max_pairwise_product_sort2.cpp\n",
        "!chmod +x max_pairwise_product_sort2.cpp\n",
        "!ls -l max_pairwise_product_sort2.cpp max_pairwise_product_sort2"
      ],
      "metadata": {
        "colab": {
          "base_uri": "https://localhost:8080/"
        },
        "id": "67AQsrlfH5V9",
        "outputId": "8f67569e-71de-4668-9685-9f4b113b9c46"
      },
      "execution_count": null,
      "outputs": [
        {
          "output_type": "stream",
          "name": "stdout",
          "text": [
            "-rwxr-xr-x 1 root root 40928 Mar 12 21:13 max_pairwise_product_sort2\n",
            "-rwxr-xr-x 1 root root   897 Mar 12 21:12 max_pairwise_product_sort2.cpp\n"
          ]
        }
      ]
    },
    {
      "cell_type": "code",
      "source": [
        "n=10\n",
        "print((3 * n) + (n * math.log(n)) + 8)\n",
        "print(n+n * math.log(n)+3)"
      ],
      "metadata": {
        "colab": {
          "base_uri": "https://localhost:8080/"
        },
        "id": "nBYIDQsMI9cf",
        "outputId": "da0fcb93-d5d0-4239-db24-329496b05d9b"
      },
      "execution_count": null,
      "outputs": [
        {
          "output_type": "stream",
          "name": "stdout",
          "text": [
            "61.02585092994046\n",
            "36.02585092994046\n"
          ]
        }
      ]
    },
    {
      "cell_type": "code",
      "source": [
        "!./max_pairwise_product_sort2 < input1.txt"
      ],
      "metadata": {
        "colab": {
          "base_uri": "https://localhost:8080/"
        },
        "id": "JUV5WqQWVpwR",
        "outputId": "98bb202a-f7f2-44da-c566-e38ed7c49998"
      },
      "execution_count": null,
      "outputs": [
        {
          "output_type": "stream",
          "name": "stdout",
          "text": [
            "69\n"
          ]
        }
      ]
    },
    {
      "cell_type": "code",
      "source": [
        "!./max_pairwise_product_sort2 < input2.txt"
      ],
      "metadata": {
        "colab": {
          "base_uri": "https://localhost:8080/"
        },
        "id": "lVweqi0BW2mL",
        "outputId": "5232bf94-a712-4406-c4b4-28f97f4e994d"
      },
      "execution_count": null,
      "outputs": [
        {
          "output_type": "stream",
          "name": "stdout",
          "text": [
            "69\n"
          ]
        }
      ]
    },
    {
      "cell_type": "code",
      "source": [
        "n=6\n",
        "print((3 * n) + (n * math.log(n)) + 8)\n",
        "print(n+n * math.log(n)+3)"
      ],
      "metadata": {
        "colab": {
          "base_uri": "https://localhost:8080/"
        },
        "id": "dykDKydKW6-6",
        "outputId": "e904a30c-5c25-4380-d3cf-c67add98819f"
      },
      "execution_count": null,
      "outputs": [
        {
          "output_type": "stream",
          "name": "stdout",
          "text": [
            "36.75055681536833\n",
            "19.75055681536833\n"
          ]
        }
      ]
    },
    {
      "cell_type": "code",
      "source": [
        "!./max_pairwise_product_sort2 < input3.txt"
      ],
      "metadata": {
        "colab": {
          "base_uri": "https://localhost:8080/"
        },
        "id": "HSpkfDyZW84P",
        "outputId": "e4aeed9c-0e9f-436d-8df5-259455853884"
      },
      "execution_count": null,
      "outputs": [
        {
          "output_type": "stream",
          "name": "stdout",
          "text": [
            "40\n"
          ]
        }
      ]
    },
    {
      "cell_type": "markdown",
      "metadata": {
        "id": "x2CXhkwTOb_l"
      },
      "source": [
        "Calculate estimated time by instruction and number of instructions by second"
      ]
    },
    {
      "cell_type": "code",
      "source": [
        "n = 200000\n",
        "numbers = \" \".join(map(str, range(1, 200001)))\n",
        "with open('input21.txt', 'w') as file:\n",
        "    file.write(f\"{n}\\n{numbers}\\n\")"
      ],
      "metadata": {
        "id": "JWXXA2tGZ--L"
      },
      "execution_count": null,
      "outputs": []
    },
    {
      "cell_type": "code",
      "source": [
        "!time ./max_pairwise_product_sort < input21.txt"
      ],
      "metadata": {
        "colab": {
          "base_uri": "https://localhost:8080/"
        },
        "id": "Fx2vGCRNZpXx",
        "outputId": "299b140e-383f-4ab5-f48d-8cd3cc401b84"
      },
      "execution_count": null,
      "outputs": [
        {
          "output_type": "stream",
          "name": "stdout",
          "text": [
            "39999800000\n",
            "\n",
            "real\t0m0.140s\n",
            "user\t0m0.132s\n",
            "sys\t0m0.003s\n"
          ]
        }
      ]
    },
    {
      "cell_type": "code",
      "source": [
        "!./max_pairwise_product_sort2 < input21.txt"
      ],
      "metadata": {
        "colab": {
          "base_uri": "https://localhost:8080/"
        },
        "id": "NbnRaYildMjr",
        "outputId": "15a202a5-8591-4926-e9d6-00001111294e"
      },
      "execution_count": null,
      "outputs": [
        {
          "output_type": "stream",
          "name": "stdout",
          "text": [
            "3241220\n"
          ]
        }
      ]
    },
    {
      "cell_type": "code",
      "source": [
        "n=200000\n",
        "print((3 * n) + (n * math.log(n)) + 8)"
      ],
      "metadata": {
        "colab": {
          "base_uri": "https://localhost:8080/"
        },
        "id": "KrJ__5KWdR_3",
        "outputId": "e4df7b7b-4033-4a0f-b765-29dd05378b21"
      },
      "execution_count": null,
      "outputs": [
        {
          "output_type": "stream",
          "name": "stdout",
          "text": [
            "3041222.529106035\n"
          ]
        }
      ]
    },
    {
      "cell_type": "code",
      "execution_count": null,
      "metadata": {
        "id": "nTjxyTMtOb_l",
        "colab": {
          "base_uri": "https://localhost:8080/"
        },
        "outputId": "6f970587-0574-420e-fabc-4d8171272755"
      },
      "outputs": [
        {
          "output_type": "execute_result",
          "data": {
            "text/plain": [
              "3.7023096241538675e-08"
            ]
          },
          "metadata": {},
          "execution_count": 210
        }
      ],
      "source": [
        "# Estimated time by instruction\n",
        "0.12/3241220"
      ]
    },
    {
      "cell_type": "code",
      "source": [
        "# Estimated number of instructions by second\n",
        "3241220/0.12"
      ],
      "metadata": {
        "colab": {
          "base_uri": "https://localhost:8080/"
        },
        "id": "i7O17NscZdOX",
        "outputId": "09ca17a0-baa0-4b61-85b9-dfaddb26051a"
      },
      "execution_count": null,
      "outputs": [
        {
          "output_type": "execute_result",
          "data": {
            "text/plain": [
              "27010166.666666668"
            ]
          },
          "metadata": {},
          "execution_count": 211
        }
      ]
    },
    {
      "cell_type": "markdown",
      "source": [
        "### Estimate and verify the maximun n that can be solved in 1 second"
      ],
      "metadata": {
        "id": "CcgDYDQuaFeH"
      }
    },
    {
      "cell_type": "markdown",
      "source": [
        "$$(3n + n*log(n) + 8) \\times 3.7*10^{-8} s = 1 s$$\n",
        "\n",
        "$$ n \\approx 1.56×10^6 $$"
      ],
      "metadata": {
        "id": "45KxrMFchRas"
      }
    },
    {
      "cell_type": "code",
      "source": [
        "print(1560000*(1560000-1))"
      ],
      "metadata": {
        "colab": {
          "base_uri": "https://localhost:8080/"
        },
        "id": "Qt8YEHJ5jfhy",
        "outputId": "19310ea4-b84b-4599-f773-2cf80f650d93"
      },
      "execution_count": null,
      "outputs": [
        {
          "output_type": "stream",
          "name": "stdout",
          "text": [
            "2433598440000\n"
          ]
        }
      ]
    },
    {
      "cell_type": "code",
      "source": [
        "n = (1560000)\n",
        "numbers = \" \".join(map(str, range(1, n+1)))\n",
        "with open('input22.txt', 'w') as file:\n",
        "    file.write(f\"{n}\\n{numbers}\\n\")"
      ],
      "metadata": {
        "id": "fLztHReKaGFq"
      },
      "execution_count": null,
      "outputs": []
    },
    {
      "cell_type": "code",
      "source": [
        "!time ./max_pairwise_product_sort < input22.txt"
      ],
      "metadata": {
        "colab": {
          "base_uri": "https://localhost:8080/"
        },
        "id": "EpIXdtM7kgbe",
        "outputId": "35731ecb-3d6b-4e27-8579-e3089f226f7e"
      },
      "execution_count": null,
      "outputs": [
        {
          "output_type": "stream",
          "name": "stdout",
          "text": [
            "2433598440000\n",
            "\n",
            "real\t0m1.016s\n",
            "user\t0m0.984s\n",
            "sys\t0m0.020s\n"
          ]
        }
      ]
    },
    {
      "cell_type": "markdown",
      "metadata": {
        "id": "nzUNeEL8JYqL"
      },
      "source": [
        "## Python sort\n",
        "\n",
        "\n",
        "\n"
      ]
    },
    {
      "cell_type": "markdown",
      "metadata": {
        "id": "QNTm1sB0JYqL"
      },
      "source": [
        "Add in each line a coment with the number of intstrcution that are executed in that line"
      ]
    },
    {
      "cell_type": "code",
      "execution_count": null,
      "metadata": {
        "colab": {
          "base_uri": "https://localhost:8080/"
        },
        "outputId": "0419b370-6b23-438a-c04a-86e778fa1cd2",
        "id": "ki5PTScqJYqL"
      },
      "outputs": [
        {
          "output_type": "stream",
          "name": "stdout",
          "text": [
            "Writing max_pairwise_product_sort.py\n"
          ]
        }
      ],
      "source": [
        "%%writefile max_pairwise_product_sort.py\n",
        "def maximum_pairwise_product(nums):\n",
        "    # Ordenar la lista en orden descendente\n",
        "    nums.sort(reverse=True)  # nlog(n)\n",
        "\n",
        "    # Tomar los dos primeros elementos después de ordenar\n",
        "    max1 = nums[0]  # 1\n",
        "    max2 = nums[1]  # 1\n",
        "\n",
        "    # Calcular el producto máximo\n",
        "    result = max1 * max2  # 1\n",
        "\n",
        "    return result  # 1\n",
        "\n",
        "\n",
        "n = int(input())  # 1\n",
        "input_numbers = list(map(int, input().split()))  # n\n",
        "result = maximum_pairwise_product(input_numbers)  # 1\n",
        "print(result)  # 1\n",
        "\n",
        "#total: n+n*log(n)+7"
      ]
    },
    {
      "cell_type": "markdown",
      "metadata": {
        "id": "eH-ZyhwOJYqL"
      },
      "source": [
        "Test with inputs 1 and 2\n",
        "\n"
      ]
    },
    {
      "cell_type": "code",
      "source": [
        "!chmod +x max_pairwise_product_sort.py\n",
        "!ls -l max_pairwise_product_sort.py"
      ],
      "metadata": {
        "colab": {
          "base_uri": "https://localhost:8080/"
        },
        "outputId": "621f8787-a15e-488d-e06f-1991e3af8887",
        "id": "GkYAeeBRJYqL"
      },
      "execution_count": null,
      "outputs": [
        {
          "output_type": "stream",
          "name": "stdout",
          "text": [
            "-rwxr-xr-x 1 root root 489 Mar 12 21:25 max_pairwise_product_sort.py\n"
          ]
        }
      ]
    },
    {
      "cell_type": "code",
      "execution_count": null,
      "metadata": {
        "colab": {
          "base_uri": "https://localhost:8080/"
        },
        "outputId": "f2d4768d-081d-4ccd-beee-e4dc50b7d24c",
        "id": "QBxplru2JYqM"
      },
      "outputs": [
        {
          "output_type": "stream",
          "name": "stdout",
          "text": [
            "0\n"
          ]
        }
      ],
      "source": [
        "!python max_pairwise_product_sort.py < input0.txt"
      ]
    },
    {
      "cell_type": "code",
      "source": [
        "!python max_pairwise_product_sort.py < input1.txt"
      ],
      "metadata": {
        "colab": {
          "base_uri": "https://localhost:8080/"
        },
        "outputId": "d2aefd07-a062-4fd4-cd86-f403ea151784",
        "id": "uPha1jyXJYqM"
      },
      "execution_count": null,
      "outputs": [
        {
          "output_type": "stream",
          "name": "stdout",
          "text": [
            "90\n"
          ]
        }
      ]
    },
    {
      "cell_type": "code",
      "source": [
        "!python max_pairwise_product_sort.py < input2.txt"
      ],
      "metadata": {
        "colab": {
          "base_uri": "https://localhost:8080/"
        },
        "outputId": "5b1abd78-178d-4906-861d-546a9bcaa13d",
        "id": "xrxiFDMfJYqM"
      },
      "execution_count": null,
      "outputs": [
        {
          "output_type": "stream",
          "name": "stdout",
          "text": [
            "90\n"
          ]
        }
      ]
    },
    {
      "cell_type": "markdown",
      "metadata": {
        "id": "5OOEzGHrJYqM"
      },
      "source": [
        "Test and time it with input 3"
      ]
    },
    {
      "cell_type": "code",
      "execution_count": null,
      "metadata": {
        "colab": {
          "base_uri": "https://localhost:8080/"
        },
        "outputId": "8378e505-d8d4-4538-d6b4-077fbabb2f8a",
        "id": "SmN5dxU-JYqM"
      },
      "outputs": [
        {
          "output_type": "stream",
          "name": "stdout",
          "text": [
            "90\n",
            "\n",
            "real\t0m0.043s\n",
            "user\t0m0.033s\n",
            "sys\t0m0.009s\n"
          ]
        }
      ],
      "source": [
        "!time python max_pairwise_product_sort.py < input2.txt"
      ]
    },
    {
      "cell_type": "markdown",
      "metadata": {
        "id": "CaNl1YnwJYqM"
      },
      "source": [
        "20 stress tests"
      ]
    },
    {
      "cell_type": "code",
      "execution_count": null,
      "metadata": {
        "colab": {
          "base_uri": "https://localhost:8080/"
        },
        "outputId": "51b94756-b89a-4d61-839f-9e393c8e40ff",
        "id": "ekARyCeCJYqN"
      },
      "outputs": [
        {
          "output_type": "stream",
          "name": "stdout",
          "text": [
            "90\n",
            "90\n",
            "6000000\n",
            "31053252078\n",
            "810252\n",
            "1155000\n",
            "820476\n",
            "188600000\n",
            "7405926\n",
            "37029630\n",
            "9982400348\n",
            "9955146618\n",
            "9815952150\n",
            "8625548494\n",
            "9995900210\n",
            "9867994857\n",
            "9990102438\n",
            "9997000200\n",
            "9997200132\n",
            "9998100090\n"
          ]
        }
      ],
      "source": [
        "!python max_pairwise_product_sort.py < input1.txt\n",
        "!python max_pairwise_product_sort.py < input2.txt\n",
        "!python max_pairwise_product_sort.py < input3.txt\n",
        "!python max_pairwise_product_sort.py < input4.txt\n",
        "!python max_pairwise_product_sort.py < input5.txt\n",
        "!python max_pairwise_product_sort.py < input6.txt\n",
        "!python max_pairwise_product_sort.py < input7.txt\n",
        "!python max_pairwise_product_sort.py < input8.txt\n",
        "!python max_pairwise_product_sort.py < input9.txt\n",
        "!python max_pairwise_product_sort.py < input10.txt\n",
        "!python max_pairwise_product_sort.py < input11.txt\n",
        "!python max_pairwise_product_sort.py < input12.txt\n",
        "!python max_pairwise_product_sort.py < input13.txt\n",
        "!python max_pairwise_product_sort.py < input14.txt\n",
        "!python max_pairwise_product_sort.py < input15.txt\n",
        "!python max_pairwise_product_sort.py < input16.txt\n",
        "!python max_pairwise_product_sort.py < input17.txt\n",
        "!python max_pairwise_product_sort.py < input18.txt\n",
        "!python max_pairwise_product_sort.py < input19.txt\n",
        "!python max_pairwise_product_sort.py < input20.txt"
      ]
    },
    {
      "cell_type": "markdown",
      "metadata": {
        "id": "VeOiyexeJYqN"
      },
      "source": [
        "Count executed instructions in code and verify with inputs 1,2 and 3\n"
      ]
    },
    {
      "cell_type": "code",
      "source": [
        "%%writefile max_pairwise_product_sort2.py\n",
        "import math\n",
        "execints = 0\n",
        "\n",
        "def maximum_pairwise_product(nums):\n",
        "    global execints\n",
        "\n",
        "    nums.sort(reverse=True)\n",
        "    execints += n*math.log10(n)\n",
        "\n",
        "    max1 = nums[0]\n",
        "    max2 = nums[1]\n",
        "    execints += 2\n",
        "\n",
        "    result = max1 * max2  # O(1)\n",
        "    execints += 1\n",
        "\n",
        "    execints += 1\n",
        "    return result\n",
        "\n",
        "n = int(input())\n",
        "execints += 1\n",
        "\n",
        "input_numbers = list(map(int, input().split()))\n",
        "execints += n\n",
        "\n",
        "result = maximum_pairwise_product(input_numbers)\n",
        "execints += 1\n",
        "print(result)\n",
        "execints += 1\n",
        "\n",
        "print(execints)"
      ],
      "metadata": {
        "colab": {
          "base_uri": "https://localhost:8080/"
        },
        "outputId": "9fb7a200-5eb9-4633-be8d-35feeef11db1",
        "id": "wgBNKbjIJYqN"
      },
      "execution_count": null,
      "outputs": [
        {
          "output_type": "stream",
          "name": "stdout",
          "text": [
            "Overwriting max_pairwise_product_sort2.py\n"
          ]
        }
      ]
    },
    {
      "cell_type": "code",
      "execution_count": null,
      "metadata": {
        "colab": {
          "base_uri": "https://localhost:8080/"
        },
        "outputId": "04bbded0-32ea-41e9-8317-085d1ac03981",
        "id": "HfbuKYO5JYqN"
      },
      "outputs": [
        {
          "output_type": "stream",
          "name": "stdout",
          "text": [
            "-rwxr-xr-x 1 root root 517 Mar 11 00:35 max_pairwise_product_sort2.py\n"
          ]
        }
      ],
      "source": [
        "!chmod +x max_pairwise_product_sort2.py\n",
        "!ls -l max_pairwise_product_sort2.py"
      ]
    },
    {
      "cell_type": "code",
      "source": [
        "n=10\n",
        "print(n+(n*math.log10(n))+7)"
      ],
      "metadata": {
        "colab": {
          "base_uri": "https://localhost:8080/"
        },
        "outputId": "3a2a5587-33eb-4182-8ac4-ad18ccdf60d6",
        "id": "UOPbSq_ZJYqN"
      },
      "execution_count": null,
      "outputs": [
        {
          "output_type": "stream",
          "name": "stdout",
          "text": [
            "27.0\n"
          ]
        }
      ]
    },
    {
      "cell_type": "code",
      "source": [
        "!python max_pairwise_product_sort2.py < input1.txt"
      ],
      "metadata": {
        "colab": {
          "base_uri": "https://localhost:8080/"
        },
        "outputId": "6751c3fb-8cff-4848-d9f1-ac5bb329018d",
        "id": "FJtEvmc0JYqN"
      },
      "execution_count": null,
      "outputs": [
        {
          "output_type": "stream",
          "name": "stdout",
          "text": [
            "90\n",
            "27.0\n"
          ]
        }
      ]
    },
    {
      "cell_type": "code",
      "source": [
        "!python max_pairwise_product_sort2.py < input2.txt"
      ],
      "metadata": {
        "colab": {
          "base_uri": "https://localhost:8080/"
        },
        "outputId": "98f735fb-6bfe-4db0-b077-7ef89cfe065f",
        "id": "wmIi_bcoJYqO"
      },
      "execution_count": null,
      "outputs": [
        {
          "output_type": "stream",
          "name": "stdout",
          "text": [
            "90\n",
            "27.0\n"
          ]
        }
      ]
    },
    {
      "cell_type": "code",
      "source": [
        "!python max_pairwise_product_sort2.py < input3.txt"
      ],
      "metadata": {
        "colab": {
          "base_uri": "https://localhost:8080/"
        },
        "outputId": "2590dcc3-0c02-4e4f-8605-95763c41daf7",
        "id": "QZA5vNncJYqO"
      },
      "execution_count": null,
      "outputs": [
        {
          "output_type": "stream",
          "name": "stdout",
          "text": [
            "6000000\n",
            "17.668907502301863\n"
          ]
        }
      ]
    },
    {
      "cell_type": "markdown",
      "metadata": {
        "id": "jjdcnFS5JYqO"
      },
      "source": [
        "Calculate estimated time by instruction and number of instructions by second"
      ]
    },
    {
      "cell_type": "code",
      "execution_count": null,
      "metadata": {
        "colab": {
          "base_uri": "https://localhost:8080/"
        },
        "outputId": "659c59a6-01d4-43d1-853a-6e8354e7bb64",
        "id": "Ga_rlCXZJYqO"
      },
      "outputs": [
        {
          "output_type": "stream",
          "name": "stdout",
          "text": [
            "39999800000\n",
            "1260212.9991327962\n",
            "\n",
            "real\t0m0.182s\n",
            "user\t0m0.117s\n",
            "sys\t0m0.052s\n"
          ]
        }
      ],
      "source": [
        "!time python ./max_pairwise_product_sort2.py < input21.txt"
      ]
    },
    {
      "cell_type": "code",
      "source": [
        "n=200000\n",
        "print(n+(n*math.log10(n))+7)"
      ],
      "metadata": {
        "colab": {
          "base_uri": "https://localhost:8080/"
        },
        "outputId": "d3d43b1a-945e-4559-d4e4-553477614aab",
        "id": "LWP7aVoiJYqO"
      },
      "execution_count": null,
      "outputs": [
        {
          "output_type": "stream",
          "name": "stdout",
          "text": [
            "1260212.9991327962\n"
          ]
        }
      ]
    },
    {
      "cell_type": "code",
      "source": [
        "# Estimated time by instruction\n",
        "0.182/1260212.9991327962"
      ],
      "metadata": {
        "colab": {
          "base_uri": "https://localhost:8080/"
        },
        "outputId": "70497e6c-009b-45c4-f515-0ab04e01300b",
        "id": "E5ZWUr8KJYqO"
      },
      "execution_count": null,
      "outputs": [
        {
          "output_type": "execute_result",
          "data": {
            "text/plain": [
              "1.4442003068151304e-07"
            ]
          },
          "metadata": {},
          "execution_count": 267
        }
      ]
    },
    {
      "cell_type": "code",
      "source": [
        "# Estimated number of instructions by second\n",
        "1260212.9991327962/0.12"
      ],
      "metadata": {
        "colab": {
          "base_uri": "https://localhost:8080/"
        },
        "outputId": "871f307e-bb39-41d5-f475-ea55cc043c48",
        "id": "VQ1dk4YcJYqO"
      },
      "execution_count": null,
      "outputs": [
        {
          "output_type": "execute_result",
          "data": {
            "text/plain": [
              "10501774.992773302"
            ]
          },
          "metadata": {},
          "execution_count": 268
        }
      ]
    },
    {
      "cell_type": "markdown",
      "source": [
        "### Estimate and verify the maximun n that can be solved in 1 second"
      ],
      "metadata": {
        "id": "aSUfvZ93JYqO"
      }
    },
    {
      "cell_type": "markdown",
      "source": [
        "$$(n + n*log(n) + 7) \\times 1.44*10^{-7} s = 1 s$$\n",
        "\n",
        "$$ n \\approx 5×10^5 $$"
      ],
      "metadata": {
        "id": "yu6v2k0vJYqO"
      }
    },
    {
      "cell_type": "markdown",
      "source": [
        "*T*(N)=(n+n∗log(n)+7) is not the actual function of the code, given that the execution time is less than 1 second with the given n, the value of n that results in an execution time of 1 second is: $$ \\approx 2*10 ^6$$"
      ],
      "metadata": {
        "id": "pjQjolprJYqP"
      }
    },
    {
      "cell_type": "code",
      "source": [
        "print(2000000*(2000000-1))"
      ],
      "metadata": {
        "colab": {
          "base_uri": "https://localhost:8080/"
        },
        "outputId": "7fceb090-315d-4c5f-8ce9-19ae9055b952",
        "id": "6nRWyw4NJYqP"
      },
      "execution_count": null,
      "outputs": [
        {
          "output_type": "stream",
          "name": "stdout",
          "text": [
            "3999998000000\n"
          ]
        }
      ]
    },
    {
      "cell_type": "code",
      "source": [
        "n = (2000000)\n",
        "numbers = \" \".join(map(str, range(1, n+1)))\n",
        "with open('input22.txt', 'w') as file:\n",
        "    file.write(f\"{n}\\n{numbers}\\n\")"
      ],
      "metadata": {
        "id": "jQVVVGUNJYqP"
      },
      "execution_count": null,
      "outputs": []
    },
    {
      "cell_type": "code",
      "source": [
        "!time python ./max_pairwise_product_sort.py < input22.txt"
      ],
      "metadata": {
        "colab": {
          "base_uri": "https://localhost:8080/"
        },
        "outputId": "37b67115-e675-4415-8a07-4d40a439a4dd",
        "id": "J-QTSVdwJYqP"
      },
      "execution_count": null,
      "outputs": [
        {
          "output_type": "stream",
          "name": "stdout",
          "text": [
            "3999998000000\n",
            "\n",
            "real\t0m0.617s\n",
            "user\t0m0.426s\n",
            "sys\t0m0.187s\n"
          ]
        }
      ]
    },
    {
      "cell_type": "markdown",
      "metadata": {
        "id": "aoQI8Gh4JzLy"
      },
      "source": [
        "## Efficient solution with largest and second-largest in an list, array or vector in Python\n",
        "\n",
        " $$T(n) < 10 n  = O(n)$$\n",
        "\n",
        "\n",
        "\n"
      ]
    },
    {
      "cell_type": "markdown",
      "metadata": {
        "id": "k0PKGHcMJzL4"
      },
      "source": [
        "Add in each line a coment with the number of intstrcution that are executed in that line"
      ]
    },
    {
      "cell_type": "code",
      "execution_count": null,
      "metadata": {
        "colab": {
          "base_uri": "https://localhost:8080/"
        },
        "outputId": "76e295b2-60df-4c39-98cb-452330de4587",
        "id": "emBV_IW5JzL5"
      },
      "outputs": [
        {
          "output_type": "stream",
          "name": "stdout",
          "text": [
            "Writing max_pairwise_product_efficient.py\n"
          ]
        }
      ],
      "source": [
        "%%writefile max_pairwise_product_efficient.py\n",
        "def max_pairwise_product(numbers):\n",
        "    max1 = float('-inf')  # 1\n",
        "    max2 = float('-inf')  # 1\n",
        "\n",
        "    for num in numbers:  # n\n",
        "        if num > max1:  # n\n",
        "            max2 = max1  # n\n",
        "            max1 = num  # n\n",
        "        elif num > max2:  # n\n",
        "            max2 = num  # n\n",
        "\n",
        "    return max1 * max2  # 1\n",
        "\n",
        "n = int(input())  # 1\n",
        "\n",
        "input_numbers = list(map(int, input().split()))  # n\n",
        "\n",
        "result = max_pairwise_product(input_numbers)  # 1\n",
        "\n",
        "print(result)  # 1\n",
        "\n",
        "#total: 7*n+6"
      ]
    },
    {
      "cell_type": "markdown",
      "metadata": {
        "id": "cWnB9pvFJzL5"
      },
      "source": [
        "Test with inputs 1 and 2\n",
        "\n"
      ]
    },
    {
      "cell_type": "code",
      "source": [
        "!chmod +x max_pairwise_product_efficient.py\n",
        "!ls -l max_pairwise_product_efficient.py"
      ],
      "metadata": {
        "colab": {
          "base_uri": "https://localhost:8080/"
        },
        "outputId": "cdf11d4a-ba5d-4594-b09c-d614bd952450",
        "id": "pfW_BO8cJzL5"
      },
      "execution_count": null,
      "outputs": [
        {
          "output_type": "stream",
          "name": "stdout",
          "text": [
            "-rwxr-xr-x 1 root root 461 Mar 13 01:16 max_pairwise_product_efficient.py\n"
          ]
        }
      ]
    },
    {
      "cell_type": "code",
      "execution_count": null,
      "metadata": {
        "colab": {
          "base_uri": "https://localhost:8080/"
        },
        "outputId": "4b07b4d9-9c31-4ea5-c541-af0e9ae408e4",
        "id": "VXkEI-gfJzL5"
      },
      "outputs": [
        {
          "output_type": "stream",
          "name": "stdout",
          "text": [
            "0\n",
            "90\n",
            "90\n"
          ]
        }
      ],
      "source": [
        "!python ./max_pairwise_product_efficient.py < input0.txt\n",
        "!python ./max_pairwise_product_efficient.py < input1.txt\n",
        "!python ./max_pairwise_product_efficient.py < input2.txt"
      ]
    },
    {
      "cell_type": "markdown",
      "metadata": {
        "id": "yDacCi2jJzL6"
      },
      "source": [
        "Test and time it with input 3"
      ]
    },
    {
      "cell_type": "code",
      "execution_count": null,
      "metadata": {
        "colab": {
          "base_uri": "https://localhost:8080/"
        },
        "outputId": "2f71b31f-667a-4ba3-bee7-2e767b6ac5b1",
        "id": "WLi5qF-zJzL6"
      },
      "outputs": [
        {
          "output_type": "stream",
          "name": "stdout",
          "text": [
            "6000000\n",
            "\n",
            "real\t0m0.047s\n",
            "user\t0m0.029s\n",
            "sys\t0m0.015s\n"
          ]
        }
      ],
      "source": [
        "!time python max_pairwise_product_efficient.py < input3.txt"
      ]
    },
    {
      "cell_type": "markdown",
      "metadata": {
        "id": "qG-xIba1JzL6"
      },
      "source": [
        "20 stress tests"
      ]
    },
    {
      "cell_type": "code",
      "execution_count": null,
      "metadata": {
        "colab": {
          "base_uri": "https://localhost:8080/"
        },
        "outputId": "2d3f565c-2e27-4194-c042-7a7ad71a58ad",
        "id": "R06nOylrJzL6"
      },
      "outputs": [
        {
          "output_type": "stream",
          "name": "stdout",
          "text": [
            "90\n",
            "90\n",
            "6000000\n",
            "31053252078\n",
            "810252\n",
            "1155000\n",
            "820476\n",
            "188600000\n",
            "7405926\n",
            "37029630\n",
            "9950952438\n",
            "9928227348\n",
            "9974914628\n",
            "9926832916\n",
            "9975213695\n",
            "9884815684\n",
            "9998200056\n",
            "9996600208\n",
            "9985205251\n",
            "9996500300\n"
          ]
        }
      ],
      "source": [
        "!python max_pairwise_product_efficient.py < input1.txt\n",
        "!python max_pairwise_product_efficient.py < input2.txt\n",
        "!python max_pairwise_product_efficient.py < input3.txt\n",
        "!python max_pairwise_product_efficient.py < input4.txt\n",
        "!python max_pairwise_product_efficient.py < input5.txt\n",
        "!python max_pairwise_product_efficient.py < input6.txt\n",
        "!python max_pairwise_product_efficient.py < input7.txt\n",
        "!python max_pairwise_product_efficient.py < input8.txt\n",
        "!python max_pairwise_product_efficient.py < input9.txt\n",
        "!python max_pairwise_product_efficient.py < input10.txt\n",
        "!python max_pairwise_product_efficient.py < input11.txt\n",
        "!python max_pairwise_product_efficient.py < input12.txt\n",
        "!python max_pairwise_product_efficient.py < input13.txt\n",
        "!python max_pairwise_product_efficient.py < input14.txt\n",
        "!python max_pairwise_product_efficient.py < input15.txt\n",
        "!python max_pairwise_product_efficient.py < input16.txt\n",
        "!python max_pairwise_product_efficient.py < input17.txt\n",
        "!python max_pairwise_product_efficient.py < input18.txt\n",
        "!python max_pairwise_product_efficient.py < input19.txt\n",
        "!python max_pairwise_product_efficient.py < input20.txt"
      ]
    },
    {
      "cell_type": "markdown",
      "metadata": {
        "id": "PHDRUQ7NJzL7"
      },
      "source": [
        "Count executed instructions in code and verify with inputs 1,2 and 3\n"
      ]
    },
    {
      "cell_type": "code",
      "source": [
        "%%writefile max_pairwise_product_sort2.py\n",
        "def max_pairwise_product(numbers):\n",
        "    max1 = float('-inf')  # 1\n",
        "    max2 = float('-inf')  # 1\n",
        "    execints = 2  # Inicialización con el número de instrucciones hasta el bucle for\n",
        "\n",
        "    for num in numbers:  # n\n",
        "        if num > max1:  # n\n",
        "            max2 = max1  # n\n",
        "            max1 = num  # n\n",
        "            execints += 3  # 3 instrucciones: comparación, asignación de max2, asignación de max1\n",
        "        elif num > max2:  # n\n",
        "            max2 = num  # n\n",
        "            execints += 1  # 1 instrucción: asignación de max2\n",
        "\n",
        "    return max1 * max2, execints  # 1 instrucción: retorno del producto y del número de instrucciones\n",
        "\n",
        "n = int(input())  # 1\n",
        "execints = 1  # Inicialización con el número de instrucciones hasta la lectura de n\n",
        "\n",
        "input_numbers = list(map(int, input().split()))  # n\n",
        "execints += n  # Incremento del contador de instrucciones por la creación de la lista\n",
        "\n",
        "result, execints_func = max_pairwise_product(input_numbers)  # 1 (la función se ejecuta)\n",
        "execints += execints_func  # Incremento del contador de instrucciones por la ejecución de la función\n",
        "\n",
        "print(result)  # 1\n",
        "execints += 1  # Incremento del contador de instrucciones por la impresión del resultado\n",
        "\n",
        "print(\"Número total de instrucciones ejecutadas:\", execints)  # 1\n"
      ],
      "metadata": {
        "colab": {
          "base_uri": "https://localhost:8080/"
        },
        "outputId": "9fb7a200-5eb9-4633-be8d-35feeef11db1",
        "id": "-Ne5oW6RJzL7"
      },
      "execution_count": null,
      "outputs": [
        {
          "output_type": "stream",
          "name": "stdout",
          "text": [
            "Overwriting max_pairwise_product_sort2.py\n"
          ]
        }
      ]
    },
    {
      "cell_type": "code",
      "execution_count": null,
      "metadata": {
        "colab": {
          "base_uri": "https://localhost:8080/"
        },
        "outputId": "04bbded0-32ea-41e9-8317-085d1ac03981",
        "id": "eqo6dkwtJzL7"
      },
      "outputs": [
        {
          "output_type": "stream",
          "name": "stdout",
          "text": [
            "-rwxr-xr-x 1 root root 517 Mar 11 00:35 max_pairwise_product_sort2.py\n"
          ]
        }
      ],
      "source": [
        "!chmod +x max_pairwise_product_sort2.py\n",
        "!ls -l max_pairwise_product_sort2.py"
      ]
    },
    {
      "cell_type": "code",
      "source": [
        "n=10\n",
        "print(n+(n*math.log10(n))+7)"
      ],
      "metadata": {
        "colab": {
          "base_uri": "https://localhost:8080/"
        },
        "outputId": "3a2a5587-33eb-4182-8ac4-ad18ccdf60d6",
        "id": "DMOsnEQjJzL7"
      },
      "execution_count": null,
      "outputs": [
        {
          "output_type": "stream",
          "name": "stdout",
          "text": [
            "27.0\n"
          ]
        }
      ]
    },
    {
      "cell_type": "code",
      "source": [
        "!python max_pairwise_product_sort2.py < input1.txt"
      ],
      "metadata": {
        "colab": {
          "base_uri": "https://localhost:8080/"
        },
        "outputId": "6751c3fb-8cff-4848-d9f1-ac5bb329018d",
        "id": "jekIzWo1JzL7"
      },
      "execution_count": null,
      "outputs": [
        {
          "output_type": "stream",
          "name": "stdout",
          "text": [
            "90\n",
            "27.0\n"
          ]
        }
      ]
    },
    {
      "cell_type": "code",
      "source": [
        "!python max_pairwise_product_sort2.py < input2.txt"
      ],
      "metadata": {
        "colab": {
          "base_uri": "https://localhost:8080/"
        },
        "outputId": "98f735fb-6bfe-4db0-b077-7ef89cfe065f",
        "id": "dO5FxkFSJzL7"
      },
      "execution_count": null,
      "outputs": [
        {
          "output_type": "stream",
          "name": "stdout",
          "text": [
            "90\n",
            "27.0\n"
          ]
        }
      ]
    },
    {
      "cell_type": "code",
      "source": [
        "!python max_pairwise_product_sort2.py < input3.txt"
      ],
      "metadata": {
        "colab": {
          "base_uri": "https://localhost:8080/"
        },
        "outputId": "2590dcc3-0c02-4e4f-8605-95763c41daf7",
        "id": "y60BfMYnJzL7"
      },
      "execution_count": null,
      "outputs": [
        {
          "output_type": "stream",
          "name": "stdout",
          "text": [
            "6000000\n",
            "17.668907502301863\n"
          ]
        }
      ]
    },
    {
      "cell_type": "markdown",
      "metadata": {
        "id": "0uUQRys-JzL7"
      },
      "source": [
        "Calculate estimated time by instruction and number of instructions by second"
      ]
    },
    {
      "cell_type": "code",
      "source": [
        "n = 200000\n",
        "numbers = \" \".join(map(str, range(1, 200001)))\n",
        "with open('input21.txt', 'w') as file:\n",
        "    file.write(f\"{n}\\n{numbers}\\n\")"
      ],
      "metadata": {
        "id": "ZnqodLMFVlok"
      },
      "execution_count": null,
      "outputs": []
    },
    {
      "cell_type": "code",
      "execution_count": null,
      "metadata": {
        "colab": {
          "base_uri": "https://localhost:8080/"
        },
        "outputId": "659c59a6-01d4-43d1-853a-6e8354e7bb64",
        "id": "FJpz_EHvJzL8"
      },
      "outputs": [
        {
          "output_type": "stream",
          "name": "stdout",
          "text": [
            "39999800000\n",
            "1260212.9991327962\n",
            "\n",
            "real\t0m0.182s\n",
            "user\t0m0.117s\n",
            "sys\t0m0.052s\n"
          ]
        }
      ],
      "source": [
        "!time python ./max_pairwise_product_sort2.py < input21.txt"
      ]
    },
    {
      "cell_type": "code",
      "source": [
        "n=200000\n",
        "print(n+(n*math.log10(n))+7)"
      ],
      "metadata": {
        "colab": {
          "base_uri": "https://localhost:8080/"
        },
        "outputId": "d3d43b1a-945e-4559-d4e4-553477614aab",
        "id": "OaQ4MOz3JzL8"
      },
      "execution_count": null,
      "outputs": [
        {
          "output_type": "stream",
          "name": "stdout",
          "text": [
            "1260212.9991327962\n"
          ]
        }
      ]
    },
    {
      "cell_type": "code",
      "source": [
        "# Estimated time by instruction\n",
        "0.182/1260212.9991327962"
      ],
      "metadata": {
        "colab": {
          "base_uri": "https://localhost:8080/"
        },
        "outputId": "70497e6c-009b-45c4-f515-0ab04e01300b",
        "id": "QGSzuJirJzL8"
      },
      "execution_count": null,
      "outputs": [
        {
          "output_type": "execute_result",
          "data": {
            "text/plain": [
              "1.4442003068151304e-07"
            ]
          },
          "metadata": {},
          "execution_count": 267
        }
      ]
    },
    {
      "cell_type": "code",
      "source": [
        "# Estimated number of instructions by second\n",
        "1260212.9991327962/0.12"
      ],
      "metadata": {
        "colab": {
          "base_uri": "https://localhost:8080/"
        },
        "outputId": "871f307e-bb39-41d5-f475-ea55cc043c48",
        "id": "MaPX8rp2JzL8"
      },
      "execution_count": null,
      "outputs": [
        {
          "output_type": "execute_result",
          "data": {
            "text/plain": [
              "10501774.992773302"
            ]
          },
          "metadata": {},
          "execution_count": 268
        }
      ]
    },
    {
      "cell_type": "markdown",
      "source": [
        "### Estimate and verify the maximun n that can be solved in 1 second"
      ],
      "metadata": {
        "id": "HQhZ2ELBJzL8"
      }
    },
    {
      "cell_type": "markdown",
      "source": [
        "$$(n + n*log(n) + 7) \\times 1.44*10^{-7} s = 1 s$$\n",
        "\n",
        "$$ n \\approx 5×10^5 $$"
      ],
      "metadata": {
        "id": "PSobguBPJzL8"
      }
    },
    {
      "cell_type": "markdown",
      "source": [
        "*T*(N)=(n+n∗log(n)+7) is not the actual function of the code, given that the execution time is less than 1 second with the given n, the value of n that results in an execution time of 1 second is: $$ \\approx 2*10 ^6$$"
      ],
      "metadata": {
        "id": "bfHGrQKtJzL8"
      }
    },
    {
      "cell_type": "code",
      "source": [
        "print(2000000*(2000000-1))"
      ],
      "metadata": {
        "colab": {
          "base_uri": "https://localhost:8080/"
        },
        "outputId": "7fceb090-315d-4c5f-8ce9-19ae9055b952",
        "id": "8GWv_yvbJzL8"
      },
      "execution_count": null,
      "outputs": [
        {
          "output_type": "stream",
          "name": "stdout",
          "text": [
            "3999998000000\n"
          ]
        }
      ]
    },
    {
      "cell_type": "code",
      "source": [
        "n = (2000000)\n",
        "numbers = \" \".join(map(str, range(1, n+1)))\n",
        "with open('input22.txt', 'w') as file:\n",
        "    file.write(f\"{n}\\n{numbers}\\n\")"
      ],
      "metadata": {
        "id": "-BMTbLAYJzL8"
      },
      "execution_count": null,
      "outputs": []
    },
    {
      "cell_type": "code",
      "source": [
        "!time python ./max_pairwise_product_sort.py < input22.txt"
      ],
      "metadata": {
        "colab": {
          "base_uri": "https://localhost:8080/"
        },
        "outputId": "37b67115-e675-4415-8a07-4d40a439a4dd",
        "id": "95kPWlpHJzL9"
      },
      "execution_count": null,
      "outputs": [
        {
          "output_type": "stream",
          "name": "stdout",
          "text": [
            "3999998000000\n",
            "\n",
            "real\t0m0.617s\n",
            "user\t0m0.426s\n",
            "sys\t0m0.187s\n"
          ]
        }
      ]
    },
    {
      "cell_type": "markdown",
      "metadata": {
        "id": "i2c4tGYyJBFp"
      },
      "source": [
        "## Efficient solution with largest and second-largest in an list, array or vector in C++\n",
        "\n",
        " $$T(n) < 10 n  = O(n)$$\n",
        "\n",
        "\n",
        "\n"
      ]
    },
    {
      "cell_type": "markdown",
      "metadata": {
        "id": "nLcKBwbU0QsE"
      },
      "source": [
        "Add in each line a coment with the number of intstrcution that are executed in that line"
      ]
    },
    {
      "cell_type": "code",
      "execution_count": null,
      "metadata": {
        "id": "knls5Fh3NSt_",
        "colab": {
          "base_uri": "https://localhost:8080/"
        },
        "outputId": "bb8758c1-1a71-4d37-8175-77ca047990d7"
      },
      "outputs": [
        {
          "output_type": "stream",
          "name": "stdout",
          "text": [
            "Overwriting max_pairwise_product_efficient.cpp\n"
          ]
        }
      ],
      "source": [
        "%%writefile max_pairwise_product_efficient.cpp\n",
        "#include <iostream>\n",
        "#include <vector>\n",
        "using namespace std;\n",
        "\n",
        "int main() {\n",
        "    long long n;  // 1\n",
        "    cin >> n;     // 1\n",
        "\n",
        "    vector<long long> numbers(n);  // 2\n",
        "\n",
        "    cin >> numbers[0];  // 1\n",
        "    cin >> numbers[1];  // 1\n",
        "    long long max1 = max(numbers[0], numbers[1]);  // 1\n",
        "    long long max2 = min(numbers[0], numbers[1]);  // 1\n",
        "\n",
        "    // Iteración a partir del tercer elemento\n",
        "    for (int i = 2; i < n; ++i) {  // n-1\n",
        "        cin >> numbers[i];  // 1\n",
        "        if (numbers[i] > max1) {  // n-1\n",
        "            max2 = max1;  // n-1 (ocurre)\n",
        "            max1 = numbers[i];  // n-1\n",
        "        } else if (numbers[i] > max2) {  // n-1 (ocurre en el peor caso)\n",
        "            max2 = numbers[i];  // n-1\n",
        "        }\n",
        "    }\n",
        "\n",
        "    cout << max1 * max2 << endl;  // 1\n",
        "\n",
        "    return 0;\n",
        "    //total:6n+5\n",
        "}\n",
        "\n"
      ]
    },
    {
      "cell_type": "markdown",
      "metadata": {
        "id": "-JCijbWxNSii"
      },
      "source": [
        "Test with inputs 1 and 2\n",
        "\n"
      ]
    },
    {
      "cell_type": "code",
      "source": [
        "!g++ -o max_pairwise_product_efficient max_pairwise_product_efficient.cpp\n",
        "!chmod +x max_pairwise_product_efficient.cpp\n",
        "!ls -l max_pairwise_product_efficient.cpp max_pairwise_product_efficient"
      ],
      "metadata": {
        "colab": {
          "base_uri": "https://localhost:8080/"
        },
        "id": "CMl32aLDxdy-",
        "outputId": "a856704e-f017-4e97-95c7-1b9b094a410a"
      },
      "execution_count": null,
      "outputs": [
        {
          "output_type": "stream",
          "name": "stdout",
          "text": [
            "-rwxr-xr-x 1 root root 20864 Mar 13 00:59 max_pairwise_product_efficient\n",
            "-rwxr-xr-x 1 root root   779 Mar 13 00:59 max_pairwise_product_efficient.cpp\n"
          ]
        }
      ]
    },
    {
      "cell_type": "code",
      "execution_count": null,
      "metadata": {
        "id": "TrTGAfqlNVXT",
        "colab": {
          "base_uri": "https://localhost:8080/"
        },
        "outputId": "7d987b79-9e4e-4727-9076-6c769e7f1758"
      },
      "outputs": [
        {
          "output_type": "stream",
          "name": "stdout",
          "text": [
            "90\n",
            "90\n"
          ]
        }
      ],
      "source": [
        "! ./max_pairwise_product_efficient < input1.txt\n",
        "! ./max_pairwise_product_efficient < input2.txt"
      ]
    },
    {
      "cell_type": "markdown",
      "metadata": {
        "id": "PRX51wADNR8b"
      },
      "source": [
        "Test and time it with input 3"
      ]
    },
    {
      "cell_type": "code",
      "execution_count": null,
      "metadata": {
        "id": "v4z7-Is_NRt7",
        "colab": {
          "base_uri": "https://localhost:8080/"
        },
        "outputId": "8f864263-0693-4169-8954-e037bd82b307"
      },
      "outputs": [
        {
          "output_type": "stream",
          "name": "stdout",
          "text": [
            "6000000\n",
            "\n",
            "real\t0m0.003s\n",
            "user\t0m0.001s\n",
            "sys\t0m0.002s\n"
          ]
        }
      ],
      "source": [
        "!time ./max_pairwise_product_superefficient < input3.txt"
      ]
    },
    {
      "cell_type": "markdown",
      "metadata": {
        "id": "rpdfs0_TNZJf"
      },
      "source": [
        "20 stress tests"
      ]
    },
    {
      "cell_type": "code",
      "source": [
        "for i in range(20,41):\n",
        "  new_file=open(f\"input{i}\",\"w\")"
      ],
      "metadata": {
        "id": "jhzccrFCPeLm"
      },
      "execution_count": null,
      "outputs": []
    },
    {
      "cell_type": "code",
      "execution_count": null,
      "metadata": {
        "id": "Lu4tYcKzNcTT",
        "colab": {
          "base_uri": "https://localhost:8080/"
        },
        "outputId": "326f3bdc-90e4-4f76-d1ae-a3cf07708733"
      },
      "outputs": [
        {
          "output_type": "stream",
          "name": "stdout",
          "text": [
            "Overwriting randomGenerator.cpp\n"
          ]
        }
      ],
      "source": [
        "%%writefile randomGenerator.cpp\n",
        "#include <iostream>\n",
        "#include <stdio.h>\n",
        "#include <unistd.h>\n",
        "using namespace std;\n",
        "int main (){\n",
        "  int n, number;\n",
        "  srand(getpid());\n",
        "  n = 2+rand()%(51-2);\n",
        "  cout<<n<<\"\\n\";\n",
        "  for(int i=0;i<n;i++){\n",
        "    number = rand();\n",
        "    cout<<number<<\" \";\n",
        "  }\n",
        "  return 0;\n",
        "}\n"
      ]
    },
    {
      "cell_type": "code",
      "source": [
        "!g++ -o randomGenerator randomGenerator.cpp\n",
        "!chmod +x randomGenerator.cpp\n",
        "!ls -l randomGenerator.cpp randomGenerator"
      ],
      "metadata": {
        "colab": {
          "base_uri": "https://localhost:8080/"
        },
        "id": "Q-bFNAMiPi6E",
        "outputId": "a047b6bb-4b9d-4541-b1a7-1f163a05f9e8"
      },
      "execution_count": null,
      "outputs": [
        {
          "output_type": "stream",
          "name": "stdout",
          "text": [
            "-rwxr-xr-x 1 root root 16544 Mar 13 00:37 randomGenerator\n",
            "-rwxr-xr-x 1 root root   255 Mar 13 00:37 randomGenerator.cpp\n"
          ]
        }
      ]
    },
    {
      "cell_type": "code",
      "source": [
        "! ./randomGenerator > input20.txt\n",
        "! ./randomGenerator > input21.txt\n",
        "! ./randomGenerator > input22.txt\n",
        "! ./randomGenerator > input23.txt\n",
        "! ./randomGenerator > input24.txt\n",
        "! ./randomGenerator > input25.txt\n",
        "! ./randomGenerator > input26.txt\n",
        "! ./randomGenerator > input27.txt\n",
        "! ./randomGenerator > input28.txt\n",
        "! ./randomGenerator > input29.txt\n",
        "! ./randomGenerator > input30.txt\n",
        "! ./randomGenerator > input31.txt\n",
        "! ./randomGenerator > input32.txt\n",
        "! ./randomGenerator > input33.txt\n",
        "! ./randomGenerator > input34.txt\n",
        "! ./randomGenerator > input35.txt\n",
        "! ./randomGenerator > input36.txt\n",
        "! ./randomGenerator > input37.txt\n",
        "! ./randomGenerator > input38.txt\n",
        "! ./randomGenerator > input39.txt\n",
        "! ./randomGenerator > input40.txt"
      ],
      "metadata": {
        "id": "B37Gei1YPnF_"
      },
      "execution_count": null,
      "outputs": []
    },
    {
      "cell_type": "code",
      "source": [
        "! ./max_pairwise_product_efficient < input20.txt\n",
        "! ./max_pairwise_product_efficient < input21.txt\n",
        "! ./max_pairwise_product_efficient < input22.txt\n",
        "! ./max_pairwise_product_efficient < input23.txt\n",
        "! ./max_pairwise_product_efficient < input24.txt\n",
        "! ./max_pairwise_product_efficient < input25.txt\n",
        "! ./max_pairwise_product_efficient < input26.txt\n",
        "! ./max_pairwise_product_efficient < input27.txt\n",
        "! ./max_pairwise_product_efficient < input28.txt\n",
        "! ./max_pairwise_product_efficient < input29.txt\n",
        "! ./max_pairwise_product_efficient < input30.txt\n",
        "! ./max_pairwise_product_efficient < input31.txt\n",
        "! ./max_pairwise_product_efficient < input32.txt\n",
        "! ./max_pairwise_product_efficient < input33.txt\n",
        "! ./max_pairwise_product_efficient < input34.txt\n",
        "! ./max_pairwise_product_efficient < input35.txt\n",
        "! ./max_pairwise_product_efficient < input36.txt\n",
        "! ./max_pairwise_product_efficient < input37.txt\n",
        "! ./max_pairwise_product_efficient < input38.txt\n",
        "! ./max_pairwise_product_efficient < input39.txt\n",
        "! ./max_pairwise_product_efficient < input40.txt"
      ],
      "metadata": {
        "colab": {
          "base_uri": "https://localhost:8080/"
        },
        "id": "tX5iCRraP-x5",
        "outputId": "5f769242-e3bc-4d33-f1b7-95f7a7065b85"
      },
      "execution_count": null,
      "outputs": [
        {
          "output_type": "stream",
          "name": "stdout",
          "text": [
            "4037480178710130113\n",
            "4294115949810768972\n",
            "3900798372870457535\n",
            "4547805739534142400\n",
            "2288220916382586244\n",
            "2534519371759261363\n",
            "4214738517487704654\n",
            "2985047980064145160\n",
            "4508261769174741567\n",
            "3715992757605202580\n",
            "4415765599396180566\n",
            "57440976969986181\n",
            "4103163794304146891\n",
            "3382853278829676652\n",
            "3912562995537360270\n",
            "4520656555396804616\n",
            "4067923099001528232\n",
            "2345163296340382161\n",
            "4373307561720749760\n",
            "2781210637535703318\n",
            "3592599632663977949\n"
          ]
        }
      ]
    },
    {
      "cell_type": "markdown",
      "source": [
        "Count executed instructions in code and verify with inputs 1,2 and 3"
      ],
      "metadata": {
        "id": "-lNaEmICQKNO"
      }
    },
    {
      "cell_type": "code",
      "source": [
        "%%writefile max_pairwise_product_efficient2.cpp\n",
        "#include <iostream>\n",
        "#include <vector>\n",
        "using namespace std;\n",
        "\n",
        "int main() {\n",
        "    long long n;  // 1\n",
        "    cin >> n;     // 1\n",
        "\n",
        "    vector<long long> numbers(n);  // 2\n",
        "    int execints = 4;\n",
        "\n",
        "    cin >> numbers[0];  // 1\n",
        "    cin >> numbers[1];  // 1\n",
        "    long long max1 = max(numbers[0], numbers[1]);  // 1\n",
        "    long long max2 = min(numbers[0], numbers[1]);  // 1\n",
        "    execints += 4;\n",
        "\n",
        "    for (int i = 2; i < n; ++i) {  // n-1\n",
        "        cin >> numbers[i];  // 1\n",
        "        execints += 1;\n",
        "        if (numbers[i] > max1) {  // n-1\n",
        "            max2 = max1;  // n-1 (ocurre en el peor caso)\n",
        "            max1 = numbers[i];  // n-1\n",
        "            execints += 2;\n",
        "        } else if (numbers[i] > max2) {  // n-1 (ocurre en el peor caso)\n",
        "            max2 = numbers[i];  // n-1\n",
        "            execints += 1;\n",
        "        }\n",
        "    }\n",
        "\n",
        "    cout << max1 * max2 << endl;  // 1\n",
        "    execints += 1;\n",
        "\n",
        "    cout << execints << endl;  // 2\n",
        "\n",
        "    return 0;\n",
        "}\n",
        "\n"
      ],
      "metadata": {
        "colab": {
          "base_uri": "https://localhost:8080/"
        },
        "id": "umXMWiqP3sl9",
        "outputId": "a370e3c7-4f5f-4add-91a2-f2ae588bd9e8"
      },
      "execution_count": null,
      "outputs": [
        {
          "output_type": "stream",
          "name": "stdout",
          "text": [
            "Overwriting max_pairwise_product_efficient2.cpp\n"
          ]
        }
      ]
    },
    {
      "cell_type": "code",
      "execution_count": null,
      "metadata": {
        "id": "dh85RM8vNhFz",
        "colab": {
          "base_uri": "https://localhost:8080/"
        },
        "outputId": "c7deb3f1-1d8d-4c3b-f4fa-a7d3e5960b84"
      },
      "outputs": [
        {
          "output_type": "stream",
          "name": "stdout",
          "text": [
            "-rwxr-xr-x 1 root root 20912 Mar 13 00:57 max_pairwise_product_efficient2\n",
            "-rwxr-xr-x 1 root root  1006 Mar 13 00:57 max_pairwise_product_efficient2.cpp\n"
          ]
        }
      ],
      "source": [
        "!g++ -o max_pairwise_product_efficient2 max_pairwise_product_efficient2.cpp\n",
        "!chmod +x max_pairwise_product_efficient2.cpp\n",
        "!ls -l max_pairwise_product_efficient2.cpp max_pairwise_product_efficient2"
      ]
    },
    {
      "cell_type": "code",
      "source": [
        "n=10\n",
        "print(6*n+5) #peor caso"
      ],
      "metadata": {
        "colab": {
          "base_uri": "https://localhost:8080/"
        },
        "id": "23iYpdfm6-io",
        "outputId": "a6e46ce3-a959-4edc-a0fa-6f0a6c2875fa"
      },
      "execution_count": null,
      "outputs": [
        {
          "output_type": "stream",
          "name": "stdout",
          "text": [
            "65\n"
          ]
        }
      ]
    },
    {
      "cell_type": "code",
      "source": [
        "! ./max_pairwise_product_efficient2 < input1.txt"
      ],
      "metadata": {
        "colab": {
          "base_uri": "https://localhost:8080/"
        },
        "id": "vzVv6m4A6hyi",
        "outputId": "d9ffee46-a761-4980-e4af-5732548419b7"
      },
      "execution_count": null,
      "outputs": [
        {
          "output_type": "stream",
          "name": "stdout",
          "text": [
            "90\n",
            "33\n"
          ]
        }
      ]
    },
    {
      "cell_type": "code",
      "source": [
        "! ./max_pairwise_product_efficient2 < input2.txt"
      ],
      "metadata": {
        "colab": {
          "base_uri": "https://localhost:8080/"
        },
        "id": "mMr6d2gb6jR3",
        "outputId": "30ec8ecd-ac48-413f-b4b6-b47adebaa960"
      },
      "execution_count": null,
      "outputs": [
        {
          "output_type": "stream",
          "name": "stdout",
          "text": [
            "90\n",
            "17\n"
          ]
        }
      ]
    },
    {
      "cell_type": "code",
      "source": [
        "! ./max_pairwise_product_efficient2 < input3.txt"
      ],
      "metadata": {
        "colab": {
          "base_uri": "https://localhost:8080/"
        },
        "id": "wUG8rB096jBp",
        "outputId": "9c39518f-d10d-4165-de95-c514fca1e51a"
      },
      "execution_count": null,
      "outputs": [
        {
          "output_type": "stream",
          "name": "stdout",
          "text": [
            "6000000\n",
            "14\n"
          ]
        }
      ]
    },
    {
      "cell_type": "markdown",
      "metadata": {
        "id": "K6ybgCmpNygr"
      },
      "source": [
        "Calculate estimated time by instruction and number of instructions by second"
      ]
    },
    {
      "cell_type": "code",
      "source": [
        "n = 200000\n",
        "numbers = \" \".join(map(str, range(1, 200001)))\n",
        "with open('input21.txt', 'w') as file:\n",
        "    file.write(f\"{n}\\n{numbers}\\n\")"
      ],
      "metadata": {
        "id": "oyLbNYyhVvoL"
      },
      "execution_count": null,
      "outputs": []
    },
    {
      "cell_type": "code",
      "execution_count": null,
      "metadata": {
        "id": "kwe3G1O3Nz1w",
        "colab": {
          "base_uri": "https://localhost:8080/"
        },
        "outputId": "02422bba-f288-4ef0-e63a-2fa301bcb675"
      },
      "outputs": [
        {
          "output_type": "stream",
          "name": "stdout",
          "text": [
            "39999800000\n",
            "600003\n",
            "\n",
            "real\t0m0.073s\n",
            "user\t0m0.065s\n",
            "sys\t0m0.005s\n"
          ]
        }
      ],
      "source": [
        "!time ./max_pairwise_product_efficient2 < input21.txt"
      ]
    },
    {
      "cell_type": "code",
      "source": [
        "n=200000\n",
        "print(6*n+5)"
      ],
      "metadata": {
        "colab": {
          "base_uri": "https://localhost:8080/"
        },
        "id": "FzGoBiRy8r0i",
        "outputId": "ab17c08a-184d-4309-b27d-10a000c3e902"
      },
      "execution_count": null,
      "outputs": [
        {
          "output_type": "stream",
          "name": "stdout",
          "text": [
            "1200005\n"
          ]
        }
      ]
    },
    {
      "cell_type": "code",
      "source": [
        "# Estimated time by instruction\n",
        "0.073/1200005"
      ],
      "metadata": {
        "colab": {
          "base_uri": "https://localhost:8080/"
        },
        "id": "HI3fQVU28ryf",
        "outputId": "a2957b2b-9955-42a5-aa0e-a302bde4cee8"
      },
      "execution_count": null,
      "outputs": [
        {
          "output_type": "execute_result",
          "data": {
            "text/plain": [
              "6.083307986216724e-08"
            ]
          },
          "metadata": {},
          "execution_count": 102
        }
      ]
    },
    {
      "cell_type": "code",
      "source": [
        "# Estimated number of instructions by second\n",
        "1200005/0.073"
      ],
      "metadata": {
        "colab": {
          "base_uri": "https://localhost:8080/"
        },
        "id": "Fd6rbaWJ8_P_",
        "outputId": "403cf29e-061b-45bc-d202-cb4b707f9651"
      },
      "execution_count": null,
      "outputs": [
        {
          "output_type": "execute_result",
          "data": {
            "text/plain": [
              "16438424.657534247"
            ]
          },
          "metadata": {},
          "execution_count": 103
        }
      ]
    },
    {
      "cell_type": "markdown",
      "source": [
        "### Estimate and verify the maximun n that can be solved in 1 second"
      ],
      "metadata": {
        "id": "v8GY6n_ZaJ4P"
      }
    },
    {
      "cell_type": "markdown",
      "source": [
        "$$(6*n+5) \\times 6.08*10^{-8} s = 1 s$$\n",
        "\n",
        "$$ n \\approx 2.74*10^{6} $$"
      ],
      "metadata": {
        "id": "zeQaArfkBQ0r"
      }
    },
    {
      "cell_type": "code",
      "source": [
        "print(2740000*(2740000-1))"
      ],
      "metadata": {
        "id": "z3xjzg1YaKk6",
        "colab": {
          "base_uri": "https://localhost:8080/"
        },
        "outputId": "6497c084-930c-4d86-aae4-8d7d96798f06"
      },
      "execution_count": null,
      "outputs": [
        {
          "output_type": "stream",
          "name": "stdout",
          "text": [
            "7507597260000\n"
          ]
        }
      ]
    },
    {
      "cell_type": "code",
      "source": [
        "n = (2740000)\n",
        "numbers = \" \".join(map(str, range(1, n+1)))\n",
        "with open('input22.txt', 'w') as file:\n",
        "    file.write(f\"{n}\\n{numbers}\\n\")"
      ],
      "metadata": {
        "id": "NfLjQwAKDp-U"
      },
      "execution_count": null,
      "outputs": []
    },
    {
      "cell_type": "code",
      "source": [
        "!time ./max_pairwise_product_efficient < input22.txt"
      ],
      "metadata": {
        "colab": {
          "base_uri": "https://localhost:8080/"
        },
        "id": "EMzQivSKEApt",
        "outputId": "8e395269-ae66-441c-fb68-3ea35d75e2ae"
      },
      "execution_count": null,
      "outputs": [
        {
          "output_type": "stream",
          "name": "stdout",
          "text": [
            "7507597260000\n",
            "\n",
            "real\t0m1.490s\n",
            "user\t0m1.393s\n",
            "sys\t0m0.037s\n"
          ]
        }
      ]
    },
    {
      "cell_type": "markdown",
      "metadata": {
        "id": "sUpIWcykOGpT"
      },
      "source": [
        "## Super efficient solution\n",
        "\n",
        "Whitout storing the list in memory, only stpring the largest and second largest and whitout calling a function, add in each line a coment with the number of instructions that are executed in that line\n",
        "\n",
        "in C++ and Python\n",
        "\n",
        "\n",
        " $$T(n) < 13 n  = O(n)$$\n"
      ]
    },
    {
      "cell_type": "code",
      "execution_count": null,
      "metadata": {
        "id": "hBLt_xBQLy8E",
        "colab": {
          "base_uri": "https://localhost:8080/"
        },
        "outputId": "b4f8e41d-0cf8-48a1-b188-29584f86bbd3"
      },
      "outputs": [
        {
          "output_type": "stream",
          "name": "stdout",
          "text": [
            "Overwriting max_pairwise_product_superefficient.cpp\n"
          ]
        }
      ],
      "source": [
        "%%writefile max_pairwise_product_superefficient.cpp\n",
        "#include <iostream>\n",
        "\n",
        "using namespace std;\n",
        "int main(){\n",
        "  long max, secondMax, input, n;\n",
        "\n",
        "  cin>>n;\n",
        "\n",
        "  cin>>max;\n",
        "  cin>>input;\n",
        "  if(input>max){\n",
        "    secondMax=max;\n",
        "    max=input;\n",
        "  }\n",
        "  else{\n",
        "    secondMax=input;\n",
        "  }\n",
        "  for(int i=0; i<n-2;i++){\n",
        "    cin>>input;\n",
        "    if(input>secondMax){\n",
        "      if(input>max){\n",
        "        secondMax=max;\n",
        "        max=input;\n",
        "      }\n",
        "      else{\n",
        "        secondMax=input;\n",
        "      }\n",
        "    }\n",
        "\n",
        "  }\n",
        "  cout<<max*secondMax<<\"\\n\";\n",
        "\n",
        "\n",
        " cout << \"Execution Time: \" << time << endl;\n",
        "  return 0;\n",
        "}\n"
      ]
    },
    {
      "cell_type": "code",
      "source": [
        "!g++ -o max_pairwise_product_superefficient max_pairwise_product_superefficient.cpp\n",
        "!chmod +x max_pairwise_product_superefficient.cpp\n",
        "!ls -l max_pairwise_product_superefficient.cpp max_pairwise_product_superefficient"
      ],
      "metadata": {
        "colab": {
          "base_uri": "https://localhost:8080/"
        },
        "id": "9QPQQm_Sd0ry",
        "outputId": "3073b551-f289-4e1a-afd1-bf4e85c0e5d3"
      },
      "execution_count": null,
      "outputs": [
        {
          "output_type": "stream",
          "name": "stdout",
          "text": [
            "-rwxr-xr-x 1 root root 16792 Mar 13 00:20 max_pairwise_product_superefficient\n",
            "-rwxr-xr-x 1 root root   501 Mar 13 00:20 max_pairwise_product_superefficient.cpp\n"
          ]
        }
      ]
    },
    {
      "cell_type": "markdown",
      "metadata": {
        "id": "683gc3roHqzb"
      },
      "source": [
        "Test with inputs 1 and 2\n",
        "\n",
        "\n"
      ]
    },
    {
      "cell_type": "code",
      "execution_count": null,
      "metadata": {
        "id": "b7d4LA8OIc2_",
        "colab": {
          "base_uri": "https://localhost:8080/"
        },
        "outputId": "ee546104-e6b2-45d4-cb5e-579b4d54bfd2"
      },
      "outputs": [
        {
          "output_type": "stream",
          "name": "stdout",
          "text": [
            "90\n",
            "90\n"
          ]
        }
      ],
      "source": [
        "! ./max_pairwise_product_superefficient < input1.txt\n",
        "! ./max_pairwise_product_superefficient < input2.txt"
      ]
    },
    {
      "cell_type": "markdown",
      "metadata": {
        "id": "36Ugn1odIeJz"
      },
      "source": [
        "Test and time it with input 3"
      ]
    },
    {
      "cell_type": "code",
      "execution_count": null,
      "metadata": {
        "id": "jDyMbCnxHqSN",
        "colab": {
          "base_uri": "https://localhost:8080/"
        },
        "outputId": "758aa180-a6c0-4f7e-e8dd-821352b2aa3a"
      },
      "outputs": [
        {
          "output_type": "stream",
          "name": "stdout",
          "text": [
            "1345294336\n",
            "\n",
            "real\t0m0.004s\n",
            "user\t0m0.001s\n",
            "sys\t0m0.003s\n"
          ]
        }
      ],
      "source": [
        "!time ./max_pairwise_product_superefficient < input3.txt\n"
      ]
    },
    {
      "cell_type": "markdown",
      "metadata": {
        "id": "bhqiKQG6fjKM"
      },
      "source": [
        "20 stress tests"
      ]
    },
    {
      "cell_type": "code",
      "source": [
        "for i in range(20,41):\n",
        "  new_file=open(f\"input{i}\",\"w\")"
      ],
      "metadata": {
        "id": "mMMFB947fIIK"
      },
      "execution_count": null,
      "outputs": []
    },
    {
      "cell_type": "code",
      "execution_count": null,
      "metadata": {
        "id": "2KsiXKhALzwm",
        "colab": {
          "base_uri": "https://localhost:8080/"
        },
        "outputId": "cc4efecf-f271-4026-cc54-4545fbc71db7"
      },
      "outputs": [
        {
          "output_type": "stream",
          "name": "stdout",
          "text": [
            "Writing randomGenerator.cpp\n"
          ]
        }
      ],
      "source": [
        "%%writefile randomGenerator.cpp\n",
        "#include <iostream>\n",
        "#include <stdio.h>\n",
        "#include <unistd.h>\n",
        "using namespace std;\n",
        "int main (){\n",
        "  int n, number;\n",
        "  srand(getpid());\n",
        "  n = 2+rand()%(51-2);\n",
        "  cout<<n<<\"\\n\";\n",
        "  for(int i=0;i<n;i++){\n",
        "    number = rand();\n",
        "    cout<<number<<\" \";\n",
        "  }\n",
        "  return 0;\n",
        "}"
      ]
    },
    {
      "cell_type": "code",
      "source": [
        "!g++ -o randomGenerator randomGenerator.cpp\n",
        "!chmod +x randomGenerator.cpp\n",
        "!ls -l randomGenerator.cpp randomGenerator"
      ],
      "metadata": {
        "colab": {
          "base_uri": "https://localhost:8080/"
        },
        "id": "Hemk4ulI-Yh5",
        "outputId": "f20972df-fec3-4d58-b8b5-95a678c4f4cb"
      },
      "execution_count": null,
      "outputs": [
        {
          "output_type": "stream",
          "name": "stdout",
          "text": [
            "-rwxr-xr-x 1 root root 16544 Mar 13 00:36 randomGenerator\n",
            "-rwxr-xr-x 1 root root   255 Mar 13 00:36 randomGenerator.cpp\n"
          ]
        }
      ]
    },
    {
      "cell_type": "code",
      "source": [
        "! ./randomGenerator > input20.txt\n",
        "! ./randomGenerator > input21.txt\n",
        "! ./randomGenerator > input22.txt\n",
        "! ./randomGenerator > input23.txt\n",
        "! ./randomGenerator > input24.txt\n",
        "! ./randomGenerator > input25.txt\n",
        "! ./randomGenerator > input26.txt\n",
        "! ./randomGenerator > input27.txt\n",
        "! ./randomGenerator > input28.txt\n",
        "! ./randomGenerator > input29.txt\n",
        "! ./randomGenerator > input30.txt\n",
        "! ./randomGenerator > input31.txt\n",
        "! ./randomGenerator > input32.txt\n",
        "! ./randomGenerator > input33.txt\n",
        "! ./randomGenerator > input34.txt\n",
        "! ./randomGenerator > input35.txt\n",
        "! ./randomGenerator > input36.txt\n",
        "! ./randomGenerator > input37.txt\n",
        "! ./randomGenerator > input38.txt\n",
        "! ./randomGenerator > input39.txt\n",
        "! ./randomGenerator > input40.txt"
      ],
      "metadata": {
        "id": "qSZTVdiBjvzq"
      },
      "execution_count": null,
      "outputs": []
    },
    {
      "cell_type": "code",
      "source": [
        "! ./max_pairwise_product_superefficient < input20.txt\n",
        "! ./max_pairwise_product_superefficient < input21.txt\n",
        "! ./max_pairwise_product_superefficient < input22.txt\n",
        "! ./max_pairwise_product_superefficient < input23.txt\n",
        "! ./max_pairwise_product_superefficient < input24.txt\n",
        "! ./max_pairwise_product_superefficient < input25.txt\n",
        "! ./max_pairwise_product_superefficient < input26.txt\n",
        "! ./max_pairwise_product_superefficient < input27.txt\n",
        "! ./max_pairwise_product_superefficient < input28.txt\n",
        "! ./max_pairwise_product_superefficient < input29.txt\n",
        "! ./max_pairwise_product_superefficient < input30.txt\n",
        "! ./max_pairwise_product_superefficient < input31.txt\n",
        "! ./max_pairwise_product_superefficient < input32.txt\n",
        "! ./max_pairwise_product_superefficient < input33.txt\n",
        "! ./max_pairwise_product_superefficient < input34.txt\n",
        "! ./max_pairwise_product_superefficient < input35.txt\n",
        "! ./max_pairwise_product_superefficient < input36.txt\n",
        "! ./max_pairwise_product_superefficient < input37.txt\n",
        "! ./max_pairwise_product_superefficient < input38.txt\n",
        "! ./max_pairwise_product_superefficient < input39.txt\n",
        "! ./max_pairwise_product_superefficient < input30.txt\n"
      ],
      "metadata": {
        "colab": {
          "base_uri": "https://localhost:8080/"
        },
        "id": "cP3SzPtZnaxA",
        "outputId": "9971fa3f-caa1-41d4-a5e0-0176e32ac29d"
      },
      "execution_count": null,
      "outputs": [
        {
          "output_type": "stream",
          "name": "stdout",
          "text": [
            "4296629737798570900\n",
            "4594595254146607500\n",
            "2943401539036925244\n",
            "4445606625129680400\n",
            "3978123446940432921\n",
            "4455162403067545323\n",
            "3157073557728283176\n",
            "3262671550399355458\n",
            "2868026119465554000\n",
            "200599740551878785\n",
            "4157043378493448574\n",
            "4385118822986440353\n",
            "3637404949644340732\n",
            "4348857884726376302\n",
            "4515466027009439922\n",
            "4210334564480139296\n",
            "4049619803373433458\n",
            "4328575939084569536\n",
            "4172144367209278266\n",
            "4589850600319152044\n",
            "4157043378493448574\n"
          ]
        }
      ]
    },
    {
      "cell_type": "markdown",
      "metadata": {
        "id": "fEXj8GHJH5p1"
      },
      "source": [
        "Count executed instructions in code and verify with inputs 1,2 and 3"
      ]
    },
    {
      "cell_type": "code",
      "execution_count": null,
      "metadata": {
        "id": "LF1DHjKXIAsF",
        "colab": {
          "base_uri": "https://localhost:8080/"
        },
        "outputId": "d4ffd374-0d45-473a-cc9a-acb8153e4d69"
      },
      "outputs": [
        {
          "output_type": "stream",
          "name": "stdout",
          "text": [
            "Writing max_pairwise_product_superefficient2.cpp\n"
          ]
        }
      ],
      "source": [
        "%%writefile max_pairwise_product_superefficient2.cpp\n",
        "#include <iostream>\n",
        "using namespace std;\n",
        "int main(){\n",
        "  int execints=0;\n",
        "  long max, secondMax, input, n;\n",
        "  cin>>n;\n",
        "  execints++;\n",
        "  cin>>max;\n",
        "  execints++;\n",
        "  cin>>input;\n",
        "  execints++;\n",
        "  if(input>max){\n",
        "    secondMax=max;\n",
        "    execints++;\n",
        "    max=input;\n",
        "    execints++;\n",
        "  }\n",
        "  else{\n",
        "    secondMax=input;\n",
        "    execints++;\n",
        "  }\n",
        "  for(int i=0; i<n-2;i++){\n",
        "    cin>>input;\n",
        "    execints++;\n",
        "    if(input>secondMax){\n",
        "      if(input>max){\n",
        "        secondMax=max;\n",
        "        execints++;\n",
        "        max=input;\n",
        "        execints++;\n",
        "      }\n",
        "      else{\n",
        "        secondMax=input;\n",
        "        execints++;\n",
        "      }\n",
        "    }\n",
        "\n",
        "  }\n",
        "  cout<<max*secondMax<<\"\\n\";\n",
        "  execints++;\n",
        "  cout<<execints<<\"\\n\";\n",
        "  return 0;\n",
        "}"
      ]
    },
    {
      "cell_type": "code",
      "source": [
        "%%writefile max_pairwise_product_superefficient2.cpp\n",
        "#include <iostream>\n",
        "using namespace std;\n",
        "int main(){\n",
        "  int execints=0;\n",
        "  long max, secondMax, input, n;\n",
        "  cin>>n;                      #1\n",
        "  cin>>max;                    #1\n",
        "  cin>>input;                  #1\n",
        "  if(input>max){\n",
        "    secondMax=max;\n",
        "    max=input;                 #2  upper bound\n",
        "  }\n",
        "  else{\n",
        "    secondMax=input;\n",
        "  }\n",
        "  for(int i=0; i<n-2;i++){\n",
        "    cin>>input;                #n-2\n",
        "    if(input>secondMax){\n",
        "      if(input>max){\n",
        "        secondMax=max;\n",
        "        max=input;             #2(n-2) upper bound\n",
        "      }\n",
        "      else{\n",
        "        secondMax=input;\n",
        "      }\n",
        "    }\n",
        "\n",
        "  }\n",
        "  cout<<max*secondMax<<\"\\n\";   #1\n",
        "  return 0;\n",
        "}"
      ],
      "metadata": {
        "id": "KjwzsSSh6I_U"
      },
      "execution_count": null,
      "outputs": []
    },
    {
      "cell_type": "code",
      "source": [
        "!g++ -o max_pairwise_product_superefficient2 max_pairwise_product_superefficient2.cpp\n",
        "!chmod +x max_pairwise_product_superefficient2.cpp\n",
        "!ls -l max_pairwise_product_superefficient2.cpp max_pairwise_product_superefficient2"
      ],
      "metadata": {
        "colab": {
          "base_uri": "https://localhost:8080/"
        },
        "id": "PslVi_sRqPnZ",
        "outputId": "a05dd7f4-ad85-478a-c7c2-132d917b8de4"
      },
      "execution_count": null,
      "outputs": [
        {
          "output_type": "stream",
          "name": "stdout",
          "text": [
            "-rwxr-xr-x 1 root root 16648 Mar 13 00:21 max_pairwise_product_superefficient2\n",
            "-rwxr-xr-x 1 root root   670 Mar 13 00:21 max_pairwise_product_superefficient2.cpp\n"
          ]
        }
      ]
    },
    {
      "cell_type": "code",
      "source": [
        "! ./max_pairwise_product_superefficient2 < input1.txt"
      ],
      "metadata": {
        "colab": {
          "base_uri": "https://localhost:8080/"
        },
        "id": "rfYUNfU-rRNI",
        "outputId": "2ab4424b-dc03-4e0f-b763-a0e31d2ad383"
      },
      "execution_count": null,
      "outputs": [
        {
          "output_type": "stream",
          "name": "stdout",
          "text": [
            "90\n",
            "30\n"
          ]
        }
      ]
    },
    {
      "cell_type": "code",
      "source": [
        "! ./max_pairwise_product_superefficient2 < input2.txt"
      ],
      "metadata": {
        "colab": {
          "base_uri": "https://localhost:8080/"
        },
        "id": "E4PuucU7sduo",
        "outputId": "5a03ab12-12e2-40bd-a356-65ab2351891c"
      },
      "execution_count": null,
      "outputs": [
        {
          "output_type": "stream",
          "name": "stdout",
          "text": [
            "90\n",
            "13\n"
          ]
        }
      ]
    },
    {
      "cell_type": "code",
      "source": [
        "! ./max_pairwise_product_superefficient2 < input3.txt"
      ],
      "metadata": {
        "id": "HpzPrCh_siOQ",
        "outputId": "298b0b67-8c25-4fbd-807f-338feab8868d",
        "colab": {
          "base_uri": "https://localhost:8080/"
        }
      },
      "execution_count": null,
      "outputs": [
        {
          "output_type": "stream",
          "name": "stdout",
          "text": [
            "40000000000\n",
            "14\n"
          ]
        }
      ]
    },
    {
      "cell_type": "markdown",
      "source": [
        "##The total number of instructions (upper bound) is:\n",
        "$$ f(n)=3n $$\n",
        "So the algorithm complexity is O(n)"
      ],
      "metadata": {
        "id": "3tS7SI7M7IkC"
      }
    },
    {
      "cell_type": "markdown",
      "source": [
        "##For input1.txt n=10, f(n)=30, and our code counts exactly 30 instructions in the code, in input2.txt for n=10, our code counts 13 instructions which is within our stimates."
      ],
      "metadata": {
        "id": "N8udCMU08tm-"
      }
    },
    {
      "cell_type": "markdown",
      "metadata": {
        "id": "yae7sSm2IG9U"
      },
      "source": [
        "Calculate estimated time by instruction and number of instructions by second"
      ]
    },
    {
      "cell_type": "code",
      "source": [
        "%%writefile estimateInput.cpp\n",
        "#include <iostream>\n",
        "using namespace std;\n",
        "int main (){\n",
        "  cout << 11000<<\"\\n\";\n",
        "  for(int i=0; i<11000;i++){\n",
        "      cout <<i<<\" \";\n",
        "  }\n",
        "}"
      ],
      "metadata": {
        "colab": {
          "base_uri": "https://localhost:8080/"
        },
        "id": "N_-jYsJ1_8Vg",
        "outputId": "407cd22e-e42b-4685-8ec3-b533c8b078fc"
      },
      "execution_count": null,
      "outputs": [
        {
          "output_type": "stream",
          "name": "stdout",
          "text": [
            "Writing estimateInput.cpp\n"
          ]
        }
      ]
    },
    {
      "cell_type": "code",
      "source": [
        "!g++ -o estimateInput estimateInput.cpp\n",
        "!chmod +x estimateInput.cpp\n",
        "!ls -l estimateInput.cpp estimateInput"
      ],
      "metadata": {
        "colab": {
          "base_uri": "https://localhost:8080/"
        },
        "id": "7Ax1lxV-IhVY",
        "outputId": "007a9f09-0958-4de5-b358-3e65838eaa3b"
      },
      "execution_count": null,
      "outputs": [
        {
          "output_type": "stream",
          "name": "stdout",
          "text": [
            "-rwxr-xr-x 1 root root 16432 Mar 13 00:16 estimateInput\n",
            "-rwxr-xr-x 1 root root   133 Mar 13 00:16 estimateInput.cpp\n"
          ]
        }
      ]
    },
    {
      "cell_type": "code",
      "execution_count": null,
      "metadata": {
        "id": "suouY7BYL2dz"
      },
      "outputs": [],
      "source": [
        "new_file=open(f\"results.txt\",\"w\")\n",
        "new_file=open(f\"superefficientInput.txt\",\"w\")"
      ]
    },
    {
      "cell_type": "code",
      "source": [
        "! ./estimateInput > superefficientInput.txt"
      ],
      "metadata": {
        "id": "sCV06ZjdJBBx"
      },
      "execution_count": null,
      "outputs": []
    },
    {
      "cell_type": "code",
      "source": [
        "!time ./max_pairwise_product_superefficient2 < superefficientInput.txt"
      ],
      "metadata": {
        "colab": {
          "base_uri": "https://localhost:8080/"
        },
        "id": "ziX05F2W_AGS",
        "outputId": "9b50a2ff-1184-4c9d-9780-16e5a218765b"
      },
      "execution_count": null,
      "outputs": [
        {
          "output_type": "stream",
          "name": "stdout",
          "text": [
            "120967002\n",
            "33000\n",
            "\n",
            "real\t0m0.007s\n",
            "user\t0m0.005s\n",
            "sys\t0m0.001s\n"
          ]
        }
      ]
    },
    {
      "cell_type": "code",
      "source": [
        "33000/0.001"
      ],
      "metadata": {
        "colab": {
          "base_uri": "https://localhost:8080/"
        },
        "id": "vdeyqwoL_o3G",
        "outputId": "7fbdd258-5fdf-4de0-fc99-6339e45e13cc"
      },
      "execution_count": null,
      "outputs": [
        {
          "output_type": "execute_result",
          "data": {
            "text/plain": [
              "33000000.0"
            ]
          },
          "metadata": {},
          "execution_count": 9
        }
      ]
    },
    {
      "cell_type": "markdown",
      "metadata": {
        "id": "sy33CNNfPxcE"
      },
      "source": [
        "### Super efficient solution in Python\n",
        "\n",
        "Whitout storing the list in memory and whitout calling a function, add in each line a coment with the number of intstrcution that are executed in that line"
      ]
    },
    {
      "cell_type": "code",
      "execution_count": null,
      "metadata": {
        "id": "_mOjJwKrPxcJ",
        "colab": {
          "base_uri": "https://localhost:8080/"
        },
        "outputId": "b5b6eb24-1f36-4114-abfd-664cdffccaf2"
      },
      "outputs": [
        {
          "output_type": "stream",
          "name": "stdout",
          "text": [
            "Writing max_pairwise_product_sup.py\n"
          ]
        }
      ],
      "source": [
        "%%writefile max_pairwise_product_sup.py\n",
        "n = int(input())  # 1\n",
        "input_numbers = map(int, input().split())  # n\n",
        "max1 = float('-inf')  # 1\n",
        "max2 = float('-inf')  # 1\n",
        "\n",
        "for num in input_numbers:  # n\n",
        "  if num > max1:  # n\n",
        "    max2 = max1  # n\n",
        "    max1 = num  # n\n",
        "  elif num > max2:  # n\n",
        "    max2 = num  # n\n",
        "#prueba\n",
        "#print(max1,max2)\n",
        "result = max1 * max2  # 1\n",
        "\n",
        "print(result)  # 1\n",
        "\n",
        "#total: 7n+5"
      ]
    },
    {
      "cell_type": "markdown",
      "metadata": {
        "id": "K08Eow0hPxcJ"
      },
      "source": [
        "Test with inputs 1 and 2\n",
        "\n",
        "\n"
      ]
    },
    {
      "cell_type": "code",
      "source": [
        "!chmod +x max_pairwise_product_sup.py\n",
        "!ls -l max_pairwise_product_sup.py"
      ],
      "metadata": {
        "id": "g0a0RagfVNpr",
        "colab": {
          "base_uri": "https://localhost:8080/"
        },
        "outputId": "9cc307a4-57eb-484a-ad64-cff3e16b9c4e"
      },
      "execution_count": null,
      "outputs": [
        {
          "output_type": "stream",
          "name": "stdout",
          "text": [
            "-rwxr-xr-x 1 root root 346 Mar 12 23:43 max_pairwise_product_sup.py\n"
          ]
        }
      ]
    },
    {
      "cell_type": "code",
      "execution_count": null,
      "metadata": {
        "id": "1_mUee2cPxcJ",
        "colab": {
          "base_uri": "https://localhost:8080/"
        },
        "outputId": "8877bc8e-807a-43bd-b24c-e6142ef475d2"
      },
      "outputs": [
        {
          "output_type": "stream",
          "name": "stdout",
          "text": [
            "0\n"
          ]
        }
      ],
      "source": [
        "!python ./max_pairwise_product_sup.py < input0.txt"
      ]
    },
    {
      "cell_type": "code",
      "source": [
        "!python ./max_pairwise_product_sup.py < input1.txt"
      ],
      "metadata": {
        "colab": {
          "base_uri": "https://localhost:8080/"
        },
        "id": "-QzEocyqXqBF",
        "outputId": "d935ffba-01d0-4f6d-c826-042cc587f2b8"
      },
      "execution_count": null,
      "outputs": [
        {
          "output_type": "stream",
          "name": "stdout",
          "text": [
            "90\n"
          ]
        }
      ]
    },
    {
      "cell_type": "code",
      "source": [
        "!python ./max_pairwise_product_sup.py < input2.txt"
      ],
      "metadata": {
        "id": "rCbJS4iWVOWM",
        "colab": {
          "base_uri": "https://localhost:8080/"
        },
        "outputId": "3e12d2ed-5b26-4676-ee51-0157c467e29a"
      },
      "execution_count": null,
      "outputs": [
        {
          "output_type": "stream",
          "name": "stdout",
          "text": [
            "90\n"
          ]
        }
      ]
    },
    {
      "cell_type": "markdown",
      "metadata": {
        "id": "CE5DB3CmPxcJ"
      },
      "source": [
        "Test and time it with input 3"
      ]
    },
    {
      "cell_type": "code",
      "execution_count": null,
      "metadata": {
        "id": "lyLhFOoePxcJ",
        "colab": {
          "base_uri": "https://localhost:8080/"
        },
        "outputId": "c35a5775-baa0-4577-b91f-2f6c4c27138e"
      },
      "outputs": [
        {
          "output_type": "stream",
          "name": "stdout",
          "text": [
            "6000000\n",
            "\n",
            "real\t0m0.044s\n",
            "user\t0m0.031s\n",
            "sys\t0m0.010s\n"
          ]
        }
      ],
      "source": [
        "!time python ./max_pairwise_product_sup.py < input3.txt"
      ]
    },
    {
      "cell_type": "markdown",
      "metadata": {
        "id": "HZEI236lPxcK"
      },
      "source": [
        "20 stress tests"
      ]
    },
    {
      "cell_type": "code",
      "execution_count": null,
      "metadata": {
        "id": "_LoV-p4zPxcK",
        "colab": {
          "base_uri": "https://localhost:8080/"
        },
        "outputId": "3a1afcf4-5db6-463e-de1b-507ac32bdb67"
      },
      "outputs": [
        {
          "output_type": "stream",
          "name": "stdout",
          "text": [
            "90\n",
            "90\n",
            "6000000\n",
            "31053252078\n",
            "810252\n",
            "1155000\n",
            "820476\n",
            "188600000\n",
            "7405926\n",
            "37029630\n",
            "9982400348\n",
            "9955146618\n",
            "9815952150\n",
            "9995900210\n",
            "9867994857\n",
            "9990102438\n",
            "9997000200\n",
            "9997200132\n",
            "9998100090\n"
          ]
        }
      ],
      "source": [
        "!python ./max_pairwise_product_sup.py < input1.txt\n",
        "!python ./max_pairwise_product_sup.py < input2.txt\n",
        "!python ./max_pairwise_product_sup.py < input3.txt\n",
        "!python ./max_pairwise_product_sup.py < input4.txt\n",
        "!python ./max_pairwise_product_sup.py < input5.txt\n",
        "!python ./max_pairwise_product_sup.py < input6.txt\n",
        "!python ./max_pairwise_product_sup.py < input7.txt\n",
        "!python ./max_pairwise_product_sup.py < input8.txt\n",
        "!python ./max_pairwise_product_sup.py < input9.txt\n",
        "!python ./max_pairwise_product_sup.py < input10.txt\n",
        "!python ./max_pairwise_product_sup.py < input11.txt\n",
        "!python ./max_pairwise_product_sup.py < input12.txt\n",
        "!python ./max_pairwise_product_sup.py < input13.txt\n",
        "!python ./max_pairwise_product_sup.py < input15.txt\n",
        "!python ./max_pairwise_product_sup.py < input16.txt\n",
        "!python ./max_pairwise_product_sup.py < input17.txt\n",
        "!python ./max_pairwise_product_sup.py < input18.txt\n",
        "!python ./max_pairwise_product_sup.py < input19.txt\n",
        "!python ./max_pairwise_product_sup.py < input20.txt"
      ]
    },
    {
      "cell_type": "markdown",
      "metadata": {
        "id": "IRVdP3iuPxcK"
      },
      "source": [
        "Count executed instructions in code and verify with inputs 1,2 and 3"
      ]
    },
    {
      "cell_type": "code",
      "execution_count": null,
      "metadata": {
        "id": "RghJOg78PxcK",
        "colab": {
          "base_uri": "https://localhost:8080/"
        },
        "outputId": "01020e88-b8fc-40c9-ec94-ee5f75db9438"
      },
      "outputs": [
        {
          "output_type": "stream",
          "name": "stdout",
          "text": [
            "Overwriting max_pairwise_product_sup2.py\n"
          ]
        }
      ],
      "source": [
        "%%writefile max_pairwise_product_sup2.py\n",
        "execints = 0\n",
        "\n",
        "n = int(input())  # 1\n",
        "execints += 1\n",
        "input_numbers = map(int, input().split())  # n\n",
        "execints += 1\n",
        "max1 = float('-inf')  # 1\n",
        "execints += 1\n",
        "max2 = float('-inf')  # 1\n",
        "execints += 1\n",
        "\n",
        "for num in input_numbers:  # n\n",
        "    execints += 1\n",
        "    if num > max1:  # n\n",
        "        execints += 1\n",
        "        max2 = max1  # n\n",
        "        execints += 1\n",
        "        max1 = num  # n\n",
        "        execints += 1\n",
        "    elif num > max2:  # n\n",
        "        execints += 1\n",
        "        max2 = num  # n\n",
        "        execints += 1\n",
        "\n",
        "result = max1 * max2  # 1\n",
        "execints += 1\n",
        "\n",
        "print(result)  # 1\n",
        "execints += 1\n",
        "\n",
        "print(execints)\n"
      ]
    },
    {
      "cell_type": "code",
      "source": [
        "!chmod +x max_pairwise_product_sup2.py\n",
        "!ls -l max_pairwise_product_sup2.py"
      ],
      "metadata": {
        "colab": {
          "base_uri": "https://localhost:8080/"
        },
        "id": "iMoRA-w1bn9O",
        "outputId": "0575d6a5-1e73-4de9-9690-c2b9e9bfbc49"
      },
      "execution_count": null,
      "outputs": [
        {
          "output_type": "stream",
          "name": "stdout",
          "text": [
            "chmod: cannot access 'max_pairwise_product_sup2.py': No such file or directory\n",
            "ls: cannot access 'max_pairwise_product_sup2.py': No such file or directory\n"
          ]
        }
      ]
    },
    {
      "cell_type": "code",
      "source": [
        "n=10\n",
        "print(7*n+5)"
      ],
      "metadata": {
        "colab": {
          "base_uri": "https://localhost:8080/"
        },
        "id": "hN2nQ1cSbqge",
        "outputId": "67025f75-ffa5-4318-844d-2135023b69a3"
      },
      "execution_count": null,
      "outputs": [
        {
          "output_type": "stream",
          "name": "stdout",
          "text": [
            "75\n"
          ]
        }
      ]
    },
    {
      "cell_type": "code",
      "source": [
        "!python ./max_pairwise_product_sup2.py < input1.txt"
      ],
      "metadata": {
        "colab": {
          "base_uri": "https://localhost:8080/"
        },
        "id": "ZnzF2qHGboxt",
        "outputId": "b2e8a0bc-b129-4188-8289-cb9b99e899e6"
      },
      "execution_count": null,
      "outputs": [
        {
          "output_type": "stream",
          "name": "stdout",
          "text": [
            "90\n",
            "46\n"
          ]
        }
      ]
    },
    {
      "cell_type": "code",
      "source": [
        "!python ./max_pairwise_product_sup2.py < input2.txt"
      ],
      "metadata": {
        "colab": {
          "base_uri": "https://localhost:8080/"
        },
        "id": "qES6Fsh3bomR",
        "outputId": "d2489a0f-ec41-4e2f-9fd9-ad7025db1e1e"
      },
      "execution_count": null,
      "outputs": [
        {
          "output_type": "stream",
          "name": "stdout",
          "text": [
            "90\n",
            "21\n"
          ]
        }
      ]
    },
    {
      "cell_type": "code",
      "source": [
        "!python ./max_pairwise_product_sup2.py < input3.txt"
      ],
      "metadata": {
        "colab": {
          "base_uri": "https://localhost:8080/"
        },
        "id": "rQ7tSBDAboal",
        "outputId": "544ea616-5530-42aa-fb72-da120028d4ec"
      },
      "execution_count": null,
      "outputs": [
        {
          "output_type": "stream",
          "name": "stdout",
          "text": [
            "6000000\n",
            "20\n"
          ]
        }
      ]
    },
    {
      "cell_type": "markdown",
      "metadata": {
        "id": "R6qeUjPaPxcK"
      },
      "source": [
        "Calculate estimated time by instruction and number of instructions by second"
      ]
    },
    {
      "cell_type": "code",
      "source": [
        "n = 200000\n",
        "numbers = \" \".join(map(str, range(1, 200001)))\n",
        "with open('input21.txt', 'w') as file:\n",
        "    file.write(f\"{n}\\n{numbers}\\n\")"
      ],
      "metadata": {
        "id": "vtmEZm5BWJ89"
      },
      "execution_count": null,
      "outputs": []
    },
    {
      "cell_type": "code",
      "execution_count": null,
      "metadata": {
        "id": "iLdXYvn3PxcK",
        "colab": {
          "base_uri": "https://localhost:8080/"
        },
        "outputId": "0bda2412-7d06-4de3-e39a-3b8a99920367"
      },
      "outputs": [
        {
          "output_type": "stream",
          "name": "stdout",
          "text": [
            "39999800000\n",
            "800006\n",
            "\n",
            "real\t0m0.190s\n",
            "user\t0m0.164s\n",
            "sys\t0m0.024s\n"
          ]
        }
      ],
      "source": [
        "!time python ./max_pairwise_product_sup2.py < input21.txt"
      ]
    },
    {
      "cell_type": "code",
      "source": [
        "n=200000\n",
        "print(7*n+5)"
      ],
      "metadata": {
        "colab": {
          "base_uri": "https://localhost:8080/"
        },
        "id": "qMgDs1svcSiv",
        "outputId": "9571a9b8-ae56-418b-e5d8-3d781da539cf"
      },
      "execution_count": null,
      "outputs": [
        {
          "output_type": "stream",
          "name": "stdout",
          "text": [
            "1400005\n"
          ]
        }
      ]
    },
    {
      "cell_type": "code",
      "source": [
        "# Estimated time by instruction\n",
        "0.190/800006"
      ],
      "metadata": {
        "colab": {
          "base_uri": "https://localhost:8080/"
        },
        "id": "T0YcEk42cSa2",
        "outputId": "3e338411-8833-44d9-dc13-d752a5dc1ebb"
      },
      "execution_count": null,
      "outputs": [
        {
          "output_type": "execute_result",
          "data": {
            "text/plain": [
              "2.3749821876335927e-07"
            ]
          },
          "metadata": {},
          "execution_count": 349
        }
      ]
    },
    {
      "cell_type": "code",
      "source": [
        "# Estimated number of instructions by second\n",
        "800006/0.190"
      ],
      "metadata": {
        "colab": {
          "base_uri": "https://localhost:8080/"
        },
        "id": "r6TR2p0EcSP-",
        "outputId": "155d4039-1076-47f1-863d-06b8f6a95182"
      },
      "execution_count": null,
      "outputs": [
        {
          "output_type": "execute_result",
          "data": {
            "text/plain": [
              "4210557.894736842"
            ]
          },
          "metadata": {},
          "execution_count": 350
        }
      ]
    },
    {
      "cell_type": "markdown",
      "source": [
        "### Estimate and verify the maximun n that can be solved in 1 second"
      ],
      "metadata": {
        "id": "MEZLERuvoUYa"
      }
    },
    {
      "cell_type": "markdown",
      "source": [
        "$$(7n+5) \\times 2.37*10^{-7} s = 1 s$$\n",
        "\n",
        "$$ n \\approx 6×10^5 $$"
      ],
      "metadata": {
        "id": "z914FoDsoUYb"
      }
    },
    {
      "cell_type": "markdown",
      "source": [
        "*T*(N)=(7n+5) is not the actual function of the code, given that the execution time is greater than 1 second with the given n, the value of n that results in an execution time of 1 second is: $$ \\approx 2*10 ^6$$"
      ],
      "metadata": {
        "id": "8LpvOq-NnEvy"
      }
    },
    {
      "cell_type": "code",
      "source": [
        "print(2000000*(2000000-1))"
      ],
      "metadata": {
        "colab": {
          "base_uri": "https://localhost:8080/"
        },
        "outputId": "6c34afac-dfce-49ec-8a48-8925c9181951",
        "id": "jTuV4Ev6oUYb"
      },
      "execution_count": null,
      "outputs": [
        {
          "output_type": "stream",
          "name": "stdout",
          "text": [
            "3999998000000\n"
          ]
        }
      ]
    },
    {
      "cell_type": "code",
      "source": [
        "n = (2000000)\n",
        "numbers = \" \".join(map(str, range(1, n+1)))\n",
        "with open('input22.txt', 'w') as file:\n",
        "    file.write(f\"{n}\\n{numbers}\\n\")"
      ],
      "metadata": {
        "id": "T13TgfAimATz"
      },
      "execution_count": null,
      "outputs": []
    },
    {
      "cell_type": "code",
      "source": [
        "!time python ./max_pairwise_product_sup.py < input22.txt"
      ],
      "metadata": {
        "colab": {
          "base_uri": "https://localhost:8080/"
        },
        "id": "8hpcZxXlmGq8",
        "outputId": "299cb198-536d-43f7-c25e-976b4bea796f"
      },
      "execution_count": null,
      "outputs": [
        {
          "output_type": "stream",
          "name": "stdout",
          "text": [
            "3999998000000\n",
            "\n",
            "real\t0m1.436s\n",
            "user\t0m1.133s\n",
            "sys\t0m0.237s\n"
          ]
        }
      ]
    },
    {
      "cell_type": "markdown",
      "source": [
        "## Perform 100 randomized automated tests in C++ and Python with a porgram  compares the answers,for the same 100 random input instances, of the super efficient solution $(T(n) < 10 n = O(n))$ against the sorting solution  $(T(n)  = O(n \\lg{n}))$,  if the answers are not the same stops and displays \"Error\" listing  the input and the two answers; if the 100 tests are completed without stoping displays \"Pass\"."
      ],
      "metadata": {
        "id": "4hHRQMXzW6oR"
      }
    },
    {
      "cell_type": "markdown",
      "source": [
        "Random Test for the super efficient solutions python and c++:"
      ],
      "metadata": {
        "id": "08QTBXO5soAf"
      }
    },
    {
      "cell_type": "code",
      "source": [
        "import random\n",
        "import math\n",
        "\n",
        "# Number of stress tests\n",
        "num_tests = 100\n",
        "\n",
        "for test_number in range(1, 101):\n",
        "    n = random.randint(2, 100000)\n",
        "    # Generating random values\n",
        "    numbers = [random.randint(1, 99999) for _ in range(n)]\n",
        "\n",
        "    #Writing the input in a file\n",
        "    with open(f\"inputltest{test_number}.txt\", \"w\") as file:\n",
        "        file.write(f\"{n}\\n\")\n",
        "        file.write(\" \".join(map(str, numbers)))\n",
        "\n",
        "    print(f\"Test {test_number}: N={n}\")"
      ],
      "metadata": {
        "colab": {
          "base_uri": "https://localhost:8080/"
        },
        "id": "KfjZWBO2iqK0",
        "outputId": "b540c07b-420e-4b03-ed12-ff6538b90287"
      },
      "execution_count": null,
      "outputs": [
        {
          "output_type": "stream",
          "name": "stdout",
          "text": [
            "Test 1: N=69113\n",
            "Test 2: N=76894\n",
            "Test 3: N=50476\n",
            "Test 4: N=21116\n",
            "Test 5: N=79412\n",
            "Test 6: N=80283\n",
            "Test 7: N=78081\n",
            "Test 8: N=25653\n",
            "Test 9: N=53156\n",
            "Test 10: N=94958\n",
            "Test 11: N=85975\n",
            "Test 12: N=98712\n",
            "Test 13: N=61460\n",
            "Test 14: N=25951\n",
            "Test 15: N=62749\n",
            "Test 16: N=5424\n",
            "Test 17: N=27130\n",
            "Test 18: N=93694\n",
            "Test 19: N=48365\n",
            "Test 20: N=33924\n",
            "Test 21: N=32661\n",
            "Test 22: N=43755\n",
            "Test 23: N=24657\n",
            "Test 24: N=64826\n",
            "Test 25: N=75091\n",
            "Test 26: N=86429\n",
            "Test 27: N=80143\n",
            "Test 28: N=36261\n",
            "Test 29: N=66684\n",
            "Test 30: N=8761\n",
            "Test 31: N=48464\n",
            "Test 32: N=33124\n",
            "Test 33: N=60078\n",
            "Test 34: N=37764\n",
            "Test 35: N=36527\n",
            "Test 36: N=69049\n",
            "Test 37: N=9682\n",
            "Test 38: N=14095\n",
            "Test 39: N=41129\n",
            "Test 40: N=87412\n",
            "Test 41: N=56588\n",
            "Test 42: N=89074\n",
            "Test 43: N=50441\n",
            "Test 44: N=99434\n",
            "Test 45: N=37899\n",
            "Test 46: N=31943\n",
            "Test 47: N=78259\n",
            "Test 48: N=84841\n",
            "Test 49: N=16165\n",
            "Test 50: N=81237\n",
            "Test 51: N=45385\n",
            "Test 52: N=99851\n",
            "Test 53: N=33824\n",
            "Test 54: N=6525\n",
            "Test 55: N=31441\n",
            "Test 56: N=72773\n",
            "Test 57: N=40323\n",
            "Test 58: N=80684\n",
            "Test 59: N=12424\n",
            "Test 60: N=16352\n",
            "Test 61: N=88488\n",
            "Test 62: N=67634\n",
            "Test 63: N=76276\n",
            "Test 64: N=8143\n",
            "Test 65: N=10537\n",
            "Test 66: N=77027\n",
            "Test 67: N=5365\n",
            "Test 68: N=87547\n",
            "Test 69: N=82796\n",
            "Test 70: N=19061\n",
            "Test 71: N=49916\n",
            "Test 72: N=69929\n",
            "Test 73: N=28959\n",
            "Test 74: N=65484\n",
            "Test 75: N=49492\n",
            "Test 76: N=89866\n",
            "Test 77: N=55717\n",
            "Test 78: N=28230\n",
            "Test 79: N=77633\n",
            "Test 80: N=52775\n",
            "Test 81: N=29563\n",
            "Test 82: N=82970\n",
            "Test 83: N=82622\n",
            "Test 84: N=1447\n",
            "Test 85: N=87298\n",
            "Test 86: N=47182\n",
            "Test 87: N=10275\n",
            "Test 88: N=62564\n",
            "Test 89: N=49103\n",
            "Test 90: N=53102\n",
            "Test 91: N=80676\n",
            "Test 92: N=75482\n",
            "Test 93: N=2473\n",
            "Test 94: N=75416\n",
            "Test 95: N=18927\n",
            "Test 96: N=43359\n",
            "Test 97: N=92798\n",
            "Test 98: N=95512\n",
            "Test 99: N=27601\n",
            "Test 100: N=76530\n"
          ]
        }
      ]
    },
    {
      "cell_type": "markdown",
      "source": [
        "Python Super Efficient\n"
      ],
      "metadata": {
        "id": "Pc7VTEj-rVAZ"
      }
    },
    {
      "cell_type": "code",
      "source": [
        "# Crear un script de Python para generar líneas de comando\n",
        "script_content = \"\"\"\\\n",
        "#!/usr/bin/env python\n",
        "\n",
        "for i in range(1, 101):\n",
        "    input_file = f\"inputltest{i}.txt\"\n",
        "    output_file = f\"outputltest{i}.txt\"\n",
        "    command = f\"python3 max_pairwise_product_sup.py < {input_file} > {output_file}\"\n",
        "    print(command)\n",
        "\"\"\"\n",
        "\n",
        "# Guardar el script en un archivo\n",
        "with open(\"generate_commands.py\", \"w\") as script_file:\n",
        "    script_file.write(script_content)\n"
      ],
      "metadata": {
        "id": "k3EogzzblL9K"
      },
      "execution_count": null,
      "outputs": []
    },
    {
      "cell_type": "code",
      "source": [
        "!python generate_commands.py > run_tests.sh\n",
        "!chmod +x run_tests.sh\n",
        "!./run_tests.sh"
      ],
      "metadata": {
        "id": "MWJo-mxmlyoo"
      },
      "execution_count": null,
      "outputs": []
    },
    {
      "cell_type": "code",
      "source": [
        "!cat outputltest1.txt\n",
        "!cat outputltest100.txt"
      ],
      "metadata": {
        "colab": {
          "base_uri": "https://localhost:8080/"
        },
        "id": "bo_6VglDo-Ls",
        "outputId": "5b6eda8e-7f2d-410f-d3b2-69aa6bbb7328"
      },
      "execution_count": null,
      "outputs": [
        {
          "output_type": "stream",
          "name": "stdout",
          "text": [
            "9998400048\n",
            "9999600003\n"
          ]
        }
      ]
    },
    {
      "cell_type": "markdown",
      "source": [
        "C++ Super Efficient"
      ],
      "metadata": {
        "id": "F9XtPbZurYNI"
      }
    },
    {
      "cell_type": "code",
      "source": [
        "script_content = \"\"\"\\\n",
        "#!/usr/bin/env python\n",
        "\n",
        "cpp_file = \"max_pairwise_product_superefficient.cpp\"\n",
        "executable = \"./max_pairwise_product_superefficient\"\n",
        "\n",
        "# Compilar el programa C++\n",
        "compile_command = f\"g++ {cpp_file} -o {executable}\"\n",
        "print(compile_command)\n",
        "\n",
        "for i in range(1, 101):\n",
        "    input_file = f\"inputltest{i}.txt\"\n",
        "    output_file = f\"outputctest{i}.txt\"\n",
        "\n",
        "    run_command = f\"{executable} < {input_file} > {output_file}\"\n",
        "    print(run_command)\n",
        "\"\"\"\n",
        "\n",
        "# Guardar el script en un archivo\n",
        "with open(\"generate_commands_cpp.py\", \"w\") as script_file:\n",
        "    script_file.write(script_content)\n"
      ],
      "metadata": {
        "id": "A58hsmDOqr1a"
      },
      "execution_count": null,
      "outputs": []
    },
    {
      "cell_type": "code",
      "source": [
        "!python generate_commands_cpp.py > run_tests_c.sh\n",
        "!chmod +x run_tests_c.sh\n",
        "!./run_tests_c.sh"
      ],
      "metadata": {
        "id": "zumCGfMItdZe"
      },
      "execution_count": null,
      "outputs": []
    },
    {
      "cell_type": "code",
      "source": [
        "!cat outputctest1.txt\n",
        "!cat outputctest100.txt"
      ],
      "metadata": {
        "colab": {
          "base_uri": "https://localhost:8080/"
        },
        "id": "pkQTVQIYvk46",
        "outputId": "2f6293ce-29b5-4c31-fdfe-43ba6cd68ad7"
      },
      "execution_count": null,
      "outputs": [
        {
          "output_type": "stream",
          "name": "stdout",
          "text": [
            "9998400048\n",
            "9999600003\n"
          ]
        }
      ]
    },
    {
      "cell_type": "markdown",
      "source": [
        "Test for the sort solutions python and c++:"
      ],
      "metadata": {
        "id": "gxtArNM6w11s"
      }
    },
    {
      "cell_type": "markdown",
      "source": [
        "Python Sort"
      ],
      "metadata": {
        "id": "a2C_CKz6x5VU"
      }
    },
    {
      "cell_type": "code",
      "source": [
        "script_content = \"\"\"\\\n",
        "#!/usr/bin/env python\n",
        "\n",
        "for i in range(1, 101):\n",
        "    input_file = f\"inputltest{i}.txt\"\n",
        "    output_file = f\"outputpysorttest{i}.txt\"\n",
        "    command = f\"python3 max_pairwise_product_sort.py < {input_file} > {output_file}\"\n",
        "    print(command)\n",
        "\"\"\"\n",
        "\n",
        "# Guardar el script en un archivo\n",
        "with open(\"generate_commands_sort.py\", \"w\") as script_file:\n",
        "    script_file.write(script_content)\n"
      ],
      "metadata": {
        "id": "WcrszYP-46s2"
      },
      "execution_count": null,
      "outputs": []
    },
    {
      "cell_type": "code",
      "source": [
        "!python generate_commands_sort.py > run_tests_pysort.sh\n",
        "!chmod +x run_tests_pysort.sh\n",
        "!./run_tests_pysort.sh"
      ],
      "metadata": {
        "id": "QI2A_Fdo5SwU"
      },
      "execution_count": null,
      "outputs": []
    },
    {
      "cell_type": "code",
      "source": [
        "!cat outputpysorttest1.txt\n",
        "!cat outputpysorttest100.txt"
      ],
      "metadata": {
        "colab": {
          "base_uri": "https://localhost:8080/"
        },
        "id": "0lCxpEbM5cJ9",
        "outputId": "6c84818c-48d2-4e46-b0b3-dbc7bac5b674"
      },
      "execution_count": null,
      "outputs": [
        {
          "output_type": "stream",
          "name": "stdout",
          "text": [
            "9998400048\n",
            "9999600003\n"
          ]
        }
      ]
    },
    {
      "cell_type": "markdown",
      "source": [
        "C++ Sort"
      ],
      "metadata": {
        "id": "5W1g4lUTm9th"
      }
    },
    {
      "cell_type": "code",
      "source": [
        "script_content = \"\"\"\\\n",
        "#!/usr/bin/env python\n",
        "\n",
        "cpp_file = \"max_pairwise_product_sort.cpp\"\n",
        "executable = \"./max_pairwise_product_sort\"\n",
        "\n",
        "# Compilar el programa C++\n",
        "compile_command = f\"g++ {cpp_file} -o {executable}\"\n",
        "print(compile_command)\n",
        "\n",
        "for i in range(1, 101):\n",
        "    input_file = f\"inputltest{i}.txt\"\n",
        "    output_file = f\"outputcsorttest{i}.txt\"\n",
        "\n",
        "    run_command = f\"{executable} < {input_file} > {output_file}\"\n",
        "    print(run_command)\n",
        "\"\"\"\n",
        "\n",
        "# Guardar el script en un archivo\n",
        "with open(\"generate_commands_cpp_sort.py\", \"w\") as script_file:\n",
        "    script_file.write(script_content)"
      ],
      "metadata": {
        "id": "Wm8UmlvxnCQH"
      },
      "execution_count": null,
      "outputs": []
    },
    {
      "cell_type": "code",
      "source": [
        "!python generate_commands_cpp_sort.py > run_tests_c_sort.sh\n",
        "!chmod +x run_tests_c_sort.sh\n",
        "!./run_tests_c_sort.sh"
      ],
      "metadata": {
        "id": "HlQK10P2CH9m"
      },
      "execution_count": null,
      "outputs": []
    },
    {
      "cell_type": "code",
      "source": [
        "!cat outputcsorttest1.txt\n",
        "!cat outputcsorttest100.txt"
      ],
      "metadata": {
        "colab": {
          "base_uri": "https://localhost:8080/"
        },
        "outputId": "b32dabf5-9776-4603-d507-728b66ebdc3e",
        "id": "fsN-SHupCUfe"
      },
      "execution_count": null,
      "outputs": [
        {
          "output_type": "stream",
          "name": "stdout",
          "text": [
            "9998400048\n",
            "9999600003\n"
          ]
        }
      ]
    },
    {
      "cell_type": "markdown",
      "source": [
        "Compare C++ Sort and C++ Superefficient"
      ],
      "metadata": {
        "id": "pxmp2BzhDrzy"
      }
    },
    {
      "cell_type": "code",
      "source": [
        "def compare_outputs(output_file1, output_file2):\n",
        "    with open(output_file1, 'r') as file1, open(output_file2, 'r') as file2:\n",
        "        for line1, line2 in zip(file1, file2):\n",
        "            if line1.strip() != line2.strip():\n",
        "                return \"Error\"\n",
        "    return \"Pass\"\n",
        "\n",
        "# Comparar los 100 archivos de salida\n",
        "for i in range(1, 101):\n",
        "    output_file1 = f\"outputctest{i}.txt\"\n",
        "    output_file2 = f\"outputcsorttest{i}.txt\"\n",
        "    result = compare_outputs(output_file1, output_file2)\n",
        "    print(f\"Test {i}: {result}\")\n"
      ],
      "metadata": {
        "colab": {
          "base_uri": "https://localhost:8080/"
        },
        "id": "giTavBaSDz2h",
        "outputId": "4eead909-0353-4431-9847-f55abba9f9ac"
      },
      "execution_count": null,
      "outputs": [
        {
          "output_type": "stream",
          "name": "stdout",
          "text": [
            "Test 1: Pass\n",
            "Test 2: Pass\n",
            "Test 3: Pass\n",
            "Test 4: Pass\n",
            "Test 5: Pass\n",
            "Test 6: Pass\n",
            "Test 7: Pass\n",
            "Test 8: Pass\n",
            "Test 9: Pass\n",
            "Test 10: Pass\n",
            "Test 11: Pass\n",
            "Test 12: Pass\n",
            "Test 13: Pass\n",
            "Test 14: Pass\n",
            "Test 15: Pass\n",
            "Test 16: Pass\n",
            "Test 17: Pass\n",
            "Test 18: Pass\n",
            "Test 19: Pass\n",
            "Test 20: Pass\n",
            "Test 21: Pass\n",
            "Test 22: Pass\n",
            "Test 23: Pass\n",
            "Test 24: Pass\n",
            "Test 25: Pass\n",
            "Test 26: Pass\n",
            "Test 27: Pass\n",
            "Test 28: Pass\n",
            "Test 29: Pass\n",
            "Test 30: Pass\n",
            "Test 31: Pass\n",
            "Test 32: Pass\n",
            "Test 33: Pass\n",
            "Test 34: Pass\n",
            "Test 35: Pass\n",
            "Test 36: Pass\n",
            "Test 37: Pass\n",
            "Test 38: Pass\n",
            "Test 39: Pass\n",
            "Test 40: Pass\n",
            "Test 41: Pass\n",
            "Test 42: Pass\n",
            "Test 43: Pass\n",
            "Test 44: Pass\n",
            "Test 45: Pass\n",
            "Test 46: Pass\n",
            "Test 47: Pass\n",
            "Test 48: Pass\n",
            "Test 49: Pass\n",
            "Test 50: Pass\n",
            "Test 51: Pass\n",
            "Test 52: Pass\n",
            "Test 53: Pass\n",
            "Test 54: Pass\n",
            "Test 55: Pass\n",
            "Test 56: Pass\n",
            "Test 57: Pass\n",
            "Test 58: Pass\n",
            "Test 59: Pass\n",
            "Test 60: Pass\n",
            "Test 61: Pass\n",
            "Test 62: Pass\n",
            "Test 63: Pass\n",
            "Test 64: Pass\n",
            "Test 65: Pass\n",
            "Test 66: Pass\n",
            "Test 67: Pass\n",
            "Test 68: Pass\n",
            "Test 69: Pass\n",
            "Test 70: Pass\n",
            "Test 71: Pass\n",
            "Test 72: Pass\n",
            "Test 73: Pass\n",
            "Test 74: Pass\n",
            "Test 75: Pass\n",
            "Test 76: Pass\n",
            "Test 77: Pass\n",
            "Test 78: Pass\n",
            "Test 79: Pass\n",
            "Test 80: Pass\n",
            "Test 81: Pass\n",
            "Test 82: Pass\n",
            "Test 83: Pass\n",
            "Test 84: Pass\n",
            "Test 85: Pass\n",
            "Test 86: Pass\n",
            "Test 87: Pass\n",
            "Test 88: Pass\n",
            "Test 89: Pass\n",
            "Test 90: Pass\n",
            "Test 91: Pass\n",
            "Test 92: Pass\n",
            "Test 93: Pass\n",
            "Test 94: Pass\n",
            "Test 95: Pass\n",
            "Test 96: Pass\n",
            "Test 97: Pass\n",
            "Test 98: Pass\n",
            "Test 99: Pass\n",
            "Test 100: Pass\n"
          ]
        }
      ]
    },
    {
      "cell_type": "markdown",
      "source": [
        "Compare Python Sort and Python Superefficient"
      ],
      "metadata": {
        "id": "MtDafc6FHM4T"
      }
    },
    {
      "cell_type": "code",
      "source": [
        "def compare_outputs(output_file1, output_file2):\n",
        "    with open(output_file1, 'r') as file1, open(output_file2, 'r') as file2:\n",
        "        for line1, line2 in zip(file1, file2):\n",
        "            if line1.strip() != line2.strip():\n",
        "                return \"Error\"\n",
        "    return \"Pass\"\n",
        "\n",
        "# Comparar los 100 archivos de salida\n",
        "for i in range(1, 101):\n",
        "    output_file1 = f\"outputltest{i}.txt\"\n",
        "    output_file2 = f\"outputpysorttest{i}.txt\"\n",
        "    result = compare_outputs(output_file1, output_file2)\n",
        "    print(f\"Test {i}: {result}\")\n"
      ],
      "metadata": {
        "colab": {
          "base_uri": "https://localhost:8080/"
        },
        "id": "vY1PDRMtDz0a",
        "outputId": "e08c5b48-96db-4e92-cf34-5f98f65e0374"
      },
      "execution_count": null,
      "outputs": [
        {
          "output_type": "stream",
          "name": "stdout",
          "text": [
            "Test 1: Pass\n",
            "Test 2: Pass\n",
            "Test 3: Pass\n",
            "Test 4: Pass\n",
            "Test 5: Pass\n",
            "Test 6: Pass\n",
            "Test 7: Pass\n",
            "Test 8: Pass\n",
            "Test 9: Pass\n",
            "Test 10: Pass\n",
            "Test 11: Pass\n",
            "Test 12: Pass\n",
            "Test 13: Pass\n",
            "Test 14: Pass\n",
            "Test 15: Pass\n",
            "Test 16: Pass\n",
            "Test 17: Pass\n",
            "Test 18: Pass\n",
            "Test 19: Pass\n",
            "Test 20: Pass\n",
            "Test 21: Pass\n",
            "Test 22: Pass\n",
            "Test 23: Pass\n",
            "Test 24: Pass\n",
            "Test 25: Pass\n",
            "Test 26: Pass\n",
            "Test 27: Pass\n",
            "Test 28: Pass\n",
            "Test 29: Pass\n",
            "Test 30: Pass\n",
            "Test 31: Pass\n",
            "Test 32: Pass\n",
            "Test 33: Pass\n",
            "Test 34: Pass\n",
            "Test 35: Pass\n",
            "Test 36: Pass\n",
            "Test 37: Pass\n",
            "Test 38: Pass\n",
            "Test 39: Pass\n",
            "Test 40: Pass\n",
            "Test 41: Pass\n",
            "Test 42: Pass\n",
            "Test 43: Pass\n",
            "Test 44: Pass\n",
            "Test 45: Pass\n",
            "Test 46: Pass\n",
            "Test 47: Pass\n",
            "Test 48: Pass\n",
            "Test 49: Pass\n",
            "Test 50: Pass\n",
            "Test 51: Pass\n",
            "Test 52: Pass\n",
            "Test 53: Pass\n",
            "Test 54: Pass\n",
            "Test 55: Pass\n",
            "Test 56: Pass\n",
            "Test 57: Pass\n",
            "Test 58: Pass\n",
            "Test 59: Pass\n",
            "Test 60: Pass\n",
            "Test 61: Pass\n",
            "Test 62: Pass\n",
            "Test 63: Pass\n",
            "Test 64: Pass\n",
            "Test 65: Pass\n",
            "Test 66: Pass\n",
            "Test 67: Pass\n",
            "Test 68: Pass\n",
            "Test 69: Pass\n",
            "Test 70: Pass\n",
            "Test 71: Pass\n",
            "Test 72: Pass\n",
            "Test 73: Pass\n",
            "Test 74: Pass\n",
            "Test 75: Pass\n",
            "Test 76: Pass\n",
            "Test 77: Pass\n",
            "Test 78: Pass\n",
            "Test 79: Pass\n",
            "Test 80: Pass\n",
            "Test 81: Pass\n",
            "Test 82: Pass\n",
            "Test 83: Pass\n",
            "Test 84: Pass\n",
            "Test 85: Pass\n",
            "Test 86: Pass\n",
            "Test 87: Pass\n",
            "Test 88: Pass\n",
            "Test 89: Pass\n",
            "Test 90: Pass\n",
            "Test 91: Pass\n",
            "Test 92: Pass\n",
            "Test 93: Pass\n",
            "Test 94: Pass\n",
            "Test 95: Pass\n",
            "Test 96: Pass\n",
            "Test 97: Pass\n",
            "Test 98: Pass\n",
            "Test 99: Pass\n",
            "Test 100: Pass\n"
          ]
        }
      ]
    }
  ],
  "metadata": {
    "colab": {
      "provenance": [],
      "collapsed_sections": [
        "H2SC0Qt5HCzz",
        "gx-sEYdfQ8f8",
        "9z9yr5QkeyJF",
        "JB6f03qO-lj9",
        "FXClpBsUJuXC",
        "fEZR-3V4ZjCv",
        "aoQI8Gh4JzLy",
        "i2c4tGYyJBFp"
      ],
      "include_colab_link": true
    },
    "kernelspec": {
      "display_name": "Python 3",
      "name": "python3"
    },
    "language_info": {
      "name": "python"
    }
  },
  "nbformat": 4,
  "nbformat_minor": 0
}